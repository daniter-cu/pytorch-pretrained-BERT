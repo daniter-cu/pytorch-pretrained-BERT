{
 "cells": [
  {
   "cell_type": "markdown",
   "metadata": {},
   "source": [
    "# Hypothesis 1: The autoreg model distinguishes between answerable and unanswerable questions"
   ]
  },
  {
   "cell_type": "code",
   "execution_count": 75,
   "metadata": {},
   "outputs": [],
   "source": [
    "import csv\n",
    "import matplotlib\n",
    "import numpy as np\n",
    "import json\n",
    "import matplotlib.pyplot as plt\n",
    "%matplotlib inline  "
   ]
  },
  {
   "cell_type": "code",
   "execution_count": 5,
   "metadata": {},
   "outputs": [],
   "source": [
    "losses = []\n",
    "with open(\"results/losses.csv\", \"r\") as handle:\n",
    "    reader = csv.reader(handle)\n",
    "    for row in reader:\n",
    "        losses.append(row)"
   ]
  },
  {
   "cell_type": "code",
   "execution_count": 7,
   "metadata": {},
   "outputs": [],
   "source": [
    "ans_losses = [float(x[1]) for x in losses if x[2] == 'ANS']\n",
    "unans_losses = [float(x[1]) for x in losses if x[2] == 'UNANS']"
   ]
  },
  {
   "cell_type": "code",
   "execution_count": 10,
   "metadata": {},
   "outputs": [
    {
     "name": "stdout",
     "output_type": "stream",
     "text": [
      "0.010899549386591\n",
      "0.011600911090913392\n"
     ]
    }
   ],
   "source": [
    "print(np.mean(ans_losses))\n",
    "print(np.mean(unans_losses))"
   ]
  },
  {
   "cell_type": "code",
   "execution_count": 52,
   "metadata": {},
   "outputs": [
    {
     "data": {
      "image/png": "[encoded data removed]",
      "text/plain": [
       "<Figure size 432x288 with 1 Axes>"
      ]
     },
     "metadata": {
      "needs_background": "light"
     },
     "output_type": "display_data"
    }
   ],
   "source": [
    "#bins = np.linspace(.00000001, .000025, 300)\n",
    "bins = np.linspace(.045, .2, 300)\n",
    "plt.hist(ans_losses, bins, alpha=0.5, label='answerable')\n",
    "plt.hist(unans_losses, bins, alpha=0.5, label='unanswerable')\n",
    "plt.legend(loc='upper right')\n",
    "plt.show()"
   ]
  },
  {
   "cell_type": "code",
   "execution_count": 38,
   "metadata": {},
   "outputs": [
    {
     "data": {
      "text/plain": [
       "0.007729313976597041"
      ]
     },
     "execution_count": 38,
     "metadata": {},
     "output_type": "execute_result"
    }
   ],
   "source": [
    "np.mean(ans_losses[:16*40])"
   ]
  },
  {
   "cell_type": "code",
   "execution_count": 39,
   "metadata": {},
   "outputs": [
    {
     "data": {
      "text/plain": [
       "0.00874836976872757"
      ]
     },
     "execution_count": 39,
     "metadata": {},
     "output_type": "execute_result"
    }
   ],
   "source": [
    "np.mean(unans_losses[:16*40])"
   ]
  },
  {
   "cell_type": "code",
   "execution_count": 40,
   "metadata": {},
   "outputs": [
    {
     "data": {
      "text/plain": [
       "4.946760945022106"
      ]
     },
     "execution_count": 40,
     "metadata": {},
     "output_type": "execute_result"
    }
   ],
   "source": [
    "np.sum(ans_losses[:16*40])"
   ]
  },
  {
   "cell_type": "code",
   "execution_count": 41,
   "metadata": {},
   "outputs": [
    {
     "data": {
      "text/plain": [
       "5.598956651985645"
      ]
     },
     "execution_count": 41,
     "metadata": {},
     "output_type": "execute_result"
    }
   ],
   "source": [
    "np.sum(unans_losses[:16*40])"
   ]
  },
  {
   "cell_type": "code",
   "execution_count": 55,
   "metadata": {},
   "outputs": [],
   "source": [
    "stops = np.linspace(1, 6000, 300)"
   ]
  },
  {
   "cell_type": "code",
   "execution_count": 59,
   "metadata": {},
   "outputs": [],
   "source": [
    "ans_prog = []\n",
    "unans_prog = []\n",
    "xes = []\n",
    "for x in np.round(stops):\n",
    "    x = int(x)\n",
    "    xes.append(x)\n",
    "    ans_prog.append(np.sum(ans_losses[:x]))\n",
    "    unans_prog.append(np.sum(unans_losses[:x]))"
   ]
  },
  {
   "cell_type": "code",
   "execution_count": 65,
   "metadata": {},
   "outputs": [
    {
     "data": {
      "text/plain": [
       "[<matplotlib.lines.Line2D at 0x11c3b0160>]"
      ]
     },
     "execution_count": 65,
     "metadata": {},
     "output_type": "execute_result"
    },
    {
     "data": {
      "image/png": "[encoded data removed]",
      "text/plain": [
       "<Figure size 432x288 with 1 Axes>"
      ]
     },
     "metadata": {
      "needs_background": "light"
     },
     "output_type": "display_data"
    }
   ],
   "source": [
    "plt.plot(xes, ans_prog, color='blue')\n",
    "plt.plot(xes, unans_prog, color='red')"
   ]
  },
  {
   "cell_type": "code",
   "execution_count": 68,
   "metadata": {},
   "outputs": [
    {
     "name": "stdout",
     "output_type": "stream",
     "text": [
      "0.10109114591543816\n",
      "0.10232666909467172\n"
     ]
    }
   ],
   "source": [
    "print(np.mean([l for l in ans_losses if l > 0.04]))\n",
    "print(np.mean([l for l in unans_losses if l > 0.04]))"
   ]
  },
  {
   "cell_type": "code",
   "execution_count": 69,
   "metadata": {},
   "outputs": [
    {
     "name": "stdout",
     "output_type": "stream",
     "text": [
      "0.00038370869128936247\n",
      "0.0003673815082174168\n"
     ]
    }
   ],
   "source": [
    "print(np.mean([l for l in ans_losses if l < 0.04]))\n",
    "print(np.mean([l for l in unans_losses if l < 0.04]))"
   ]
  },
  {
   "cell_type": "code",
   "execution_count": 70,
   "metadata": {},
   "outputs": [
    {
     "name": "stdout",
     "output_type": "stream",
     "text": [
      "Better speed can be achieved with apex installed from https://www.github.com/nvidia/apex.\n"
     ]
    }
   ],
   "source": [
    "from pytorch_pretrained_bert.tokenization import BertTokenizer"
   ]
  },
  {
   "cell_type": "code",
   "execution_count": 71,
   "metadata": {},
   "outputs": [],
   "source": [
    "tokenizer = BertTokenizer.from_pretrained(\"bert-base-uncased\", do_lower_case=True)"
   ]
  },
  {
   "cell_type": "code",
   "execution_count": 76,
   "metadata": {},
   "outputs": [],
   "source": [
    "with open(\"dataset/dev-v2.0.json\", 'r') as handle:\n",
    "    jdata = json.load(handle)\n",
    "    data = jdata['data']\n",
    "\n",
    "id2q = {}\n",
    "for i in range(len(data)):\n",
    "    section = data[i]['paragraphs']\n",
    "    for sec in section:\n",
    "        qas = sec['qas']\n",
    "        for j in range(len(qas)):\n",
    "            question = qas[j]['question']\n",
    "            unanswerable = qas[j]['is_impossible']\n",
    "            id = qas[j]['id']\n",
    "            id2q[id] = question"
   ]
  },
  {
   "cell_type": "code",
   "execution_count": 77,
   "metadata": {},
   "outputs": [],
   "source": [
    "for i, l, tag in losses:\n",
    "    assert i in id2q"
   ]
  },
  {
   "cell_type": "code",
   "execution_count": 79,
   "metadata": {},
   "outputs": [],
   "source": [
    "adjusted_losses = []\n",
    "for idx, l, tag in losses:\n",
    "    l = float(l)\n",
    "    qlen = len(tokenizer.tokenize(id2q[idx]))\n",
    "    adjusted_losses.append([idx, l / qlen, tag])"
   ]
  },
  {
   "cell_type": "code",
   "execution_count": 82,
   "metadata": {},
   "outputs": [],
   "source": [
    "ans_losses = [float(x[1]) for x in adjusted_losses if x[2] == 'ANS']\n",
    "unans_losses = [float(x[1]) for x in adjusted_losses if x[2] == 'UNANS']"
   ]
  },
  {
   "cell_type": "code",
   "execution_count": 83,
   "metadata": {},
   "outputs": [
    {
     "name": "stdout",
     "output_type": "stream",
     "text": [
      "0.0008983249290571931\n",
      "0.0010332992713177405\n"
     ]
    }
   ],
   "source": [
    "print(np.mean(ans_losses))\n",
    "print(np.mean(unans_losses))"
   ]
  },
  {
   "cell_type": "code",
   "execution_count": 84,
   "metadata": {},
   "outputs": [
    {
     "name": "stdout",
     "output_type": "stream",
     "text": [
      "3.14580069647895e-08\n",
      "0.027308174542018344\n"
     ]
    }
   ],
   "source": [
    "print(np.min(ans_losses + unans_losses))\n",
    "print(np.max(ans_losses + unans_losses))"
   ]
  },
  {
   "cell_type": "code",
   "execution_count": 98,
   "metadata": {},
   "outputs": [
    {
     "data": {
      "image/png": "[encoded data removed]",
      "text/plain": [
       "<Figure size 432x288 with 1 Axes>"
      ]
     },
     "metadata": {
      "needs_background": "light"
     },
     "output_type": "display_data"
    }
   ],
   "source": [
    "bins = np.linspace(0, .000005, 500)\n",
    "plt.hist(ans_losses, bins, alpha=0.5, label='answerable')\n",
    "plt.hist(unans_losses, bins, alpha=0.5, label='unanswerable')\n",
    "plt.legend(loc='upper right')\n",
    "plt.show()"
   ]
  },
  {
   "cell_type": "code",
   "execution_count": 101,
   "metadata": {},
   "outputs": [
    {
     "data": {
      "text/plain": [
       "[<matplotlib.lines.Line2D at 0x1275db9e8>]"
      ]
     },
     "execution_count": 101,
     "metadata": {},
     "output_type": "execute_result"
    },
    {
     "data": {
      "image/png": "[encoded data removed]",
      "text/plain": [
       "<Figure size 432x288 with 1 Axes>"
      ]
     },
     "metadata": {
      "needs_background": "light"
     },
     "output_type": "display_data"
    }
   ],
   "source": [
    "ans_prog = []\n",
    "unans_prog = []\n",
    "xes = []\n",
    "for x in np.round(stops):\n",
    "    x = int(x)\n",
    "    xes.append(x)\n",
    "    ans_prog.append(np.sum(ans_losses[:x]))\n",
    "    unans_prog.append(np.sum(unans_losses[:x]))\n",
    "plt.plot(xes, ans_prog, color='blue')\n",
    "plt.plot(xes, unans_prog, color='red')"
   ]
  },
  {
   "cell_type": "code",
   "execution_count": 102,
   "metadata": {},
   "outputs": [],
   "source": [
    "with open(\"dataset/dev-v2.0.json\", 'r') as handle:\n",
    "    jdata = json.load(handle)\n",
    "    data = jdata['data']\n",
    "\n",
    "id2q = {}\n",
    "for i in range(len(data)):\n",
    "    section = data[i]['paragraphs']\n",
    "    for sec in section:\n",
    "        context = sec['context']\n",
    "        qas = sec['qas']\n",
    "        for j in range(len(qas)):\n",
    "            question = qas[j]['question']\n",
    "            unanswerable = qas[j]['is_impossible']\n",
    "            id = qas[j]['id']\n",
    "            id2q[id] = (question, context)"
   ]
  },
  {
   "cell_type": "code",
   "execution_count": 121,
   "metadata": {},
   "outputs": [],
   "source": [
    "from collections import Counter"
   ]
  },
  {
   "cell_type": "code",
   "execution_count": 124,
   "metadata": {},
   "outputs": [],
   "source": [
    "ans_loss_counter = Counter({x[0]:float(x[1]) for x in adjusted_losses if x[2] == 'ANS'})\n",
    "unans_loss_counter = Counter({x[0]:float(x[1]) for x in adjusted_losses if x[2] == 'UNANS'})"
   ]
  },
  {
   "cell_type": "code",
   "execution_count": 127,
   "metadata": {},
   "outputs": [
    {
     "name": "stdout",
     "output_type": "stream",
     "text": [
      "loss: 0.0210401713848114\n",
      "context:\n",
      " The Normans were in contact with England from an early date. Not only were their original Viking brethren still ravaging the English coasts, they occupied most of the important ports opposite England across the English Channel. This relationship eventually produced closer ties of blood through the marriage of Emma, sister of Duke Richard II of Normandy, and King Ethelred II of England. Because of this, Ethelred fled to Normandy in 1013, when he was forced from his kingdom by Sweyn Forkbeard. His stay in Normandy (until 1016) influenced him and his sons by Emma, who stayed in Normandy after Cnut the Great's conquest of the isle.\n",
      "~~~~~~~~~~~~~~~~~~~~\n",
      "question:\n",
      " Who did Emma Marry?\n",
      "####################\n",
      "loss: 0.01971820294857025\n",
      "context:\n",
      " The efficiency of a Rankine cycle is usually limited by the working fluid. Without the pressure reaching supercritical levels for the working fluid, the temperature range the cycle can operate over is quite small; in steam turbines, turbine entry temperatures are typically 565 °C (the creep limit of stainless steel) and condenser temperatures are around 30 °C. This gives a theoretical Carnot efficiency of about 63% compared with an actual efficiency of 42% for a modern coal-fired power station. This low turbine entry temperature (compared with a gas turbine) is why the Rankine cycle is often used as a bottoming cycle in combined-cycle gas turbine power stations.[citation needed]\n",
      "~~~~~~~~~~~~~~~~~~~~\n",
      "question:\n",
      " What is  565 °C the creep limit of?\n",
      "####################\n",
      "loss: 0.01969809681177139\n",
      "context:\n",
      " The origin of the legendary figure is not fully known. The best-known legend, by Artur Oppman, is that long ago two of Triton's daughters set out on a journey through the depths of the oceans and seas. One of them decided to stay on the coast of Denmark and can be seen sitting at the entrance to the port of Copenhagen. The second mermaid reached the mouth of the Vistula River and plunged into its waters. She stopped to rest on a sandy beach by the village of Warszowa, where fishermen came to admire her beauty and listen to her beautiful voice. A greedy merchant also heard her songs; he followed the fishermen and captured the mermaid.\n",
      "~~~~~~~~~~~~~~~~~~~~\n",
      "question:\n",
      " What did a greedy merchant do to the mermaid?\n",
      "####################\n",
      "loss: 0.018332967162132265\n",
      "context:\n",
      " By far the most famous work of Norman art is the Bayeux Tapestry, which is not a tapestry but a work of embroidery. It was commissioned by Odo, the Bishop of Bayeux and first Earl of Kent, employing natives from Kent who were learned in the Nordic traditions imported in the previous half century by the Danish Vikings.\n",
      "~~~~~~~~~~~~~~~~~~~~\n",
      "question:\n",
      " Who commissioned the Tapestry?\n",
      "####################\n",
      "loss: 0.018235338230927784\n",
      "context:\n",
      " When rock units are placed under horizontal compression, they shorten and become thicker. Because rock units, other than muds, do not significantly change in volume, this is accomplished in two primary ways: through faulting and folding. In the shallow crust, where brittle deformation can occur, thrust faults form, which cause deeper rock to move on top of shallower rock. Because deeper rock is often older, as noted by the principle of superposition, this can result in older rocks moving on top of younger ones. Movement along faults can result in folding, either because the faults are not planar or because rock layers are dragged along, forming drag folds as slip occurs along the fault. Deeper in the Earth, rocks behave plastically, and fold instead of faulting. These folds can either be those where the material in the center of the fold buckles upwards, creating \"antiforms\", or where it buckles downwards, creating \"synforms\". If the tops of the rock units within the folds remain pointing upwards, they are called anticlines and synclines, respectively. If some of the units in the fold are facing downward, the structure is called an overturned anticline or syncline, and if all of the rock units are overturned or the correct up-direction is unknown, they are simply called by the most general terms, antiforms and synforms.\n",
      "~~~~~~~~~~~~~~~~~~~~\n",
      "question:\n",
      " Where do thrust faults form?\n",
      "####################\n"
     ]
    }
   ],
   "source": [
    "for idx, loss in ans_loss_counter.most_common()[:5]:\n",
    "    print(\"loss:\", loss)\n",
    "    print(\"context:\\n\", id2q[idx][1])\n",
    "    print(\"~\"*20)\n",
    "    print(\"question:\\n\", id2q[idx][0])\n",
    "    print(\"#\"*20)"
   ]
  },
  {
   "cell_type": "code",
   "execution_count": 128,
   "metadata": {},
   "outputs": [
    {
     "name": "stdout",
     "output_type": "stream",
     "text": [
      "loss: 0.027308174542018344\n",
      "context:\n",
      " Jacksonville is in the First Coast region of northeast Florida and is centered on the banks of the St. Johns River, about 25 miles (40 km) south of the Georgia state line and about 340 miles (550 km) north of Miami. The Jacksonville Beaches communities are along the adjacent Atlantic coast. The area was originally inhabited by the Timucua people, and in 1564 was the site of the French colony of Fort Caroline, one of the earliest European settlements in what is now the continental United States. Under British rule, settlement grew at the narrow point in the river where cattle crossed, known as Wacca Pilatka to the Seminole and the Cow Ford to the British. A platted town was established there in 1822, a year after the United States gained Florida from Spain; it was named after Andrew Jackson, the first military governor of the Florida Territory and seventh President of the United States.\n",
      "~~~~~~~~~~~~~~~~~~~~\n",
      "question:\n",
      " What cities 340 km from Jacksonville?\n",
      "####################\n",
      "loss: 0.024383457998434704\n",
      "context:\n",
      " \"Southern California\" is not a formal geographic designation, and definitions of what constitutes southern California vary. Geographically, California's north-south midway point lies at exactly 37° 9' 58.23\" latitude, around 11 miles (18 km) south of San Jose; however, this does not coincide with popular use of the term. When the state is divided into two areas (northern and southern California), the term \"southern California\" usually refers to the ten southern-most counties of the state. This definition coincides neatly with the county lines at 35° 47′ 28″ north latitude, which form the northern borders of San Luis Obispo, Kern, and San Bernardino counties. Another definition for southern California uses Point Conception and the Tehachapi Mountains as the northern boundary.\n",
      "~~~~~~~~~~~~~~~~~~~~\n",
      "question:\n",
      " What lies at 35° 48′ 27″ north latitude?\n",
      "####################\n",
      "loss: 0.022847624123096467\n",
      "context:\n",
      " Further south the Southeast interior was dominated by Siouan-speaking Catawba, Muskogee-speaking Creek and Choctaw, and the Iroquoian-speaking Cherokee tribes. When war broke out, the French used their trading connections to recruit fighters from tribes in western portions of the Great Lakes region (an area not directly subject to the conflict between the French and British), including the Huron, Mississauga, Ojibwa, Winnebago, and Potawatomi. The British were supported in the war by the Iroquois Six Nations, and also by the Cherokee – until differences sparked the Anglo-Cherokee War in 1758. In 1758 the Pennsylvania government successfully negotiated the Treaty of Easton, in which a number of tribes in the Ohio Country promised neutrality in exchange for land concessions and other considerations. Most of the other northern tribes sided with the French, their primary trading partner and supplier of arms. The Creek and Cherokee were subject to diplomatic efforts by both the French and British to gain either their support or neutrality in the conflict. It was not uncommon for small bands to participate on the \"other side\" of the conflict from formally negotiated agreements, as most tribes were decentralized and bands made their own decisions about warfare.\n",
      "~~~~~~~~~~~~~~~~~~~~\n",
      "question:\n",
      " What tribes hated British?\n",
      "####################\n",
      "loss: 0.021834833920001982\n",
      "context:\n",
      " In the laboratory, stratigraphers analyze samples of stratigraphic sections that can be returned from the field, such as those from drill cores. Stratigraphers also analyze data from geophysical surveys that show the locations of stratigraphic units in the subsurface. Geophysical data and well logs can be combined to produce a better view of the subsurface, and stratigraphers often use computer programs to do this in three dimensions. Stratigraphers can then use these data to reconstruct ancient processes occurring on the surface of the Earth, interpret past environments, and locate areas for water, coal, and hydrocarbon extraction.\n",
      "~~~~~~~~~~~~~~~~~~~~\n",
      "question:\n",
      " What are well logs?\n",
      "####################\n",
      "loss: 0.019920384883880614\n",
      "context:\n",
      " Following the Cretaceous–Paleogene extinction event, the extinction of the dinosaurs and the wetter climate may have allowed the tropical rainforest to spread out across the continent. From 66–34 Mya, the rainforest extended as far south as 45°. Climate fluctuations during the last 34 million years have allowed savanna regions to expand into the tropics. During the Oligocene, for example, the rainforest spanned a relatively narrow band. It expanded again during the Middle Miocene, then retracted to a mostly inland formation at the last glacial maximum. However, the rainforest still managed to thrive during these glacial periods, allowing for the survival and evolution of a broad diversity of species.\n",
      "~~~~~~~~~~~~~~~~~~~~\n",
      "question:\n",
      " Climate fluctuations have stopped the savanna from doing what?\n",
      "####################\n"
     ]
    }
   ],
   "source": [
    "for idx, loss in unans_loss_counter.most_common()[:5]:\n",
    "    print(\"loss:\", loss)\n",
    "    print(\"context:\\n\", id2q[idx][1])\n",
    "    print(\"~\"*20)\n",
    "    print(\"question:\\n\", id2q[idx][0])\n",
    "    print(\"#\"*20)"
   ]
  },
  {
   "cell_type": "code",
   "execution_count": 129,
   "metadata": {},
   "outputs": [
    {
     "name": "stdout",
     "output_type": "stream",
     "text": [
      "loss: 4.6359168158637154e-08\n",
      "context:\n",
      " With Istanbul as its capital and control of lands around the Mediterranean basin, the Ottoman Empire was at the center of interactions between the Eastern and Western worlds for six centuries. Following a long period of military setbacks against European powers, the Ottoman Empire gradually declined into the late nineteenth century. The empire allied with Germany in the early 20th century, with the imperial ambition of recovering its lost territories, but it dissolved in the aftermath of World War I, leading to the emergence of the new state of Turkey in the Ottoman Anatolian heartland, as well as the creation of modern Balkan and Middle Eastern states, thus ending Turkish colonial ambitions.\n",
      "~~~~~~~~~~~~~~~~~~~~\n",
      "question:\n",
      " What was the capital of the Ottoman empire?\n",
      "####################\n",
      "loss: 4.6193599700927736e-08\n",
      "context:\n",
      " However, in 1883–84 Germany began to build a colonial empire in Africa and the South Pacific, before losing interest in imperialism. Historians have debated exactly why Germany made this sudden and short-lived move.[verification needed] Bismarck was aware that public opinion had started to demand colonies for reasons of German prestige. He was influenced by Hamburg merchants and traders, his neighbors at Friedrichsruh. The establishment of the German colonial empire proceeded smoothly, starting with German New Guinea in 1884.\n",
      "~~~~~~~~~~~~~~~~~~~~\n",
      "question:\n",
      " What was the name of the first German settlement?\n",
      "####################\n",
      "loss: 4.3047799004448784e-08\n",
      "context:\n",
      " The variant forms of the name of the Rhine in modern languages are all derived from the Gaulish name Rēnos, which was adapted in Roman-era geography (1st century BC) as Greek Ῥῆνος (Rhēnos), Latin Rhenus.[note 3] The spelling with Rh- in English Rhine as well as in German Rhein and French Rhin is due to the influence of Greek orthography, while the vocalisation -i- is due to the Proto-Germanic adoption of the Gaulish name as *Rīnaz, via Old Frankish giving Old English Rín, Old High German Rīn, Dutch Rijn (formerly also spelled Rhijn)). The diphthong in modern German Rhein (also adopted in Romansh Rein, Rain) is a Central German development of the early modern period, the Alemannic name Rī(n) retaining the older vocalism,[note 4] as does Ripuarian Rhing, while Palatine has diphthongized Rhei, Rhoi. Spanish is with French in adopting the Germanic vocalism Rin-, while Italian, Occitan and Portuguese retain the Latin Ren-.\n",
      "~~~~~~~~~~~~~~~~~~~~\n",
      "question:\n",
      " What is the French name for the Rhine? \n",
      "####################\n",
      "loss: 4.1723251342773435e-08\n",
      "context:\n",
      " The 1973 oil crisis began in October 1973 when the members of the Organization of Arab Petroleum Exporting Countries (OAPEC, consisting of the Arab members of OPEC plus Egypt and Syria) proclaimed an oil embargo. By the end of the embargo in March 1974, the price of oil had risen from US$3 per barrel to nearly $12 globally; US prices were significantly higher. The embargo caused an oil crisis, or \"shock\", with many short- and long-term effects on global politics and the global economy. It was later called the \"first oil shock\", followed by the 1979 oil crisis, termed the \"second oil shock.\"\n",
      "~~~~~~~~~~~~~~~~~~~~\n",
      "question:\n",
      " What was another term used for the oil crisis?\n",
      "####################\n",
      "loss: 3.9736429850260414e-08\n",
      "context:\n",
      " About 61.1% of Victorians describe themselves as Christian. Roman Catholics form the single largest religious group in the state with 26.7% of the Victorian population, followed by Anglicans and members of the Uniting Church. Buddhism is the state's largest non-Christian religion, with 168,637 members as of the most recent census. Victoria is also home of 152,775 Muslims and 45,150 Jews. Hinduism is the fastest growing religion. Around 20% of Victorians claim no religion. Amongst those who declare a religious affiliation, church attendance is low.\n",
      "~~~~~~~~~~~~~~~~~~~~\n",
      "question:\n",
      " How many Victorians are non-religious?\n",
      "####################\n"
     ]
    }
   ],
   "source": [
    "for idx, loss in ans_loss_counter.most_common()[-5:]:\n",
    "    print(\"loss:\", loss)\n",
    "    print(\"context:\\n\", id2q[idx][1])\n",
    "    print(\"~\"*20)\n",
    "    print(\"question:\\n\", id2q[idx][0])\n",
    "    print(\"#\"*20)"
   ]
  },
  {
   "cell_type": "code",
   "execution_count": 130,
   "metadata": {},
   "outputs": [
    {
     "name": "stdout",
     "output_type": "stream",
     "text": [
      "loss: 4.842877388000488e-08\n",
      "context:\n",
      " In World War II, it was recognised that the Rhine would present a formidable natural obstacle to the invasion of Germany, by the Western Allies. The Rhine bridge at Arnhem, immortalized in the book, A Bridge Too Far and the film, was a central focus of the battle for Arnhem, during the failed Operation Market Garden of September 1944. The bridges at Nijmegen, over the Waal distributary of the Rhine, were also an objective of Operation Market Garden. In a separate operation, the Ludendorff Bridge, crossing the Rhine at Remagen, became famous, when U.S. forces were able to capture it intact – much to their own surprise – after the Germans failed to demolish it. This also became the subject of a film, The Bridge at Remagen. Seven Days to the River Rhine was a Warsaw Pact war plan for an invasion of Western Europe during the Cold War.\n",
      "~~~~~~~~~~~~~~~~~~~~\n",
      "question:\n",
      " How long did the Cold War last?\n",
      "####################\n",
      "loss: 4.6566128730773926e-08\n",
      "context:\n",
      " Victoria (abbreviated as Vic) is a state in the south-east of Australia. Victoria is Australia's most densely populated state and its second-most populous state overall. Most of its population is concentrated in the area surrounding Port Phillip Bay, which includes the metropolitan area of its capital and largest city, Melbourne, which is Australia's second-largest city. Geographically the smallest state on the Australian mainland, Victoria is bordered by Bass Strait and Tasmania to the south,[note 1] New South Wales to the north, the Tasman Sea to the east, and South Australia to the west.\n",
      "~~~~~~~~~~~~~~~~~~~~\n",
      "question:\n",
      " What city is the capital of Australia?\n",
      "####################\n",
      "loss: 4.6193599700927736e-08\n",
      "context:\n",
      " With Istanbul as its capital and control of lands around the Mediterranean basin, the Ottoman Empire was at the center of interactions between the Eastern and Western worlds for six centuries. Following a long period of military setbacks against European powers, the Ottoman Empire gradually declined into the late nineteenth century. The empire allied with Germany in the early 20th century, with the imperial ambition of recovering its lost territories, but it dissolved in the aftermath of World War I, leading to the emergence of the new state of Turkey in the Ottoman Anatolian heartland, as well as the creation of modern Balkan and Middle Eastern states, thus ending Turkish colonial ambitions.\n",
      "~~~~~~~~~~~~~~~~~~~~\n",
      "question:\n",
      "  What was not the capital of the Ottoman empire?\n",
      "####################\n",
      "loss: 4.284083843231201e-08\n",
      "context:\n",
      " The 2010 United States Census reported that Fresno had a population of 494,665. The population density was 4,404.5 people per square mile (1,700.6/km²). The racial makeup of Fresno was 245,306 (49.6%) White, 40,960 (8.3%) African American, 8,525 (1.7%) Native American, 62,528 (12.6%) Asian (3.6% Hmong, 1.7% Indian, 1.2% Filipino, 1.2% Laotian, 1.0% Thai, 0.8% Cambodian, 0.7% Chinese, 0.5% Japanese, 0.4% Vietnamese, 0.2% Korean), 849 (0.2%) Pacific Islander, 111,984 (22.6%) from other races, and 24,513 (5.0%) from two or more races. Hispanic or Latino of any race were 232,055 persons (46.9%). Among the Hispanic population, 42.7% of the total population are Mexican, 0.4% Salvadoran, and 0.4% Puerto Rican. Non-Hispanic Whites were 30.0% of the population in 2010, down from 72.6% in 1970.\n",
      "~~~~~~~~~~~~~~~~~~~~\n",
      "question:\n",
      " What was the US population in 2010?\n",
      "####################\n",
      "loss: 3.14580069647895e-08\n",
      "context:\n",
      " Around 2.5 million years ago (ending 11,600 years ago) was the geological period of the Ice Ages. Since approximately 600,000 years ago, six major Ice Ages have occurred, in which sea level dropped 120 m (390 ft) and much of the continental margins became exposed. In the Early Pleistocene, the Rhine followed a course to the northwest, through the present North Sea. During the so-called Anglian glaciation (~450,000 yr BP, marine oxygen isotope stage 12), the northern part of the present North Sea was blocked by the ice and a large lake developed, that overflowed through the English Channel. This caused the Rhine's course to be diverted through the English Channel. Since then, during glacial times, the river mouth was located offshore of Brest, France and rivers, like the Thames and the Seine, became tributaries to the Rhine. During interglacials, when sea level rose to approximately the present level, the Rhine built deltas, in what is now the Netherlands.\n",
      "~~~~~~~~~~~~~~~~~~~~\n",
      "question:\n",
      " What country is the English Channel located in?\n",
      "####################\n"
     ]
    }
   ],
   "source": [
    "for idx, loss in unans_loss_counter.most_common()[-5:]:\n",
    "    print(\"loss:\", loss)\n",
    "    print(\"context:\\n\", id2q[idx][1])\n",
    "    print(\"~\"*20)\n",
    "    print(\"question:\\n\", id2q[idx][0])\n",
    "    print(\"#\"*20)"
   ]
  },
  {
   "cell_type": "code",
   "execution_count": null,
   "metadata": {},
   "outputs": [],
   "source": []
  }
 ],
 "metadata": {
  "kernelspec": {
   "display_name": "Python 3",
   "language": "python",
   "name": "python3"
  },
  "language_info": {
   "codemirror_mode": {
    "name": "ipython",
    "version": 3
   },
   "file_extension": ".py",
   "mimetype": "text/x-python",
   "name": "python",
   "nbconvert_exporter": "python",
   "pygments_lexer": "ipython3",
   "version": "3.7.2"
  }
 },
 "nbformat": 4,
 "nbformat_minor": 2
}
