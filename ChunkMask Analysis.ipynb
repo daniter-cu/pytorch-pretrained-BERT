{
 "cells": [
  {
   "cell_type": "markdown",
   "metadata": {},
   "source": [
    "# Hypothesis 1: The autoreg model distinguishes between answerable and unanswerable questions"
   ]
  },
  {
   "cell_type": "code",
   "execution_count": 73,
   "metadata": {},
   "outputs": [],
   "source": [
    "import csv\n",
    "import matplotlib\n",
    "import numpy as np\n",
    "import json\n",
    "import matplotlib.pyplot as plt\n",
    "%matplotlib inline  "
   ]
  },
  {
   "cell_type": "code",
   "execution_count": 2,
   "metadata": {},
   "outputs": [],
   "source": [
    "losses = []\n",
    "with open(\"results/chunk_mask/chunk_losses.csv\", \"r\") as handle:\n",
    "    reader = csv.reader(handle)\n",
    "    for row in reader:\n",
    "        losses.append(row)"
   ]
  },
  {
   "cell_type": "code",
   "execution_count": 3,
   "metadata": {},
   "outputs": [],
   "source": [
    "ans_losses = [float(x[2]) for x in losses if x[3] == 'ANS']\n",
    "unans_losses = [float(x[2]) for x in losses if x[3] == 'UNANS']"
   ]
  },
  {
   "cell_type": "code",
   "execution_count": 4,
   "metadata": {},
   "outputs": [
    {
     "name": "stdout",
     "output_type": "stream",
     "text": [
      "0.2844155067799041\n",
      "0.49679119683132217\n"
     ]
    }
   ],
   "source": [
    "print(np.mean(ans_losses))\n",
    "print(np.mean(unans_losses))"
   ]
  },
  {
   "cell_type": "code",
   "execution_count": 6,
   "metadata": {},
   "outputs": [
    {
     "name": "stdout",
     "output_type": "stream",
     "text": [
      "9.809221410250757e-06\n",
      "9.854634299699683e-06\n",
      "5.493630886077881\n",
      "5.3871846199035645\n",
      "0.5050822262863252\n",
      "0.7544866940400428\n"
     ]
    }
   ],
   "source": [
    "print(np.min(ans_losses))\n",
    "print(np.min(unans_losses))\n",
    "print(np.max(ans_losses))\n",
    "print(np.max(unans_losses))\n",
    "print(np.std(ans_losses))\n",
    "print(np.std(unans_losses))"
   ]
  },
  {
   "cell_type": "code",
   "execution_count": 10,
   "metadata": {},
   "outputs": [
    {
     "data": {
      "image/png": "[encoded data removed]",
      "text/plain": [
       "<Figure size 432x288 with 1 Axes>"
      ]
     },
     "metadata": {
      "needs_background": "light"
     },
     "output_type": "display_data"
    }
   ],
   "source": [
    "#bins = np.linspace(.00000001, .000025, 300)\n",
    "bins = np.linspace(.05, 2, 500)\n",
    "plt.hist(ans_losses, bins, alpha=0.5, label='answerable')\n",
    "plt.hist(unans_losses, bins, alpha=0.5, label='unanswerable')\n",
    "plt.legend(loc='upper right')\n",
    "plt.show()"
   ]
  },
  {
   "cell_type": "code",
   "execution_count": 15,
   "metadata": {},
   "outputs": [],
   "source": [
    "stops = np.linspace(1, 6000, 300)"
   ]
  },
  {
   "cell_type": "code",
   "execution_count": 16,
   "metadata": {},
   "outputs": [],
   "source": [
    "ans_prog = []\n",
    "unans_prog = []\n",
    "xes = []\n",
    "for x in np.round(stops):\n",
    "    x = int(x)\n",
    "    xes.append(x)\n",
    "    ans_prog.append(np.sum(ans_losses[:x]))\n",
    "    unans_prog.append(np.sum(unans_losses[:x]))"
   ]
  },
  {
   "cell_type": "code",
   "execution_count": 24,
   "metadata": {},
   "outputs": [],
   "source": [
    "import pickle"
   ]
  },
  {
   "cell_type": "code",
   "execution_count": 54,
   "metadata": {},
   "outputs": [],
   "source": [
    "with open(\"dataset/dev-v2.0.json\", 'r') as handle:\n",
    "    jdata = json.load(handle)\n",
    "    data = jdata['data']\n",
    "\n",
    "questions = []\n",
    "contexts = []\n",
    "qids = []\n",
    "id2idx = {}\n",
    "q2c = {}\n",
    "for i in range(len(data)):\n",
    "    section = data[i]['paragraphs']\n",
    "    for sec in section:\n",
    "        qas = sec['qas']\n",
    "        context = sec['context']\n",
    "        contexts.append(context)\n",
    "        for j in range(len(qas)):\n",
    "            question = qas[j]['question']\n",
    "            unanswerable = qas[j]['is_impossible']\n",
    "            id = qas[j]['id']\n",
    "            id2idx[id] = len(questions)\n",
    "            questions.append(question)\n",
    "            qids.append(id)\n",
    "            q2c[id] = len(contexts)-1\n",
    "            \n",
    "\n",
    "with open(\"val_data_chunks.pkl\", \"rb\") as handle:\n",
    "    mask_data_map = pickle.load(handle)"
   ]
  },
  {
   "cell_type": "code",
   "execution_count": 29,
   "metadata": {},
   "outputs": [
    {
     "data": {
      "text/plain": [
       "(11873, 11873, 11873)"
      ]
     },
     "execution_count": 29,
     "metadata": {},
     "output_type": "execute_result"
    }
   ],
   "source": [
    "len(questions), len(mask_data_map), len(losses)"
   ]
  },
  {
   "cell_type": "code",
   "execution_count": 71,
   "metadata": {},
   "outputs": [
    {
     "data": {
      "text/plain": [
       "12"
      ]
     },
     "execution_count": 71,
     "metadata": {},
     "output_type": "execute_result"
    }
   ],
   "source": [
    "np.sum(np.array(unans_losses) < min(unans_losses) + .00001)"
   ]
  },
  {
   "cell_type": "code",
   "execution_count": 65,
   "metadata": {},
   "outputs": [
    {
     "data": {
      "text/plain": [
       "17"
      ]
     },
     "execution_count": 65,
     "metadata": {},
     "output_type": "execute_result"
    }
   ],
   "source": [
    "np.sum(np.array(ans_losses) < min(ans_losses) + .00001)"
   ]
  },
  {
   "cell_type": "code",
   "execution_count": 56,
   "metadata": {},
   "outputs": [
    {
     "name": "stdout",
     "output_type": "stream",
     "text": [
      "Extension causes the rock units as a whole to become longer and thinner. This is primarily accomplished through normal faulting and through the ductile stretching and thinning. Normal faults drop rock units that are higher below those that are lower. This typically results in younger units being placed below older units. Stretching of units can result in their thinning; in fact, there is a location within the Maria Fold and Thrust Belt in which the entire sedimentary sequence of the Grand Canyon can be seen over a length of less than a meter. Rocks at the depth to be ductilely stretched are often also metamorphosed. These stretched rocks can also pinch into lenses, known as boudins, after the French word for \"sausage\", because of their visual similarity.\n",
      "~~~~~~~~~~~~~~~~~~~~\n",
      "What causes rock extension?\n",
      "~~~~~~~~~~~~~~~~~~~~\n",
      "['what', 'causes', '[MASK]', '[MASK]', '?']\n",
      "~~~~~~~~~~~~~~~~~~~~\n",
      "3.523505926132202\n",
      "####################\n",
      "Most of the Huguenot congregations (or individuals) in North America eventually affiliated with other Protestant denominations with more numerous members. The Huguenots adapted quickly and often married outside their immediate French communities, which led to their assimilation. Their descendants in many families continued to use French first names and surnames for their children well into the nineteenth century. Assimilated, the French made numerous contributions to United States economic life, especially as merchants and artisans in the late Colonial and early Federal periods. For example, E.I. du Pont, a former student of Lavoisier, established the Eleutherian gunpowder mills.\n",
      "~~~~~~~~~~~~~~~~~~~~\n",
      "Who was one prominent Huguenot-descended arms manufacturer?\n",
      "~~~~~~~~~~~~~~~~~~~~\n",
      "['who', 'was', '[MASK]', '[MASK]', '[MASK]', '[MASK]', '[MASK]', '[MASK]', '[MASK]', '[MASK]', '[MASK]', '?']\n",
      "~~~~~~~~~~~~~~~~~~~~\n",
      "4.053136348724365\n",
      "####################\n",
      "Cydippid ctenophores have bodies that are more or less rounded, sometimes nearly spherical and other times more cylindrical or egg-shaped; the common coastal \"sea gooseberry,\" Pleurobrachia, sometimes has an egg-shaped body with the mouth at the narrow end, although some individuals are more uniformly round. From opposite sides of the body extends a pair of long, slender tentacles, each housed in a sheath into which it can be withdrawn. Some species of cydippids have bodies that are flattened to various extents, so that they are wider in the plane of the tentacles.\n",
      "~~~~~~~~~~~~~~~~~~~~\n",
      "What is the common coastal pleurobrachia called?\n",
      "~~~~~~~~~~~~~~~~~~~~\n",
      "['what', 'is', '[MASK]', '[MASK]', '[MASK]', '[MASK]', '[MASK]', '[MASK]', '[MASK]', '[MASK]', 'called', '?']\n",
      "~~~~~~~~~~~~~~~~~~~~\n",
      "3.506330966949463\n",
      "####################\n",
      "Emperor Gegeen Khan, Ayurbarwada's son and successor, ruled for only two years, from 1321 to 1323. He continued his father's policies to reform the government based on the Confucian principles, with the help of his newly appointed grand chancellor Baiju. During his reign, the Da Yuan Tong Zhi (Chinese: 大元通制, \"the comprehensive institutions of the Great Yuan\"), a huge collection of codes and regulations of the Yuan dynasty begun by his father, was formally promulgated. Gegeen was assassinated in a coup involving five princes from a rival faction, perhaps steppe elite opposed to Confucian reforms. They placed Yesün Temür (or Taidingdi) on the throne, and, after an unsuccessful attempt to calm the princes, he also succumbed to regicide.\n",
      "~~~~~~~~~~~~~~~~~~~~\n",
      "When was Geegen the emperor?\n",
      "~~~~~~~~~~~~~~~~~~~~\n",
      "['when', 'was', '[MASK]', '[MASK]', 'the', 'emperor', '?']\n",
      "~~~~~~~~~~~~~~~~~~~~\n",
      "3.5085017681121826\n",
      "####################\n",
      "Philosophers in antiquity used the concept of force in the study of stationary and moving objects and simple machines, but thinkers such as Aristotle and Archimedes retained fundamental errors in understanding force. In part this was due to an incomplete understanding of the sometimes non-obvious force of friction, and a consequently inadequate view of the nature of natural motion. A fundamental error was the belief that a force is required to maintain motion, even at a constant velocity. Most of the previous misunderstandings about motion and force were eventually corrected by Galileo Galilei and Sir Isaac Newton. With his mathematical insight, Sir Isaac Newton formulated laws of motion that were not improved-on for nearly three hundred years. By the early 20th century, Einstein developed a theory of relativity that correctly predicted the action of forces on objects with increasing momenta near the speed of light, and also provided insight into the forces produced by gravitation and inertia.\n",
      "~~~~~~~~~~~~~~~~~~~~\n",
      "Who had mathmatical insite?\n",
      "~~~~~~~~~~~~~~~~~~~~\n",
      "['who', 'had', '[MASK]', '[MASK]', '[MASK]', '[MASK]', '[MASK]', '?']\n",
      "~~~~~~~~~~~~~~~~~~~~\n",
      "4.524794101715088\n",
      "####################\n",
      "In 1973, Nixon named William E. Simon as the first Administrator of the Federal Energy Office, a short-term organization created to coordinate the response to the embargo. Simon allocated states the same amount of domestic oil for 1974 that each had consumed in 1972, which worked for states whose populations were not increasing. In other states, lines at gasoline stations were common. The American Automobile Association reported that in the last week of February 1974, 20% of American gasoline stations had no fuel.\n",
      "~~~~~~~~~~~~~~~~~~~~\n",
      "Why was this short termed organization created?\n",
      "~~~~~~~~~~~~~~~~~~~~\n",
      "['why', 'was', '[MASK]', '[MASK]', '[MASK]', '[MASK]', 'created', '?']\n",
      "~~~~~~~~~~~~~~~~~~~~\n",
      "5.493630886077881\n",
      "####################\n",
      "In addition to the Riemann hypothesis, many more conjectures revolving about primes have been posed. Often having an elementary formulation, many of these conjectures have withstood a proof for decades: all four of Landau's problems from 1912 are still unsolved. One of them is Goldbach's conjecture, which asserts that every even integer n greater than 2 can be written as a sum of two primes. As of February 2011[update], this conjecture has been verified for all numbers up to n = 2 · 1017. Weaker statements than this have been proven, for example Vinogradov's theorem says that every sufficiently large odd integer can be written as a sum of three primes. Chen's theorem says that every sufficiently large even number can be expressed as the sum of a prime and a semiprime, the product of two primes. Also, any even integer can be written as the sum of six primes. The branch of number theory studying such questions is called additive number theory.\n",
      "~~~~~~~~~~~~~~~~~~~~\n",
      "When did Landau propose his four conjectural problems?\n",
      "~~~~~~~~~~~~~~~~~~~~\n",
      "['when', 'did', 'landau', 'propose', '[MASK]', '[MASK]', '[MASK]', '[MASK]', '[MASK]', '[MASK]', '?']\n",
      "~~~~~~~~~~~~~~~~~~~~\n",
      "3.8366332054138184\n",
      "####################\n",
      "Plague was reportedly first introduced to Europe via Genoese traders at the port city of Kaffa in the Crimea in 1347. After a protracted siege, during which the Mongol army under Jani Beg was suffering from the disease, the army catapulted the infected corpses over the city walls of Kaffa to infect the inhabitants. The Genoese traders fled, taking the plague by ship into Sicily and the south of Europe, whence it spread north. Whether or not this hypothesis is accurate, it is clear that several existing conditions such as war, famine, and weather contributed to the severity of the Black Death.\n",
      "~~~~~~~~~~~~~~~~~~~~\n",
      "Who did the army siege belong to?\n",
      "~~~~~~~~~~~~~~~~~~~~\n",
      "['who', 'did', '[MASK]', '[MASK]', '[MASK]', 'belong', 'to', '?']\n",
      "~~~~~~~~~~~~~~~~~~~~\n",
      "3.5732474327087402\n",
      "####################\n",
      "Throughout the 18th century, Enlightenment ideas of the power of reason and free will became widespread among Congregationalist ministers, putting those ministers and their congregations in tension with more traditionalist, Calvinist parties.:1–4 When the Hollis Professor of Divinity David Tappan died in 1803 and the president of Harvard Joseph Willard died a year later, in 1804, a struggle broke out over their replacements. Henry Ware was elected to the chair in 1805, and the liberal Samuel Webber was appointed to the presidency of Harvard two years later, which signaled the changing of the tide from the dominance of traditional ideas at Harvard to the dominance of liberal, Arminian ideas (defined by traditionalists as Unitarian ideas).:4–5:24\n",
      "~~~~~~~~~~~~~~~~~~~~\n",
      "In what year did Harvard President Joseph Willard die?\n",
      "~~~~~~~~~~~~~~~~~~~~\n",
      "['in', 'what', 'year', 'did', '[MASK]', '[MASK]', '[MASK]', '[MASK]', 'die', '?']\n",
      "~~~~~~~~~~~~~~~~~~~~\n",
      "3.55722975730896\n",
      "####################\n"
     ]
    },
    {
     "name": "stdout",
     "output_type": "stream",
     "text": [
      "British victories continued in all theaters in the Annus Mirabilis of 1759, when they finally captured Ticonderoga, James Wolfe defeated Montcalm at Quebec (in a battle that claimed the lives of both commanders), and victory at Fort Niagara successfully cut off the French frontier forts further to the west and south. The victory was made complete in 1760 when, despite losing outside Quebec City in the Battle of Sainte-Foy, the British were able to prevent the arrival of French relief ships in the naval Battle of the Restigouche while armies marched on Montreal from three sides.\n",
      "~~~~~~~~~~~~~~~~~~~~\n",
      "Who defeated Montcalm at Quebec?\n",
      "~~~~~~~~~~~~~~~~~~~~\n",
      "['who', 'defeated', '[MASK]', '[MASK]', '[MASK]', '[MASK]', '[MASK]', '?']\n",
      "~~~~~~~~~~~~~~~~~~~~\n",
      "4.1232500076293945\n",
      "####################\n"
     ]
    }
   ],
   "source": [
    "for loss in losses:\n",
    "    if loss[-1] == 'UNANS':\n",
    "        continue\n",
    "    if float(loss[2]) > max(ans_losses) - 2:\n",
    "        id, mask_id, loss, _ = loss\n",
    "        mask_id = int(mask_id)\n",
    "        question = questions[id2idx[id]]\n",
    "        mask = mask_data_map[id2idx[id]][mask_id][0]\n",
    "        context = contexts[q2c[id]]\n",
    "        print(context)\n",
    "        print(\"~\"*20)\n",
    "        print(question)\n",
    "        print(\"~\"*20)\n",
    "        print(mask)\n",
    "        print(\"~\"*20)\n",
    "        print(loss)\n",
    "        print(\"#\"*20)"
   ]
  },
  {
   "cell_type": "code",
   "execution_count": 58,
   "metadata": {},
   "outputs": [
    {
     "name": "stdout",
     "output_type": "stream",
     "text": [
      "are prime. Prime numbers of this form are known as factorial primes. Other primes where either p + 1 or p − 1 is of a particular shape include the Sophie Germain primes (primes of the form 2p + 1 with p prime), primorial primes, Fermat primes and Mersenne primes, that is, prime numbers that are of the form 2p − 1, where p is an arbitrary prime. The Lucas–Lehmer test is particularly fast for numbers of this form. This is why the largest known prime has almost always been a Mersenne prime since the dawn of electronic computers.\n",
      "~~~~~~~~~~~~~~~~~~~~\n",
      "Of what form are Sophie Germain tests?\n",
      "~~~~~~~~~~~~~~~~~~~~\n",
      "['of', 'what', 'form', 'are', '[MASK]', '[MASK]', '[MASK]', '?']\n",
      "~~~~~~~~~~~~~~~~~~~~\n",
      "4.431605339050293\n",
      "####################\n",
      "Charles W. Eliot, president 1869–1909, eliminated the favored position of Christianity from the curriculum while opening it to student self-direction. While Eliot was the most crucial figure in the secularization of American higher education, he was motivated not by a desire to secularize education, but by Transcendentalist Unitarian convictions. Derived from William Ellery Channing and Ralph Waldo Emerson, these convictions were focused on the dignity and worth of human nature, the right and ability of each person to perceive truth, and the indwelling God in each person.\n",
      "~~~~~~~~~~~~~~~~~~~~\n",
      "During what years was William Ellery Channing President of Harvard?\n",
      "~~~~~~~~~~~~~~~~~~~~\n",
      "['during', 'what', 'years', 'was', '[MASK]', '[MASK]', '[MASK]', '[MASK]', '[MASK]', 'president', 'of', 'harvard', '?']\n",
      "~~~~~~~~~~~~~~~~~~~~\n",
      "4.40299654006958\n",
      "####################\n",
      "Warsaw's name in the Polish language is Warszawa, approximately /vɑːrˈʃɑːvə/ (also formerly spelled Warszewa and Warszowa), meaning \"belonging to Warsz\", Warsz being a shortened form of the masculine name of Slavic origin Warcisław; see also etymology of Wrocław. Folk etymology attributes the city name to a fisherman, Wars, and his wife, Sawa. According to legend, Sawa was a mermaid living in the Vistula River with whom Wars fell in love. In actuality, Warsz was a 12th/13th-century nobleman who owned a village located at the modern-day site of Mariensztat neighbourhood. See also the Vršovci family which had escaped to Poland. The official city name in full is miasto stołeczne Warszawa (English: \"The Capital City of Warsaw\"). A native or resident of Warsaw is known as a Varsovian – in Polish warszawiak (male), warszawianka (female), warszawiacy (plural).\n",
      "~~~~~~~~~~~~~~~~~~~~\n",
      "Who was Vrisovci?\n",
      "~~~~~~~~~~~~~~~~~~~~\n",
      "['who', 'was', '[MASK]', '[MASK]', '[MASK]', '[MASK]', '?']\n",
      "~~~~~~~~~~~~~~~~~~~~\n",
      "5.3871846199035645\n",
      "####################\n",
      "Ctenophores may be abundant during the summer months in some coastal locations, but in other places they are uncommon and difficult to find. In bays where they occur in very high numbers, predation by ctenophores may control the populations of small zooplanktonic organisms such as copepods, which might otherwise wipe out the phytoplankton (planktonic plants), which are a vital part of marine food chains. One ctenophore, Mnemiopsis, has accidentally been introduced into the Black Sea, where it is blamed for causing fish stocks to collapse by eating both fish larvae and organisms that would otherwise have fed the fish. The situation was aggravated by other factors, such as over-fishing and long-term environmental changes that promoted the growth of the Mnemiopsis population. The later accidental introduction of Beroe helped to mitigate the problem, as Beroe preys on other ctenophores.\n",
      "~~~~~~~~~~~~~~~~~~~~\n",
      "When are copepod populations abundant?\n",
      "~~~~~~~~~~~~~~~~~~~~\n",
      "['when', 'are', '[MASK]', '[MASK]', '[MASK]', 'abundant', '?']\n",
      "~~~~~~~~~~~~~~~~~~~~\n",
      "4.808467864990234\n",
      "####################\n",
      "Ctenophores may be abundant during the summer months in some coastal locations, but in other places they are uncommon and difficult to find. In bays where they occur in very high numbers, predation by ctenophores may control the populations of small zooplanktonic organisms such as copepods, which might otherwise wipe out the phytoplankton (planktonic plants), which are a vital part of marine food chains. One ctenophore, Mnemiopsis, has accidentally been introduced into the Black Sea, where it is blamed for causing fish stocks to collapse by eating both fish larvae and organisms that would otherwise have fed the fish. The situation was aggravated by other factors, such as over-fishing and long-term environmental changes that promoted the growth of the Mnemiopsis population. The later accidental introduction of Beroe helped to mitigate the problem, as Beroe preys on other ctenophores.\n",
      "~~~~~~~~~~~~~~~~~~~~\n",
      "When are copepod populations abundant?\n",
      "~~~~~~~~~~~~~~~~~~~~\n",
      "['when', 'are', '[MASK]', '[MASK]', '[MASK]', 'abundant', '?']\n",
      "~~~~~~~~~~~~~~~~~~~~\n",
      "4.808467864990234\n",
      "####################\n",
      "It has been argued that the term \"civil disobedience\" has always suffered from ambiguity and in modern times, become utterly debased. Marshall Cohen notes, \"It has been used to describe everything from bringing a test-case in the federal courts to taking aim at a federal official. Indeed, for Vice President Agnew it has become a code-word describing the activities of muggers, arsonists, draft evaders, campaign hecklers, campus militants, anti-war demonstrators, juvenile delinquents and political assassins.\"\n",
      "~~~~~~~~~~~~~~~~~~~~\n",
      "What had Vice President Agnew always suffered from? \n",
      "~~~~~~~~~~~~~~~~~~~~\n",
      "['what', 'had', '[MASK]', '[MASK]', '[MASK]', '[MASK]', '[MASK]', 'always', 'suffered', 'from', '?']\n",
      "~~~~~~~~~~~~~~~~~~~~\n",
      "4.740460395812988\n",
      "####################\n",
      "The Very high-speed Backbone Network Service (vBNS) came on line in April 1995 as part of a National Science Foundation (NSF) sponsored project to provide high-speed interconnection between NSF-sponsored supercomputing centers and select access points in the United States. The network was engineered and operated by MCI Telecommunications under a cooperative agreement with the NSF. By 1998, the vBNS had grown to connect more than 100 universities and research and engineering institutions via 12 national points of presence with DS-3 (45 Mbit/s), OC-3c (155 Mbit/s), and OC-12c (622 Mbit/s) links on an all OC-12c backbone, a substantial engineering feat for that time. The vBNS installed one of the first ever production OC-48c (2.5 Gbit/s) IP links in February 1999 and went on to upgrade the entire backbone to OC-48c.\n",
      "~~~~~~~~~~~~~~~~~~~~\n",
      "Who created the cooperative agreement? \n",
      "~~~~~~~~~~~~~~~~~~~~\n",
      "['who', 'created', '[MASK]', '[MASK]', '[MASK]', '?']\n",
      "~~~~~~~~~~~~~~~~~~~~\n",
      "4.4450178146362305\n",
      "####################\n",
      "Ctenophores may be abundant during the summer months in some coastal locations, but in other places they are uncommon and difficult to find. In bays where they occur in very high numbers, predation by ctenophores may control the populations of small zooplanktonic organisms such as copepods, which might otherwise wipe out the phytoplankton (planktonic plants), which are a vital part of marine food chains. One ctenophore, Mnemiopsis, has accidentally been introduced into the Black Sea, where it is blamed for causing fish stocks to collapse by eating both fish larvae and organisms that would otherwise have fed the fish. The situation was aggravated by other factors, such as over-fishing and long-term environmental changes that promoted the growth of the Mnemiopsis population. The later accidental introduction of Beroe helped to mitigate the problem, as Beroe preys on other ctenophores.\n",
      "~~~~~~~~~~~~~~~~~~~~\n",
      "When are copepod populations abundant?\n",
      "~~~~~~~~~~~~~~~~~~~~\n",
      "['when', 'are', '[MASK]', '[MASK]', '[MASK]', 'abundant', '?']\n",
      "~~~~~~~~~~~~~~~~~~~~\n",
      "4.808467864990234\n",
      "####################\n",
      "Ctenophores may be abundant during the summer months in some coastal locations, but in other places they are uncommon and difficult to find. In bays where they occur in very high numbers, predation by ctenophores may control the populations of small zooplanktonic organisms such as copepods, which might otherwise wipe out the phytoplankton (planktonic plants), which are a vital part of marine food chains. One ctenophore, Mnemiopsis, has accidentally been introduced into the Black Sea, where it is blamed for causing fish stocks to collapse by eating both fish larvae and organisms that would otherwise have fed the fish. The situation was aggravated by other factors, such as over-fishing and long-term environmental changes that promoted the growth of the Mnemiopsis population. The later accidental introduction of Beroe helped to mitigate the problem, as Beroe preys on other ctenophores.\n",
      "~~~~~~~~~~~~~~~~~~~~\n",
      "When are copepod populations abundant?\n",
      "~~~~~~~~~~~~~~~~~~~~\n",
      "['when', 'are', '[MASK]', '[MASK]', '[MASK]', 'abundant', '?']\n",
      "~~~~~~~~~~~~~~~~~~~~\n",
      "4.808467864990234\n",
      "####################\n",
      "Ctenophores may be abundant during the summer months in some coastal locations, but in other places they are uncommon and difficult to find. In bays where they occur in very high numbers, predation by ctenophores may control the populations of small zooplanktonic organisms such as copepods, which might otherwise wipe out the phytoplankton (planktonic plants), which are a vital part of marine food chains. One ctenophore, Mnemiopsis, has accidentally been introduced into the Black Sea, where it is blamed for causing fish stocks to collapse by eating both fish larvae and organisms that would otherwise have fed the fish. The situation was aggravated by other factors, such as over-fishing and long-term environmental changes that promoted the growth of the Mnemiopsis population. The later accidental introduction of Beroe helped to mitigate the problem, as Beroe preys on other ctenophores.\n",
      "~~~~~~~~~~~~~~~~~~~~\n",
      "When are copepod populations abundant?\n",
      "~~~~~~~~~~~~~~~~~~~~\n",
      "['when', 'are', '[MASK]', '[MASK]', '[MASK]', 'abundant', '?']\n",
      "~~~~~~~~~~~~~~~~~~~~\n",
      "4.808467864990234\n",
      "####################\n",
      "The Very high-speed Backbone Network Service (vBNS) came on line in April 1995 as part of a National Science Foundation (NSF) sponsored project to provide high-speed interconnection between NSF-sponsored supercomputing centers and select access points in the United States. The network was engineered and operated by MCI Telecommunications under a cooperative agreement with the NSF. By 1998, the vBNS had grown to connect more than 100 universities and research and engineering institutions via 12 national points of presence with DS-3 (45 Mbit/s), OC-3c (155 Mbit/s), and OC-12c (622 Mbit/s) links on an all OC-12c backbone, a substantial engineering feat for that time. The vBNS installed one of the first ever production OC-48c (2.5 Gbit/s) IP links in February 1999 and went on to upgrade the entire backbone to OC-48c.\n",
      "~~~~~~~~~~~~~~~~~~~~\n",
      "Why was NSFBNS created?\n",
      "~~~~~~~~~~~~~~~~~~~~\n",
      "['why', 'was', '[MASK]', '[MASK]', '[MASK]', 'created', '?']\n",
      "~~~~~~~~~~~~~~~~~~~~\n",
      "4.650366306304932\n",
      "####################\n",
      "The Very high-speed Backbone Network Service (vBNS) came on line in April 1995 as part of a National Science Foundation (NSF) sponsored project to provide high-speed interconnection between NSF-sponsored supercomputing centers and select access points in the United States. The network was engineered and operated by MCI Telecommunications under a cooperative agreement with the NSF. By 1998, the vBNS had grown to connect more than 100 universities and research and engineering institutions via 12 national points of presence with DS-3 (45 Mbit/s), OC-3c (155 Mbit/s), and OC-12c (622 Mbit/s) links on an all OC-12c backbone, a substantial engineering feat for that time. The vBNS installed one of the first ever production OC-48c (2.5 Gbit/s) IP links in February 1999 and went on to upgrade the entire backbone to OC-48c.\n",
      "~~~~~~~~~~~~~~~~~~~~\n",
      "Why was NSFBNS created?\n",
      "~~~~~~~~~~~~~~~~~~~~\n",
      "['why', 'was', '[MASK]', '[MASK]', '[MASK]', 'created', '?']\n",
      "~~~~~~~~~~~~~~~~~~~~\n",
      "4.650366306304932\n",
      "####################\n",
      "DECnet is a suite of network protocols created by Digital Equipment Corporation, originally released in 1975 in order to connect two PDP-11 minicomputers. It evolved into one of the first peer-to-peer network architectures, thus transforming DEC into a networking powerhouse in the 1980s. Initially built with three layers, it later (1982) evolved into a seven-layer OSI-compliant networking protocol. The DECnet protocols were designed entirely by Digital Equipment Corporation. However, DECnet Phase II (and later) were open standards with published specifications, and several implementations were developed outside DEC, including one for Linux.\n",
      "~~~~~~~~~~~~~~~~~~~~\n",
      "Late published versions were utilized by who?\n",
      "~~~~~~~~~~~~~~~~~~~~\n",
      "['[MASK]', '[MASK]', '[MASK]', 'were', 'utilized', 'by', 'who', '?']\n",
      "~~~~~~~~~~~~~~~~~~~~\n",
      "4.643883228302002\n",
      "####################\n",
      "are prime. Prime numbers of this form are known as factorial primes. Other primes where either p + 1 or p − 1 is of a particular shape include the Sophie Germain primes (primes of the form 2p + 1 with p prime), primorial primes, Fermat primes and Mersenne primes, that is, prime numbers that are of the form 2p − 1, where p is an arbitrary prime. The Lucas–Lehmer test is particularly fast for numbers of this form. This is why the largest known prime has almost always been a Mersenne prime since the dawn of electronic computers.\n",
      "~~~~~~~~~~~~~~~~~~~~\n",
      "Of what form are Mersenne tests?\n",
      "~~~~~~~~~~~~~~~~~~~~\n",
      "['of', 'what', 'form', 'are', '[MASK]', '[MASK]', '[MASK]', '[MASK]', '?']\n",
      "~~~~~~~~~~~~~~~~~~~~\n",
      "4.574913024902344\n",
      "####################\n",
      "Gothic architecture is represented in the majestic churches but also at the burgher houses and fortifications. The most significant buildings are St. John's Cathedral (14th century), the temple is a typical example of the so-called Masovian gothic style, St. Mary's Church (1411), a town house of Burbach family (14th century), Gunpowder Tower (after 1379) and the Royal Castle Curia Maior (1407–1410). The most notable examples of Renaissance architecture in the city are the house of Baryczko merchant family (1562), building called \"The Negro\" (early 17th century) and Salwator tenement (1632). The most interesting examples of mannerist architecture are the Royal Castle (1596–1619) and the Jesuit Church (1609–1626) at Old Town. Among the first structures of the early baroque the most important are St. Hyacinth's Church (1603–1639) and Sigismund's Column (1644).\n",
      "~~~~~~~~~~~~~~~~~~~~\n",
      "When was Baryczko constructed?\n",
      "~~~~~~~~~~~~~~~~~~~~\n",
      "['when', 'was', '[MASK]', '[MASK]', '[MASK]', '[MASK]', 'constructed', '?']\n",
      "~~~~~~~~~~~~~~~~~~~~\n",
      "4.583749294281006\n",
      "####################\n"
     ]
    }
   ],
   "source": [
    "for loss in losses:\n",
    "    if loss[-1] == 'ANS':\n",
    "        continue\n",
    "    if float(loss[2]) > max(unans_losses) - 1:\n",
    "        id, mask_id, loss, _ = loss\n",
    "        mask_id = int(mask_id)\n",
    "        question = questions[id2idx[id]]\n",
    "        mask = mask_data_map[id2idx[id]][mask_id][0]\n",
    "        context = contexts[q2c[id]]\n",
    "        print(context)\n",
    "        print(\"~\"*20)\n",
    "        print(question)\n",
    "        print(\"~\"*20)\n",
    "        print(mask)\n",
    "        print(\"~\"*20)\n",
    "        print(loss)\n",
    "        print(\"#\"*20)"
   ]
  },
  {
   "cell_type": "code",
   "execution_count": 66,
   "metadata": {},
   "outputs": [
    {
     "name": "stdout",
     "output_type": "stream",
     "text": [
      "Using boiling water to produce mechanical motion goes back over 2000 years, but early devices were not practical. The Spanish inventor Jerónimo de Ayanz y Beaumont obtained the first patent for a steam engine in 1606. In 1698 Thomas Savery patented a steam pump that used steam in direct contact with the water being pumped. Savery's steam pump used condensing steam to create a vacuum and draw water into a chamber, and then applied pressurized steam to further pump the water. Thomas Newcomen's atmospheric engine was the first commercial true steam engine using a piston, and was used in 1712 for pumping in a mine.\n",
      "~~~~~~~~~~~~~~~~~~~~\n",
      "What was the nationality of Jerónimo de Ayanz y Beaumont?\n",
      "~~~~~~~~~~~~~~~~~~~~\n",
      "['what', 'was', 'the', 'nationality', 'of', 'je', '##ron', '##imo', 'de', 'a', '##yan', '##z', 'y', '[MASK]', '?']\n",
      "~~~~~~~~~~~~~~~~~~~~\n",
      "9.894371032714844e-06\n",
      "####################\n",
      "The Yuan dynasty (Chinese: 元朝; pinyin: Yuán Cháo), officially the Great Yuan (Chinese: 大元; pinyin: Dà Yuán; Mongolian: Yehe Yuan Ulus[a]), was the empire or ruling dynasty of China established by Kublai Khan, leader of the Mongolian Borjigin clan. Although the Mongols had ruled territories including today's North China for decades, it was not until 1271 that Kublai Khan officially proclaimed the dynasty in the traditional Chinese style. His realm was, by this point, isolated from the other khanates and controlled most of present-day China and its surrounding areas, including modern Mongolia and Korea. It was the first foreign dynasty to rule all of China and lasted until 1368, after which its Genghisid rulers returned to their Mongolian homeland and continued to rule the Northern Yuan dynasty. Some of the Mongolian Emperors of the Yuan mastered the Chinese language, while others only used their native language (i.e. Mongolian) and the 'Phags-pa script.\n",
      "~~~~~~~~~~~~~~~~~~~~\n",
      "What is the Chinese name for the Yuan dynasty?\n",
      "~~~~~~~~~~~~~~~~~~~~\n",
      "['[MASK]', 'is', 'the', 'chinese', 'name', 'for', 'the', 'yuan', 'dynasty', '?']\n",
      "~~~~~~~~~~~~~~~~~~~~\n",
      "1.7512928025098518e-05\n",
      "####################\n",
      "A Turing machine is a mathematical model of a general computing machine. It is a theoretical device that manipulates symbols contained on a strip of tape. Turing machines are not intended as a practical computing technology, but rather as a thought experiment representing a computing machine—anything from an advanced supercomputer to a mathematician with a pencil and paper. It is believed that if a problem can be solved by an algorithm, there exists a Turing machine that solves the problem. Indeed, this is the statement of the Church–Turing thesis. Furthermore, it is known that everything that can be computed on other models of computation known to us today, such as a RAM machine, Conway's Game of Life, cellular automata or any programming language can be computed on a Turing machine. Since Turing machines are easy to analyze mathematically, and are believed to be as powerful as any other model of computation, the Turing machine is the most commonly used model in complexity theory.\n",
      "~~~~~~~~~~~~~~~~~~~~\n",
      "What does a Turing machine handle on a strip of tape?\n",
      "~~~~~~~~~~~~~~~~~~~~\n",
      "['what', 'does', 'a', 'turing', 'machine', 'handle', 'on', 'a', 'strip', 'of', '[MASK]', '?']\n",
      "~~~~~~~~~~~~~~~~~~~~\n",
      "1.9073486328125e-05\n",
      "####################\n",
      "Many locals and tourists frequent the southern California coast for its popular beaches, and the desert city of Palm Springs is popular for its resort feel and nearby open spaces.\n",
      "~~~~~~~~~~~~~~~~~~~~\n",
      "What is the name of the desert city?\n",
      "~~~~~~~~~~~~~~~~~~~~\n",
      "['[MASK]', 'is', 'the', 'name', 'of', 'the', 'desert', 'city', '?']\n",
      "~~~~~~~~~~~~~~~~~~~~\n",
      "1.773834264895413e-05\n",
      "####################\n",
      "The largest single sensory feature is the aboral organ (at the opposite end from the mouth). Its main component is a statocyst, a balance sensor consisting of a statolith, a solid particle supported on four bundles of cilia, called \"balancers\", that sense its orientation. The statocyst is protected by a transparent dome made of long, immobile cilia. A ctenophore does not automatically try to keep the statolith resting equally on all the balancers. Instead its response is determined by the animal's \"mood\", in other words the overall state of the nervous system. For example, if a ctenophore with trailing tentacles captures prey, it will often put some comb rows into reverse, spinning the mouth towards the prey.\n",
      "~~~~~~~~~~~~~~~~~~~~\n",
      "What is a statocyst?\n",
      "~~~~~~~~~~~~~~~~~~~~\n",
      "['[MASK]', 'is', 'a', 'stat', '##oc', '##yst', '?']\n",
      "~~~~~~~~~~~~~~~~~~~~\n",
      "1.3113021850585938e-05\n",
      "####################\n",
      "Many locals and tourists frequent the southern California coast for its popular beaches, and the desert city of Palm Springs is popular for its resort feel and nearby open spaces.\n",
      "~~~~~~~~~~~~~~~~~~~~\n",
      "What is the name of the desert city?\n",
      "~~~~~~~~~~~~~~~~~~~~\n",
      "['[MASK]', 'is', 'the', 'name', 'of', 'the', 'desert', 'city', '?']\n",
      "~~~~~~~~~~~~~~~~~~~~\n",
      "1.773834264895413e-05\n",
      "####################\n",
      "Many locals and tourists frequent the southern California coast for its popular beaches, and the desert city of Palm Springs is popular for its resort feel and nearby open spaces.\n",
      "~~~~~~~~~~~~~~~~~~~~\n",
      "What is the name of the desert city?\n",
      "~~~~~~~~~~~~~~~~~~~~\n",
      "['[MASK]', 'is', 'the', 'name', 'of', 'the', 'desert', 'city', '?']\n",
      "~~~~~~~~~~~~~~~~~~~~\n",
      "1.773834264895413e-05\n",
      "####################\n",
      "Many locals and tourists frequent the southern California coast for its popular beaches, and the desert city of Palm Springs is popular for its resort feel and nearby open spaces.\n",
      "~~~~~~~~~~~~~~~~~~~~\n",
      "What is the name of the desert city?\n",
      "~~~~~~~~~~~~~~~~~~~~\n",
      "['[MASK]', 'is', 'the', 'name', 'of', 'the', 'desert', 'city', '?']\n",
      "~~~~~~~~~~~~~~~~~~~~\n",
      "1.773834264895413e-05\n",
      "####################\n",
      "One of the more notable applications of printing technology was the chao, the paper money of the Yuan. Chao were made from the bark of mulberry trees. The Yuan government used woodblocks to print paper money, but switched to bronze plates in 1275. The Mongols experimented with establishing the Chinese-style paper monetary system in Mongol-controlled territories outside of China. The Yuan minister Bolad was sent to Iran, where he explained Yuan paper money to the Il-khanate court of Gaykhatu. The Il-khanate government issued paper money in 1294, but public distrust of the exotic new currency doomed the experiment.\n",
      "~~~~~~~~~~~~~~~~~~~~\n",
      "What was the Yuan's paper money called?\n",
      "~~~~~~~~~~~~~~~~~~~~\n",
      "['[MASK]', 'was', 'the', 'yuan', \"'\", 's', 'paper', 'money', 'called', '?']\n",
      "~~~~~~~~~~~~~~~~~~~~\n",
      "1.3524835594580509e-05\n",
      "####################\n",
      "The mayor of Warsaw is called President. Generally, in Poland, the mayors of bigger cities are called presidents – i.e. such cities, which have over 100,000 people or these, where already was president before 1990. The first Warsaw President was Jan Andrzej Menich (1695–1696). Between 1975 and 1990 the Warsaw Presidents was simultaneously the Warsaw Voivode. Since 1990 the President of Warsaw had been elected by the City council. In the years of 1994–1999 the mayor of the district Centrum automatically was designated as the President of Warsaw: the mayor of Centrum was elected by the district council of Centrum and the council was elected only by the Centrum residents. Since 2002 the President of Warsaw is elected by all of the citizens of Warsaw.\n",
      "~~~~~~~~~~~~~~~~~~~~\n",
      "What is the mayor of Warsaw called?\n",
      "~~~~~~~~~~~~~~~~~~~~\n",
      "['[MASK]', 'is', 'the', 'mayor', 'of', 'warsaw', 'called', '?']\n",
      "~~~~~~~~~~~~~~~~~~~~\n",
      "1.886155951069668e-05\n",
      "####################\n",
      "Warsaw's name in the Polish language is Warszawa, approximately /vɑːrˈʃɑːvə/ (also formerly spelled Warszewa and Warszowa), meaning \"belonging to Warsz\", Warsz being a shortened form of the masculine name of Slavic origin Warcisław; see also etymology of Wrocław. Folk etymology attributes the city name to a fisherman, Wars, and his wife, Sawa. According to legend, Sawa was a mermaid living in the Vistula River with whom Wars fell in love. In actuality, Warsz was a 12th/13th-century nobleman who owned a village located at the modern-day site of Mariensztat neighbourhood. See also the Vršovci family which had escaped to Poland. The official city name in full is miasto stołeczne Warszawa (English: \"The Capital City of Warsaw\"). A native or resident of Warsaw is known as a Varsovian – in Polish warszawiak (male), warszawianka (female), warszawiacy (plural).\n",
      "~~~~~~~~~~~~~~~~~~~~\n",
      "What is Warsaw's name in the Polish language?\n",
      "~~~~~~~~~~~~~~~~~~~~\n",
      "['[MASK]', 'is', 'warsaw', \"'\", 's', 'name', 'in', 'the', 'polish', 'language', '?']\n",
      "~~~~~~~~~~~~~~~~~~~~\n",
      "1.2079874977644067e-05\n",
      "####################\n",
      "The Rhine-Meuse Delta, the most important natural region of the Netherlands begins near Millingen aan de Rijn, close to the Dutch-German border with the division of the Rhine into Waal and Nederrijn. Since the Rhine contributes most of the water, the shorter term Rhine Delta is commonly used. However, this name is also used for the river delta where the Rhine flows into Lake Constance, so it is clearer to call the larger one Rhine-Meuse delta, or even Rhine–Meuse–Scheldt delta, as the Scheldt ends in the same delta.\n",
      "~~~~~~~~~~~~~~~~~~~~\n",
      "What is the name of the Delta in the Netherlands? \n",
      "~~~~~~~~~~~~~~~~~~~~\n",
      "['[MASK]', 'is', 'the', 'name', 'of', 'the', 'delta', 'in', 'the', 'netherlands', '?']\n",
      "~~~~~~~~~~~~~~~~~~~~\n",
      "1.430511474609375e-05\n",
      "####################\n",
      "The name Rijn, from here on, is used only for smaller streams farther to the north, which together formed the main river Rhine in Roman times. Though they retained the name, these streams no longer carry water from the Rhine, but are used for draining the surrounding land and polders. From Wijk bij Duurstede, the old north branch of the Rhine is called Kromme Rijn (\"Bent Rhine\") past Utrecht, first Leidse Rijn (\"Rhine of Leiden\") and then, Oude Rijn (\"Old Rhine\"). The latter flows west into a sluice at Katwijk, where its waters can be discharged into the North Sea. This branch once formed the line along which the Limes Germanicus were built. During periods of lower sea levels within the various ice ages, the Rhine took a left turn, creating the Channel River, the course of which now lies below the English Channel.\n",
      "~~~~~~~~~~~~~~~~~~~~\n",
      "What is the name of the old north branch of the Rhine?\n",
      "~~~~~~~~~~~~~~~~~~~~\n",
      "['[MASK]', 'is', 'the', 'name', 'of', 'the', 'old', 'north', 'branch', 'of', 'the', 'rhine', '?']\n",
      "~~~~~~~~~~~~~~~~~~~~\n",
      "9.809221410250757e-06\n",
      "####################\n",
      "The centrifugal governor was adopted by James Watt for use on a steam engine in 1788 after Watt’s partner Boulton saw one at a flour mill Boulton & Watt were building. The governor could not actually hold a set speed, because it would assume a new constant speed in response to load changes. The governor was able to handle smaller variations such as those caused by fluctuating heat load to the boiler. Also, there was a tendency for oscillation whenever there was a speed change. As a consequence, engines equipped only with this governor were not suitable for operations requiring constant speed, such as cotton spinning. The governor was improved over time and coupled with variable steam cut off, good speed control in response to changes in load was attainable near the end of the 19th century.\n",
      "~~~~~~~~~~~~~~~~~~~~\n",
      "What was the name of Watt's partner?\n",
      "~~~~~~~~~~~~~~~~~~~~\n",
      "['what', 'was', 'the', 'name', 'of', '[MASK]', \"'\", 's', 'partner', '?']\n",
      "~~~~~~~~~~~~~~~~~~~~\n",
      "1.5778974557179026e-05\n",
      "####################\n",
      "The Rankine cycle is sometimes referred to as a practical Carnot cycle because, when an efficient turbine is used, the TS diagram begins to resemble the Carnot cycle. The main difference is that heat addition (in the boiler) and rejection (in the condenser) are isobaric (constant pressure) processes in the Rankine cycle and isothermal (constant temperature) processes in the theoretical Carnot cycle. In this cycle a pump is used to pressurize the working fluid which is received from the condenser as a liquid not as a gas. Pumping the working fluid in liquid form during the cycle requires a small fraction of the energy to transport it compared to the energy needed to compress the working fluid in gaseous form in a compressor (as in the Carnot cycle). The cycle of a reciprocating steam engine differs from that of turbines because of condensation and re-evaporation occurring in the cylinder or in the steam inlet passages.\n",
      "~~~~~~~~~~~~~~~~~~~~\n",
      "What does isobaric mean?\n",
      "~~~~~~~~~~~~~~~~~~~~\n",
      "['[MASK]', 'does', 'iso', '##bari', '##c', 'mean', '?']\n",
      "~~~~~~~~~~~~~~~~~~~~\n",
      "1.71661376953125e-05\n",
      "####################\n",
      "The mechanisms used to evade the adaptive immune system are more complicated. The simplest approach is to rapidly change non-essential epitopes (amino acids and/or sugars) on the surface of the pathogen, while keeping essential epitopes concealed. This is called antigenic variation. An example is HIV, which mutates rapidly, so the proteins on its viral envelope that are essential for entry into its host target cell are constantly changing. These frequent changes in antigens may explain the failures of vaccines directed at this virus. The parasite Trypanosoma brucei uses a similar strategy, constantly switching one type of surface protein for another, allowing it to stay one step ahead of the antibody response. Masking antigens with host molecules is another common strategy for avoiding detection by the immune system. In HIV, the envelope that covers the virion is formed from the outermost membrane of the host cell; such \"self-cloaked\" viruses make it difficult for the immune system to identify them as \"non-self\" structures.\n",
      "~~~~~~~~~~~~~~~~~~~~\n",
      "What is the process by which the adaptive immune system is evaded by the chainging of non-essential epitopes called?\n",
      "~~~~~~~~~~~~~~~~~~~~\n",
      "['[MASK]', 'is', 'the', 'process', 'by', 'which', 'the', 'adaptive', 'immune', 'system', 'is', 'evade', '##d', 'by', 'the', 'chain', '##ging', 'of', 'non', '-', 'essential', 'ep', '##ito', '##pes', 'called', '?']\n",
      "~~~~~~~~~~~~~~~~~~~~\n",
      "1.71661376953125e-05\n",
      "####################\n",
      "Chemical barriers also protect against infection. The skin and respiratory tract secrete antimicrobial peptides such as the β-defensins. Enzymes such as lysozyme and phospholipase A2 in saliva, tears, and breast milk are also antibacterials. Vaginal secretions serve as a chemical barrier following menarche, when they become slightly acidic, while semen contains defensins and zinc to kill pathogens. In the stomach, gastric acid and proteases serve as powerful chemical defenses against ingested pathogens.\n",
      "~~~~~~~~~~~~~~~~~~~~\n",
      "What are the anitmicrobial peptides secreted by the skin called?\n",
      "~~~~~~~~~~~~~~~~~~~~\n",
      "['[MASK]', 'are', 'the', 'an', '##it', '##mic', '##ro', '##bial', 'peptide', '##s', 'secret', '##ed', 'by', 'the', 'skin', 'called', '?']\n",
      "~~~~~~~~~~~~~~~~~~~~\n",
      "1.833173882914707e-05\n",
      "####################\n"
     ]
    }
   ],
   "source": [
    "for loss in losses:\n",
    "    if loss[-1] == 'UNANS':\n",
    "        continue\n",
    "    if float(loss[2]) < min(ans_losses) + .00001:\n",
    "        id, mask_id, loss, _ = loss\n",
    "        mask_id = int(mask_id)\n",
    "        question = questions[id2idx[id]]\n",
    "        mask = mask_data_map[id2idx[id]][mask_id][0]\n",
    "        context = contexts[q2c[id]]\n",
    "        print(context)\n",
    "        print(\"~\"*20)\n",
    "        print(question)\n",
    "        print(\"~\"*20)\n",
    "        print(mask)\n",
    "        print(\"~\"*20)\n",
    "        print(loss)\n",
    "        print(\"#\"*20)"
   ]
  },
  {
   "cell_type": "code",
   "execution_count": 72,
   "metadata": {},
   "outputs": [
    {
     "name": "stdout",
     "output_type": "stream",
     "text": [
      "Paul Revere was descended from Huguenot refugees, as was Henry Laurens, who signed the Articles of Confederation for South Carolina; Jack Jouett, who made the ride from Cuckoo Tavern to warn Thomas Jefferson and others that Tarleton and his men were on their way to arrest him for crimes against the king; Francis Marion, and a number of other leaders of the American Revolution and later statesmen. The last active Huguenot congregation in North America worships in Charleston, South Carolina, at a church that dates to 1844. The Huguenot Society of America maintains Manakin Episcopal Church in Virginia as an historic shrine with occasional services. The Society has chapters in numerous states, with the one in Texas being the largest.\n",
      "~~~~~~~~~~~~~~~~~~~~\n",
      "In what year was the Articles of Confederation for South Carolina signed?\n",
      "~~~~~~~~~~~~~~~~~~~~\n",
      "['in', 'what', 'year', 'was', 'the', 'articles', 'of', '[MASK]', 'for', 'south', 'carolina', 'signed', '?']\n",
      "~~~~~~~~~~~~~~~~~~~~\n",
      "1.71661376953125e-05\n",
      "####################\n",
      "Warsaw's name in the Polish language is Warszawa, approximately /vɑːrˈʃɑːvə/ (also formerly spelled Warszewa and Warszowa), meaning \"belonging to Warsz\", Warsz being a shortened form of the masculine name of Slavic origin Warcisław; see also etymology of Wrocław. Folk etymology attributes the city name to a fisherman, Wars, and his wife, Sawa. According to legend, Sawa was a mermaid living in the Vistula River with whom Wars fell in love. In actuality, Warsz was a 12th/13th-century nobleman who owned a village located at the modern-day site of Mariensztat neighbourhood. See also the Vršovci family which had escaped to Poland. The official city name in full is miasto stołeczne Warszawa (English: \"The Capital City of Warsaw\"). A native or resident of Warsaw is known as a Varsovian – in Polish warszawiak (male), warszawianka (female), warszawiacy (plural).\n",
      "~~~~~~~~~~~~~~~~~~~~\n",
      "What is Warsaw's name in the Vrisovci language?\n",
      "~~~~~~~~~~~~~~~~~~~~\n",
      "['[MASK]', 'is', 'warsaw', \"'\", 's', 'name', 'in', 'the', 'vr', '##iso', '##vc', '##i', 'language', '?']\n",
      "~~~~~~~~~~~~~~~~~~~~\n",
      "1.602172778802924e-05\n",
      "####################\n",
      "DECnet is a suite of network protocols created by Digital Equipment Corporation, originally released in 1975 in order to connect two PDP-11 minicomputers. It evolved into one of the first peer-to-peer network architectures, thus transforming DEC into a networking powerhouse in the 1980s. Initially built with three layers, it later (1982) evolved into a seven-layer OSI-compliant networking protocol. The DECnet protocols were designed entirely by Digital Equipment Corporation. However, DECnet Phase II (and later) were open standards with published specifications, and several implementations were developed outside DEC, including one for Linux.\n",
      "~~~~~~~~~~~~~~~~~~~~\n",
      "What is peer to peer?\n",
      "~~~~~~~~~~~~~~~~~~~~\n",
      "['[MASK]', 'is', 'peer', 'to', 'peer', '?']\n",
      "~~~~~~~~~~~~~~~~~~~~\n",
      "1.6621181202935986e-05\n",
      "####################\n",
      "In the 1960s, a series of discoveries, the most important of which was seafloor spreading, showed that the Earth's lithosphere, which includes the crust and rigid uppermost portion of the upper mantle, is separated into a number of tectonic plates that move across the plastically deforming, solid, upper mantle, which is called the asthenosphere. There is an intimate coupling between the movement of the plates on the surface and the convection of the mantle: oceanic plate motions and mantle convection currents always move in the same direction, because the oceanic lithosphere is the rigid upper thermal boundary layer of the convecting mantle. This coupling between rigid plates moving on the surface of the Earth and the convecting mantle is called plate tectonics.\n",
      "~~~~~~~~~~~~~~~~~~~~\n",
      "What are the lithosphere and asthenosphere called when coupled together?\n",
      "~~~~~~~~~~~~~~~~~~~~\n",
      "['[MASK]', 'are', 'the', 'lit', '##hos', '##pher', '##e', 'and', 'as', '##the', '##nos', '##pher', '##e', 'called', 'when', 'coupled', 'together', '?']\n",
      "~~~~~~~~~~~~~~~~~~~~\n",
      "1.9274259102530777e-05\n",
      "####################\n",
      "In the 1960s, a series of discoveries, the most important of which was seafloor spreading, showed that the Earth's lithosphere, which includes the crust and rigid uppermost portion of the upper mantle, is separated into a number of tectonic plates that move across the plastically deforming, solid, upper mantle, which is called the asthenosphere. There is an intimate coupling between the movement of the plates on the surface and the convection of the mantle: oceanic plate motions and mantle convection currents always move in the same direction, because the oceanic lithosphere is the rigid upper thermal boundary layer of the convecting mantle. This coupling between rigid plates moving on the surface of the Earth and the convecting mantle is called plate tectonics.\n",
      "~~~~~~~~~~~~~~~~~~~~\n",
      "What are the lithosphere and asthenosphere called when coupled together?\n",
      "~~~~~~~~~~~~~~~~~~~~\n",
      "['[MASK]', 'are', 'the', 'lit', '##hos', '##pher', '##e', 'and', 'as', '##the', '##nos', '##pher', '##e', 'called', 'when', 'coupled', 'together', '?']\n",
      "~~~~~~~~~~~~~~~~~~~~\n",
      "1.9274259102530777e-05\n",
      "####################\n",
      "The immune system is a system of many biological structures and processes within an organism that protects against disease. To function properly, an immune system must detect a wide variety of agents, known as pathogens, from viruses to parasitic worms, and distinguish them from the organism's own healthy tissue. In many species, the immune system can be classified into subsystems, such as the innate immune system versus the adaptive immune system, or humoral immunity versus cell-mediated immunity. In humans, the blood–brain barrier, blood–cerebrospinal fluid barrier, and similar fluid–brain barriers separate the peripheral immune system from the neuroimmune system which protects the brain.\n",
      "~~~~~~~~~~~~~~~~~~~~\n",
      "What is the immune system of the stomach known as?\n",
      "~~~~~~~~~~~~~~~~~~~~\n",
      "['[MASK]', 'is', 'the', 'immune', 'system', 'of', 'the', 'stomach', 'known', 'as', '?']\n",
      "~~~~~~~~~~~~~~~~~~~~\n",
      "9.854634299699683e-06\n",
      "####################\n",
      "When B cells and T cells are activated and begin to replicate, some of their offspring become long-lived memory cells. Throughout the lifetime of an animal, these memory cells remember each specific pathogen encountered and can mount a strong response if the pathogen is detected again. This is \"adaptive\" because it occurs during the lifetime of an individual as an adaptation to infection with that pathogen and prepares the immune system for future challenges. Immunological memory can be in the form of either passive short-term memory or active long-term memory.\n",
      "~~~~~~~~~~~~~~~~~~~~\n",
      "What is not a form of immunological memory?\n",
      "~~~~~~~~~~~~~~~~~~~~\n",
      "['[MASK]', 'is', 'not', 'a', 'form', 'of', 'im', '##mun', '##ological', 'memory', '?']\n",
      "~~~~~~~~~~~~~~~~~~~~\n",
      "1.621246337890625e-05\n",
      "####################\n",
      "The weight of boilers and condensers generally makes the power-to-weight ratio of a steam plant lower than for internal combustion engines. For mobile applications steam has been largely superseded by internal combustion engines or electric motors. However, most electric power is generated using steam turbine plant, so that indirectly the world's industry is still dependent on steam power. Recent concerns about fuel sources and pollution have incited a renewed interest in steam both as a component of cogeneration processes and as a prime mover. This is becoming known as the Advanced Steam movement.[citation needed]\n",
      "~~~~~~~~~~~~~~~~~~~~\n",
      "What is the power-to-weight ratio of a steam plant compared to that of a steam engine?\n",
      "~~~~~~~~~~~~~~~~~~~~\n",
      "['[MASK]', 'is', 'the', 'power', '-', 'to', '-', 'weight', 'ratio', 'of', 'a', 'steam', 'plant', 'compared', 'to', 'that', 'of', 'a', 'steam', 'engine', '?']\n",
      "~~~~~~~~~~~~~~~~~~~~\n",
      "1.4998696315160487e-05\n",
      "####################\n",
      "The efficiency of a Rankine cycle is usually limited by the working fluid. Without the pressure reaching supercritical levels for the working fluid, the temperature range the cycle can operate over is quite small; in steam turbines, turbine entry temperatures are typically 565 °C (the creep limit of stainless steel) and condenser temperatures are around 30 °C. This gives a theoretical Carnot efficiency of about 63% compared with an actual efficiency of 42% for a modern coal-fired power station. This low turbine entry temperature (compared with a gas turbine) is why the Rankine cycle is often used as a bottoming cycle in combined-cycle gas turbine power stations.[citation needed]\n",
      "~~~~~~~~~~~~~~~~~~~~\n",
      "What is the approximate condenser temperature in stainless steel?\n",
      "~~~~~~~~~~~~~~~~~~~~\n",
      "['[MASK]', 'is', 'the', 'approximate', 'conde', '##nse', '##r', 'temperature', 'in', 'stainless', 'steel', '?']\n",
      "~~~~~~~~~~~~~~~~~~~~\n",
      "1.8339891539653763e-05\n",
      "####################\n",
      "On 18 November 2015, Sky announced Sky Q, a range of products and services to be available in 2016. The Sky Q range consists of three set top boxes (Sky Q, Sky Q Silver and Sky Q Mini), a broadband router (Sky Q Hub) and mobile applications. The Sky Q set top boxes introduce a new user interface, Wi-Fi hotspot functionality, Power-line and Bluetooth connectivity and a new touch-sensitive remote control. The Sky Q Mini set top boxes connect to the Sky Q Silver set top boxes with a Wi-Fi or Power-line connection rather than receive their own satellite feeds. This allows all set top boxes in a household to share recordings and other media. The Sky Q Silver set top box is capable of receiving and displaying UHD broadcasts, which Sky will introduce later in 2016.\n",
      "~~~~~~~~~~~~~~~~~~~~\n",
      "What is the name of Sky Q's dial-up router?\n",
      "~~~~~~~~~~~~~~~~~~~~\n",
      "['[MASK]', 'is', 'the', 'name', 'of', 'sky', 'q', \"'\", 's', 'dial', '-', 'up', 'route', '##r', '?']\n",
      "~~~~~~~~~~~~~~~~~~~~\n",
      "1.1086463928222656e-05\n",
      "####################\n",
      "The Rankine cycle is sometimes referred to as a practical Carnot cycle because, when an efficient turbine is used, the TS diagram begins to resemble the Carnot cycle. The main difference is that heat addition (in the boiler) and rejection (in the condenser) are isobaric (constant pressure) processes in the Rankine cycle and isothermal (constant temperature) processes in the theoretical Carnot cycle. In this cycle a pump is used to pressurize the working fluid which is received from the condenser as a liquid not as a gas. Pumping the working fluid in liquid form during the cycle requires a small fraction of the energy to transport it compared to the energy needed to compress the working fluid in gaseous form in a compressor (as in the Carnot cycle). The cycle of a reciprocating steam engine differs from that of turbines because of condensation and re-evaporation occurring in the cylinder or in the steam inlet passages.\n",
      "~~~~~~~~~~~~~~~~~~~~\n",
      "What does Carnot mean?\n",
      "~~~~~~~~~~~~~~~~~~~~\n",
      "['[MASK]', 'does', 'car', '##not', 'mean', '?']\n",
      "~~~~~~~~~~~~~~~~~~~~\n",
      "1.553126821818296e-05\n",
      "####################\n",
      "The mermaid (syrenka) is Warsaw's symbol and can be found on statues throughout the city and on the city's coat of arms. This imagery has been in use since at least the mid-14th century. The oldest existing armed seal of Warsaw is from the year 1390, consisting of a round seal bordered with the Latin inscription Sigilium Civitatis Varsoviensis (Seal of the city of Warsaw). City records as far back as 1609 document the use of a crude form of a sea monster with a female upper body and holding a sword in its claws. In 1653 the poet Zygmunt Laukowski asks the question:\n",
      "~~~~~~~~~~~~~~~~~~~~\n",
      "What is Sigilium's symbol?\n",
      "~~~~~~~~~~~~~~~~~~~~\n",
      "['[MASK]', 'is', 'si', '##gil', '##ium', \"'\", 's', 'symbol', '?']\n",
      "~~~~~~~~~~~~~~~~~~~~\n",
      "1.239776611328125e-05\n",
      "####################\n"
     ]
    }
   ],
   "source": [
    "for loss in losses:\n",
    "    if loss[-1] == 'ANS':\n",
    "        continue\n",
    "    if float(loss[2]) < min(unans_losses) + .00001:\n",
    "        id, mask_id, loss, _ = loss\n",
    "        mask_id = int(mask_id)\n",
    "        question = questions[id2idx[id]]\n",
    "        mask = mask_data_map[id2idx[id]][mask_id][0]\n",
    "        context = contexts[q2c[id]]\n",
    "        print(context)\n",
    "        print(\"~\"*20)\n",
    "        print(question)\n",
    "        print(\"~\"*20)\n",
    "        print(mask)\n",
    "        print(\"~\"*20)\n",
    "        print(loss)\n",
    "        print(\"#\"*20)"
   ]
  },
  {
   "cell_type": "code",
   "execution_count": null,
   "metadata": {},
   "outputs": [],
   "source": []
  },
  {
   "cell_type": "markdown",
   "metadata": {},
   "source": [
    "# Normalize by length and take minimum"
   ]
  },
  {
   "cell_type": "code",
   "execution_count": 74,
   "metadata": {},
   "outputs": [
    {
     "name": "stdout",
     "output_type": "stream",
     "text": [
      "0.2844155067799041\n",
      "0.49679119683132217\n"
     ]
    }
   ],
   "source": [
    "losses = []\n",
    "with open(\"results/chunk_mask/chunk_losses.csv\", \"r\") as handle:\n",
    "    reader = csv.reader(handle)\n",
    "    for row in reader:\n",
    "        losses.append(row)\n",
    "ans_losses = [float(x[2]) for x in losses if x[3] == 'ANS']\n",
    "unans_losses = [float(x[2]) for x in losses if x[3] == 'UNANS']\n",
    "print(np.mean(ans_losses))\n",
    "print(np.mean(unans_losses))"
   ]
  },
  {
   "cell_type": "code",
   "execution_count": 135,
   "metadata": {},
   "outputs": [],
   "source": [
    "ans_losses_new = []\n",
    "unans_losses_new = []\n",
    "for loss in losses:\n",
    "    ls = float(loss[2])\n",
    "    mask = mask_data_map[id2idx[loss[0]]][int(loss[1])][0]\n",
    "    new_loss = ls / mask.count(\"[MASK]\")\n",
    "    if loss[3] == 'ANS':\n",
    "        ans_losses_new.append(new_loss)\n",
    "    else:\n",
    "        unans_losses_new.append(new_loss)"
   ]
  },
  {
   "cell_type": "code",
   "execution_count": 136,
   "metadata": {},
   "outputs": [
    {
     "name": "stdout",
     "output_type": "stream",
     "text": [
      "0.10678719131868519\n",
      "0.20694439636387615\n"
     ]
    }
   ],
   "source": [
    "print(np.mean(ans_losses_new))\n",
    "print(np.mean(unans_losses_new))"
   ]
  },
  {
   "cell_type": "code",
   "execution_count": 137,
   "metadata": {},
   "outputs": [
    {
     "data": {
      "image/png": "[encoded data removed]",
      "text/plain": [
       "<Figure size 432x288 with 1 Axes>"
      ]
     },
     "metadata": {
      "needs_background": "light"
     },
     "output_type": "display_data"
    }
   ],
   "source": [
    "#bins = np.linspace(.00000001, .000025, 300)\n",
    "bins = np.geomspace(0.00001, 2, 100)\n",
    "plt.hist(ans_losses_new, bins, alpha=0.25, label='answerable')\n",
    "plt.hist(unans_losses_new, bins, alpha=0.25, label='unanswerable')\n",
    "plt.legend(loc='upper right')\n",
    "plt.show()"
   ]
  },
  {
   "cell_type": "code",
   "execution_count": 138,
   "metadata": {},
   "outputs": [],
   "source": [
    "# min\n",
    "ans_losses_new = {}\n",
    "unans_losses_new = {}\n",
    "for loss in losses:\n",
    "    ls = float(loss[2])\n",
    "    mask = mask_data_map[id2idx[loss[0]]][int(loss[1])][0]\n",
    "    new_loss = ls / mask.count(\"[MASK]\")\n",
    "    if loss[3] == 'ANS':\n",
    "        if loss[0] not in ans_losses_new:\n",
    "            ans_losses_new[loss[0]] = new_loss\n",
    "        elif new_loss > ans_losses_new[loss[0]]:\n",
    "            ans_losses_new[loss[0]] = new_loss\n",
    "    else:\n",
    "        if loss[0] not in unans_losses_new:\n",
    "            unans_losses_new[loss[0]] = new_loss\n",
    "        elif new_loss > unans_losses_new[loss[0]]:\n",
    "            unans_losses_new[loss[0]] = new_loss\n",
    "ans_losses_new = [val for k, val in ans_losses_new.items()]\n",
    "unans_losses_new = [val for k, val in unans_losses_new.items()]"
   ]
  },
  {
   "cell_type": "code",
   "execution_count": 139,
   "metadata": {},
   "outputs": [
    {
     "name": "stdout",
     "output_type": "stream",
     "text": [
      "0.1102203080520591\n",
      "0.2104673985947498\n"
     ]
    }
   ],
   "source": [
    "print(np.mean(ans_losses_new))\n",
    "print(np.mean(unans_losses_new))"
   ]
  },
  {
   "cell_type": "code",
   "execution_count": 140,
   "metadata": {},
   "outputs": [
    {
     "data": {
      "image/png": "[encoded data removed]",
      "text/plain": [
       "<Figure size 432x288 with 1 Axes>"
      ]
     },
     "metadata": {
      "needs_background": "light"
     },
     "output_type": "display_data"
    }
   ],
   "source": [
    "#bins = np.linspace(.00000001, .000025, 300)\n",
    "bins = np.geomspace(0.00001, 2, 100)\n",
    "plt.hist(ans_losses_new, bins, alpha=0.25, label='answerable')\n",
    "plt.hist(unans_losses_new, bins, alpha=0.25, label='unanswerable')\n",
    "plt.legend(loc='upper right')\n",
    "plt.show()"
   ]
  },
  {
   "cell_type": "code",
   "execution_count": 145,
   "metadata": {},
   "outputs": [
    {
     "name": "stdout",
     "output_type": "stream",
     "text": [
      "4393 0.7264759384818918\n"
     ]
    }
   ],
   "source": [
    "# compute overlap\n",
    "bins = np.geomspace(0.00001, 2, 100)\n",
    "bin_counts_ans_new, _ = np.histogram(ans_losses_new, bins=bins)\n",
    "bin_counts_unans_new, _ = np.histogram(unans_losses_new, bins=bins)\n",
    "overlap = 0\n",
    "total = 0\n",
    "for a,b in zip(bin_counts_ans_new, bin_counts_unans_new):\n",
    "    overlap += min(a,b)\n",
    "    total += max(a,b)\n",
    "print(overlap, float(overlap)/total)"
   ]
  },
  {
   "cell_type": "code",
   "execution_count": 146,
   "metadata": {},
   "outputs": [
    {
     "name": "stdout",
     "output_type": "stream",
     "text": [
      "4929 0.7599444958371878\n"
     ]
    }
   ],
   "source": [
    "bins = np.geomspace(0.00001, 2, 100)\n",
    "bin_counts_ans, _ = np.histogram(ans_losses, bins=bins)\n",
    "bin_counts_unans, _ = np.histogram(unans_losses, bins=bins)\n",
    "overlap = 0\n",
    "total = 0\n",
    "for a,b in zip(bin_counts_ans, bin_counts_unans):\n",
    "    overlap += min(a,b)\n",
    "    total += max(a,b)\n",
    "print(overlap, float(overlap)/total)"
   ]
  },
  {
   "cell_type": "code",
   "execution_count": null,
   "metadata": {},
   "outputs": [],
   "source": []
  },
  {
   "cell_type": "markdown",
   "metadata": {},
   "source": [
    "# Conclusion:\n",
    "There is less overlap when we take the min and normalize by length of masked terms but still a lot of overlap"
   ]
  },
  {
   "cell_type": "code",
   "execution_count": null,
   "metadata": {},
   "outputs": [],
   "source": []
  },
  {
   "cell_type": "code",
   "execution_count": null,
   "metadata": {},
   "outputs": [],
   "source": []
  },
  {
   "cell_type": "code",
   "execution_count": 17,
   "metadata": {},
   "outputs": [
    {
     "data": {
      "text/plain": [
       "[<matplotlib.lines.Line2D at 0x11b532d68>]"
      ]
     },
     "execution_count": 17,
     "metadata": {},
     "output_type": "execute_result"
    },
    {
     "data": {
      "image/png": "[encoded data removed]",
      "text/plain": [
       "<Figure size 432x288 with 1 Axes>"
      ]
     },
     "metadata": {
      "needs_background": "light"
     },
     "output_type": "display_data"
    }
   ],
   "source": [
    "plt.plot(xes, ans_prog, color='blue')\n",
    "plt.plot(xes, unans_prog, color='red')"
   ]
  },
  {
   "cell_type": "code",
   "execution_count": 18,
   "metadata": {},
   "outputs": [
    {
     "name": "stdout",
     "output_type": "stream",
     "text": [
      "0.544641501158038\n",
      "0.8278152950307434\n"
     ]
    }
   ],
   "source": [
    "print(np.mean([l for l in ans_losses if l > 0.04]))\n",
    "print(np.mean([l for l in unans_losses if l > 0.04]))"
   ]
  },
  {
   "cell_type": "code",
   "execution_count": 19,
   "metadata": {},
   "outputs": [
    {
     "name": "stdout",
     "output_type": "stream",
     "text": [
      "0.006205307554695026\n",
      "0.006129172360363978\n"
     ]
    }
   ],
   "source": [
    "print(np.mean([l for l in ans_losses if l < 0.04]))\n",
    "print(np.mean([l for l in unans_losses if l < 0.04]))"
   ]
  },
  {
   "cell_type": "code",
   "execution_count": 70,
   "metadata": {},
   "outputs": [
    {
     "name": "stdout",
     "output_type": "stream",
     "text": [
      "Better speed can be achieved with apex installed from https://www.github.com/nvidia/apex.\n"
     ]
    }
   ],
   "source": [
    "from pytorch_pretrained_bert.tokenization import BertTokenizer"
   ]
  },
  {
   "cell_type": "code",
   "execution_count": 71,
   "metadata": {},
   "outputs": [],
   "source": [
    "tokenizer = BertTokenizer.from_pretrained(\"bert-base-uncased\", do_lower_case=True)"
   ]
  },
  {
   "cell_type": "code",
   "execution_count": 76,
   "metadata": {},
   "outputs": [],
   "source": [
    "with open(\"dataset/dev-v2.0.json\", 'r') as handle:\n",
    "    jdata = json.load(handle)\n",
    "    data = jdata['data']\n",
    "\n",
    "id2q = {}\n",
    "for i in range(len(data)):\n",
    "    section = data[i]['paragraphs']\n",
    "    for sec in section:\n",
    "        qas = sec['qas']\n",
    "        for j in range(len(qas)):\n",
    "            question = qas[j]['question']\n",
    "            unanswerable = qas[j]['is_impossible']\n",
    "            id = qas[j]['id']\n",
    "            id2q[id] = question"
   ]
  },
  {
   "cell_type": "code",
   "execution_count": 77,
   "metadata": {},
   "outputs": [],
   "source": [
    "for i, l, tag in losses:\n",
    "    assert i in id2q"
   ]
  },
  {
   "cell_type": "code",
   "execution_count": 79,
   "metadata": {},
   "outputs": [],
   "source": [
    "adjusted_losses = []\n",
    "for idx, l, tag in losses:\n",
    "    l = float(l)\n",
    "    qlen = len(tokenizer.tokenize(id2q[idx]))\n",
    "    adjusted_losses.append([idx, l / qlen, tag])"
   ]
  },
  {
   "cell_type": "code",
   "execution_count": 82,
   "metadata": {},
   "outputs": [],
   "source": [
    "ans_losses = [float(x[1]) for x in adjusted_losses if x[2] == 'ANS']\n",
    "unans_losses = [float(x[1]) for x in adjusted_losses if x[2] == 'UNANS']"
   ]
  },
  {
   "cell_type": "code",
   "execution_count": 83,
   "metadata": {},
   "outputs": [
    {
     "name": "stdout",
     "output_type": "stream",
     "text": [
      "0.0008983249290571931\n",
      "0.0010332992713177405\n"
     ]
    }
   ],
   "source": [
    "print(np.mean(ans_losses))\n",
    "print(np.mean(unans_losses))"
   ]
  },
  {
   "cell_type": "code",
   "execution_count": 84,
   "metadata": {},
   "outputs": [
    {
     "name": "stdout",
     "output_type": "stream",
     "text": [
      "3.14580069647895e-08\n",
      "0.027308174542018344\n"
     ]
    }
   ],
   "source": [
    "print(np.min(ans_losses + unans_losses))\n",
    "print(np.max(ans_losses + unans_losses))"
   ]
  },
  {
   "cell_type": "code",
   "execution_count": 21,
   "metadata": {},
   "outputs": [
    {
     "data": {
      "image/png": "[encoded data removed]",
      "text/plain": [
       "<Figure size 432x288 with 1 Axes>"
      ]
     },
     "metadata": {
      "needs_background": "light"
     },
     "output_type": "display_data"
    }
   ],
   "source": [
    "bins = np.linspace(0, 2, 500)\n",
    "plt.hist(ans_losses, bins, alpha=0.5, label='answerable')\n",
    "plt.hist(unans_losses, bins, alpha=0.5, label='unanswerable')\n",
    "plt.legend(loc='upper right')\n",
    "plt.show()"
   ]
  },
  {
   "cell_type": "code",
   "execution_count": 102,
   "metadata": {},
   "outputs": [],
   "source": [
    "with open(\"dataset/dev-v2.0.json\", 'r') as handle:\n",
    "    jdata = json.load(handle)\n",
    "    data = jdata['data']\n",
    "\n",
    "id2q = {}\n",
    "for i in range(len(data)):\n",
    "    section = data[i]['paragraphs']\n",
    "    for sec in section:\n",
    "        context = sec['context']\n",
    "        qas = sec['qas']\n",
    "        for j in range(len(qas)):\n",
    "            question = qas[j]['question']\n",
    "            unanswerable = qas[j]['is_impossible']\n",
    "            id = qas[j]['id']\n",
    "            id2q[id] = (question, context)"
   ]
  },
  {
   "cell_type": "code",
   "execution_count": 121,
   "metadata": {},
   "outputs": [],
   "source": [
    "from collections import Counter"
   ]
  },
  {
   "cell_type": "code",
   "execution_count": 124,
   "metadata": {},
   "outputs": [],
   "source": [
    "ans_loss_counter = Counter({x[0]:float(x[1]) for x in adjusted_losses if x[2] == 'ANS'})\n",
    "unans_loss_counter = Counter({x[0]:float(x[1]) for x in adjusted_losses if x[2] == 'UNANS'})"
   ]
  },
  {
   "cell_type": "code",
   "execution_count": 127,
   "metadata": {},
   "outputs": [
    {
     "name": "stdout",
     "output_type": "stream",
     "text": [
      "loss: 0.0210401713848114\n",
      "context:\n",
      " The Normans were in contact with England from an early date. Not only were their original Viking brethren still ravaging the English coasts, they occupied most of the important ports opposite England across the English Channel. This relationship eventually produced closer ties of blood through the marriage of Emma, sister of Duke Richard II of Normandy, and King Ethelred II of England. Because of this, Ethelred fled to Normandy in 1013, when he was forced from his kingdom by Sweyn Forkbeard. His stay in Normandy (until 1016) influenced him and his sons by Emma, who stayed in Normandy after Cnut the Great's conquest of the isle.\n",
      "~~~~~~~~~~~~~~~~~~~~\n",
      "question:\n",
      " Who did Emma Marry?\n",
      "####################\n",
      "loss: 0.01971820294857025\n",
      "context:\n",
      " The efficiency of a Rankine cycle is usually limited by the working fluid. Without the pressure reaching supercritical levels for the working fluid, the temperature range the cycle can operate over is quite small; in steam turbines, turbine entry temperatures are typically 565 °C (the creep limit of stainless steel) and condenser temperatures are around 30 °C. This gives a theoretical Carnot efficiency of about 63% compared with an actual efficiency of 42% for a modern coal-fired power station. This low turbine entry temperature (compared with a gas turbine) is why the Rankine cycle is often used as a bottoming cycle in combined-cycle gas turbine power stations.[citation needed]\n",
      "~~~~~~~~~~~~~~~~~~~~\n",
      "question:\n",
      " What is  565 °C the creep limit of?\n",
      "####################\n",
      "loss: 0.01969809681177139\n",
      "context:\n",
      " The origin of the legendary figure is not fully known. The best-known legend, by Artur Oppman, is that long ago two of Triton's daughters set out on a journey through the depths of the oceans and seas. One of them decided to stay on the coast of Denmark and can be seen sitting at the entrance to the port of Copenhagen. The second mermaid reached the mouth of the Vistula River and plunged into its waters. She stopped to rest on a sandy beach by the village of Warszowa, where fishermen came to admire her beauty and listen to her beautiful voice. A greedy merchant also heard her songs; he followed the fishermen and captured the mermaid.\n",
      "~~~~~~~~~~~~~~~~~~~~\n",
      "question:\n",
      " What did a greedy merchant do to the mermaid?\n",
      "####################\n",
      "loss: 0.018332967162132265\n",
      "context:\n",
      " By far the most famous work of Norman art is the Bayeux Tapestry, which is not a tapestry but a work of embroidery. It was commissioned by Odo, the Bishop of Bayeux and first Earl of Kent, employing natives from Kent who were learned in the Nordic traditions imported in the previous half century by the Danish Vikings.\n",
      "~~~~~~~~~~~~~~~~~~~~\n",
      "question:\n",
      " Who commissioned the Tapestry?\n",
      "####################\n",
      "loss: 0.018235338230927784\n",
      "context:\n",
      " When rock units are placed under horizontal compression, they shorten and become thicker. Because rock units, other than muds, do not significantly change in volume, this is accomplished in two primary ways: through faulting and folding. In the shallow crust, where brittle deformation can occur, thrust faults form, which cause deeper rock to move on top of shallower rock. Because deeper rock is often older, as noted by the principle of superposition, this can result in older rocks moving on top of younger ones. Movement along faults can result in folding, either because the faults are not planar or because rock layers are dragged along, forming drag folds as slip occurs along the fault. Deeper in the Earth, rocks behave plastically, and fold instead of faulting. These folds can either be those where the material in the center of the fold buckles upwards, creating \"antiforms\", or where it buckles downwards, creating \"synforms\". If the tops of the rock units within the folds remain pointing upwards, they are called anticlines and synclines, respectively. If some of the units in the fold are facing downward, the structure is called an overturned anticline or syncline, and if all of the rock units are overturned or the correct up-direction is unknown, they are simply called by the most general terms, antiforms and synforms.\n",
      "~~~~~~~~~~~~~~~~~~~~\n",
      "question:\n",
      " Where do thrust faults form?\n",
      "####################\n"
     ]
    }
   ],
   "source": [
    "for idx, loss in ans_loss_counter.most_common()[:5]:\n",
    "    print(\"loss:\", loss)\n",
    "    print(\"context:\\n\", id2q[idx][1])\n",
    "    print(\"~\"*20)\n",
    "    print(\"question:\\n\", id2q[idx][0])\n",
    "    print(\"#\"*20)"
   ]
  },
  {
   "cell_type": "code",
   "execution_count": 128,
   "metadata": {},
   "outputs": [
    {
     "name": "stdout",
     "output_type": "stream",
     "text": [
      "loss: 0.027308174542018344\n",
      "context:\n",
      " Jacksonville is in the First Coast region of northeast Florida and is centered on the banks of the St. Johns River, about 25 miles (40 km) south of the Georgia state line and about 340 miles (550 km) north of Miami. The Jacksonville Beaches communities are along the adjacent Atlantic coast. The area was originally inhabited by the Timucua people, and in 1564 was the site of the French colony of Fort Caroline, one of the earliest European settlements in what is now the continental United States. Under British rule, settlement grew at the narrow point in the river where cattle crossed, known as Wacca Pilatka to the Seminole and the Cow Ford to the British. A platted town was established there in 1822, a year after the United States gained Florida from Spain; it was named after Andrew Jackson, the first military governor of the Florida Territory and seventh President of the United States.\n",
      "~~~~~~~~~~~~~~~~~~~~\n",
      "question:\n",
      " What cities 340 km from Jacksonville?\n",
      "####################\n",
      "loss: 0.024383457998434704\n",
      "context:\n",
      " \"Southern California\" is not a formal geographic designation, and definitions of what constitutes southern California vary. Geographically, California's north-south midway point lies at exactly 37° 9' 58.23\" latitude, around 11 miles (18 km) south of San Jose; however, this does not coincide with popular use of the term. When the state is divided into two areas (northern and southern California), the term \"southern California\" usually refers to the ten southern-most counties of the state. This definition coincides neatly with the county lines at 35° 47′ 28″ north latitude, which form the northern borders of San Luis Obispo, Kern, and San Bernardino counties. Another definition for southern California uses Point Conception and the Tehachapi Mountains as the northern boundary.\n",
      "~~~~~~~~~~~~~~~~~~~~\n",
      "question:\n",
      " What lies at 35° 48′ 27″ north latitude?\n",
      "####################\n",
      "loss: 0.022847624123096467\n",
      "context:\n",
      " Further south the Southeast interior was dominated by Siouan-speaking Catawba, Muskogee-speaking Creek and Choctaw, and the Iroquoian-speaking Cherokee tribes. When war broke out, the French used their trading connections to recruit fighters from tribes in western portions of the Great Lakes region (an area not directly subject to the conflict between the French and British), including the Huron, Mississauga, Ojibwa, Winnebago, and Potawatomi. The British were supported in the war by the Iroquois Six Nations, and also by the Cherokee – until differences sparked the Anglo-Cherokee War in 1758. In 1758 the Pennsylvania government successfully negotiated the Treaty of Easton, in which a number of tribes in the Ohio Country promised neutrality in exchange for land concessions and other considerations. Most of the other northern tribes sided with the French, their primary trading partner and supplier of arms. The Creek and Cherokee were subject to diplomatic efforts by both the French and British to gain either their support or neutrality in the conflict. It was not uncommon for small bands to participate on the \"other side\" of the conflict from formally negotiated agreements, as most tribes were decentralized and bands made their own decisions about warfare.\n",
      "~~~~~~~~~~~~~~~~~~~~\n",
      "question:\n",
      " What tribes hated British?\n",
      "####################\n",
      "loss: 0.021834833920001982\n",
      "context:\n",
      " In the laboratory, stratigraphers analyze samples of stratigraphic sections that can be returned from the field, such as those from drill cores. Stratigraphers also analyze data from geophysical surveys that show the locations of stratigraphic units in the subsurface. Geophysical data and well logs can be combined to produce a better view of the subsurface, and stratigraphers often use computer programs to do this in three dimensions. Stratigraphers can then use these data to reconstruct ancient processes occurring on the surface of the Earth, interpret past environments, and locate areas for water, coal, and hydrocarbon extraction.\n",
      "~~~~~~~~~~~~~~~~~~~~\n",
      "question:\n",
      " What are well logs?\n",
      "####################\n",
      "loss: 0.019920384883880614\n",
      "context:\n",
      " Following the Cretaceous–Paleogene extinction event, the extinction of the dinosaurs and the wetter climate may have allowed the tropical rainforest to spread out across the continent. From 66–34 Mya, the rainforest extended as far south as 45°. Climate fluctuations during the last 34 million years have allowed savanna regions to expand into the tropics. During the Oligocene, for example, the rainforest spanned a relatively narrow band. It expanded again during the Middle Miocene, then retracted to a mostly inland formation at the last glacial maximum. However, the rainforest still managed to thrive during these glacial periods, allowing for the survival and evolution of a broad diversity of species.\n",
      "~~~~~~~~~~~~~~~~~~~~\n",
      "question:\n",
      " Climate fluctuations have stopped the savanna from doing what?\n",
      "####################\n"
     ]
    }
   ],
   "source": [
    "for idx, loss in unans_loss_counter.most_common()[:5]:\n",
    "    print(\"loss:\", loss)\n",
    "    print(\"context:\\n\", id2q[idx][1])\n",
    "    print(\"~\"*20)\n",
    "    print(\"question:\\n\", id2q[idx][0])\n",
    "    print(\"#\"*20)"
   ]
  },
  {
   "cell_type": "code",
   "execution_count": 129,
   "metadata": {},
   "outputs": [
    {
     "name": "stdout",
     "output_type": "stream",
     "text": [
      "loss: 4.6359168158637154e-08\n",
      "context:\n",
      " With Istanbul as its capital and control of lands around the Mediterranean basin, the Ottoman Empire was at the center of interactions between the Eastern and Western worlds for six centuries. Following a long period of military setbacks against European powers, the Ottoman Empire gradually declined into the late nineteenth century. The empire allied with Germany in the early 20th century, with the imperial ambition of recovering its lost territories, but it dissolved in the aftermath of World War I, leading to the emergence of the new state of Turkey in the Ottoman Anatolian heartland, as well as the creation of modern Balkan and Middle Eastern states, thus ending Turkish colonial ambitions.\n",
      "~~~~~~~~~~~~~~~~~~~~\n",
      "question:\n",
      " What was the capital of the Ottoman empire?\n",
      "####################\n",
      "loss: 4.6193599700927736e-08\n",
      "context:\n",
      " However, in 1883–84 Germany began to build a colonial empire in Africa and the South Pacific, before losing interest in imperialism. Historians have debated exactly why Germany made this sudden and short-lived move.[verification needed] Bismarck was aware that public opinion had started to demand colonies for reasons of German prestige. He was influenced by Hamburg merchants and traders, his neighbors at Friedrichsruh. The establishment of the German colonial empire proceeded smoothly, starting with German New Guinea in 1884.\n",
      "~~~~~~~~~~~~~~~~~~~~\n",
      "question:\n",
      " What was the name of the first German settlement?\n",
      "####################\n",
      "loss: 4.3047799004448784e-08\n",
      "context:\n",
      " The variant forms of the name of the Rhine in modern languages are all derived from the Gaulish name Rēnos, which was adapted in Roman-era geography (1st century BC) as Greek Ῥῆνος (Rhēnos), Latin Rhenus.[note 3] The spelling with Rh- in English Rhine as well as in German Rhein and French Rhin is due to the influence of Greek orthography, while the vocalisation -i- is due to the Proto-Germanic adoption of the Gaulish name as *Rīnaz, via Old Frankish giving Old English Rín, Old High German Rīn, Dutch Rijn (formerly also spelled Rhijn)). The diphthong in modern German Rhein (also adopted in Romansh Rein, Rain) is a Central German development of the early modern period, the Alemannic name Rī(n) retaining the older vocalism,[note 4] as does Ripuarian Rhing, while Palatine has diphthongized Rhei, Rhoi. Spanish is with French in adopting the Germanic vocalism Rin-, while Italian, Occitan and Portuguese retain the Latin Ren-.\n",
      "~~~~~~~~~~~~~~~~~~~~\n",
      "question:\n",
      " What is the French name for the Rhine? \n",
      "####################\n",
      "loss: 4.1723251342773435e-08\n",
      "context:\n",
      " The 1973 oil crisis began in October 1973 when the members of the Organization of Arab Petroleum Exporting Countries (OAPEC, consisting of the Arab members of OPEC plus Egypt and Syria) proclaimed an oil embargo. By the end of the embargo in March 1974, the price of oil had risen from US$3 per barrel to nearly $12 globally; US prices were significantly higher. The embargo caused an oil crisis, or \"shock\", with many short- and long-term effects on global politics and the global economy. It was later called the \"first oil shock\", followed by the 1979 oil crisis, termed the \"second oil shock.\"\n",
      "~~~~~~~~~~~~~~~~~~~~\n",
      "question:\n",
      " What was another term used for the oil crisis?\n",
      "####################\n",
      "loss: 3.9736429850260414e-08\n",
      "context:\n",
      " About 61.1% of Victorians describe themselves as Christian. Roman Catholics form the single largest religious group in the state with 26.7% of the Victorian population, followed by Anglicans and members of the Uniting Church. Buddhism is the state's largest non-Christian religion, with 168,637 members as of the most recent census. Victoria is also home of 152,775 Muslims and 45,150 Jews. Hinduism is the fastest growing religion. Around 20% of Victorians claim no religion. Amongst those who declare a religious affiliation, church attendance is low.\n",
      "~~~~~~~~~~~~~~~~~~~~\n",
      "question:\n",
      " How many Victorians are non-religious?\n",
      "####################\n"
     ]
    }
   ],
   "source": [
    "for idx, loss in ans_loss_counter.most_common()[-5:]:\n",
    "    print(\"loss:\", loss)\n",
    "    print(\"context:\\n\", id2q[idx][1])\n",
    "    print(\"~\"*20)\n",
    "    print(\"question:\\n\", id2q[idx][0])\n",
    "    print(\"#\"*20)"
   ]
  },
  {
   "cell_type": "code",
   "execution_count": 130,
   "metadata": {},
   "outputs": [
    {
     "name": "stdout",
     "output_type": "stream",
     "text": [
      "loss: 4.842877388000488e-08\n",
      "context:\n",
      " In World War II, it was recognised that the Rhine would present a formidable natural obstacle to the invasion of Germany, by the Western Allies. The Rhine bridge at Arnhem, immortalized in the book, A Bridge Too Far and the film, was a central focus of the battle for Arnhem, during the failed Operation Market Garden of September 1944. The bridges at Nijmegen, over the Waal distributary of the Rhine, were also an objective of Operation Market Garden. In a separate operation, the Ludendorff Bridge, crossing the Rhine at Remagen, became famous, when U.S. forces were able to capture it intact – much to their own surprise – after the Germans failed to demolish it. This also became the subject of a film, The Bridge at Remagen. Seven Days to the River Rhine was a Warsaw Pact war plan for an invasion of Western Europe during the Cold War.\n",
      "~~~~~~~~~~~~~~~~~~~~\n",
      "question:\n",
      " How long did the Cold War last?\n",
      "####################\n",
      "loss: 4.6566128730773926e-08\n",
      "context:\n",
      " Victoria (abbreviated as Vic) is a state in the south-east of Australia. Victoria is Australia's most densely populated state and its second-most populous state overall. Most of its population is concentrated in the area surrounding Port Phillip Bay, which includes the metropolitan area of its capital and largest city, Melbourne, which is Australia's second-largest city. Geographically the smallest state on the Australian mainland, Victoria is bordered by Bass Strait and Tasmania to the south,[note 1] New South Wales to the north, the Tasman Sea to the east, and South Australia to the west.\n",
      "~~~~~~~~~~~~~~~~~~~~\n",
      "question:\n",
      " What city is the capital of Australia?\n",
      "####################\n",
      "loss: 4.6193599700927736e-08\n",
      "context:\n",
      " With Istanbul as its capital and control of lands around the Mediterranean basin, the Ottoman Empire was at the center of interactions between the Eastern and Western worlds for six centuries. Following a long period of military setbacks against European powers, the Ottoman Empire gradually declined into the late nineteenth century. The empire allied with Germany in the early 20th century, with the imperial ambition of recovering its lost territories, but it dissolved in the aftermath of World War I, leading to the emergence of the new state of Turkey in the Ottoman Anatolian heartland, as well as the creation of modern Balkan and Middle Eastern states, thus ending Turkish colonial ambitions.\n",
      "~~~~~~~~~~~~~~~~~~~~\n",
      "question:\n",
      "  What was not the capital of the Ottoman empire?\n",
      "####################\n",
      "loss: 4.284083843231201e-08\n",
      "context:\n",
      " The 2010 United States Census reported that Fresno had a population of 494,665. The population density was 4,404.5 people per square mile (1,700.6/km²). The racial makeup of Fresno was 245,306 (49.6%) White, 40,960 (8.3%) African American, 8,525 (1.7%) Native American, 62,528 (12.6%) Asian (3.6% Hmong, 1.7% Indian, 1.2% Filipino, 1.2% Laotian, 1.0% Thai, 0.8% Cambodian, 0.7% Chinese, 0.5% Japanese, 0.4% Vietnamese, 0.2% Korean), 849 (0.2%) Pacific Islander, 111,984 (22.6%) from other races, and 24,513 (5.0%) from two or more races. Hispanic or Latino of any race were 232,055 persons (46.9%). Among the Hispanic population, 42.7% of the total population are Mexican, 0.4% Salvadoran, and 0.4% Puerto Rican. Non-Hispanic Whites were 30.0% of the population in 2010, down from 72.6% in 1970.\n",
      "~~~~~~~~~~~~~~~~~~~~\n",
      "question:\n",
      " What was the US population in 2010?\n",
      "####################\n",
      "loss: 3.14580069647895e-08\n",
      "context:\n",
      " Around 2.5 million years ago (ending 11,600 years ago) was the geological period of the Ice Ages. Since approximately 600,000 years ago, six major Ice Ages have occurred, in which sea level dropped 120 m (390 ft) and much of the continental margins became exposed. In the Early Pleistocene, the Rhine followed a course to the northwest, through the present North Sea. During the so-called Anglian glaciation (~450,000 yr BP, marine oxygen isotope stage 12), the northern part of the present North Sea was blocked by the ice and a large lake developed, that overflowed through the English Channel. This caused the Rhine's course to be diverted through the English Channel. Since then, during glacial times, the river mouth was located offshore of Brest, France and rivers, like the Thames and the Seine, became tributaries to the Rhine. During interglacials, when sea level rose to approximately the present level, the Rhine built deltas, in what is now the Netherlands.\n",
      "~~~~~~~~~~~~~~~~~~~~\n",
      "question:\n",
      " What country is the English Channel located in?\n",
      "####################\n"
     ]
    }
   ],
   "source": [
    "for idx, loss in unans_loss_counter.most_common()[-5:]:\n",
    "    print(\"loss:\", loss)\n",
    "    print(\"context:\\n\", id2q[idx][1])\n",
    "    print(\"~\"*20)\n",
    "    print(\"question:\\n\", id2q[idx][0])\n",
    "    print(\"#\"*20)"
   ]
  },
  {
   "cell_type": "code",
   "execution_count": null,
   "metadata": {},
   "outputs": [],
   "source": []
  }
 ],
 "metadata": {
  "kernelspec": {
   "display_name": "Python 3",
   "language": "python",
   "name": "python3"
  },
  "language_info": {
   "codemirror_mode": {
    "name": "ipython",
    "version": 3
   },
   "file_extension": ".py",
   "mimetype": "text/x-python",
   "name": "python",
   "nbconvert_exporter": "python",
   "pygments_lexer": "ipython3",
   "version": "3.7.2"
  }
 },
 "nbformat": 4,
 "nbformat_minor": 2
}
