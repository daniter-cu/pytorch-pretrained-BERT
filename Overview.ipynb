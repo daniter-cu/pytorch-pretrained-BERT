{
 "cells": [
  {
   "cell_type": "markdown",
   "metadata": {},
   "source": [
    "# Goal - How hard is it to detect unanswerable questions?\n",
    "## i.e. - if we only train a supervised model on answerable questions, can we detect unanswerable questions by just looking at questions that are \"out of distribution\"\n",
    "\n",
    "## Motivations\n",
    "### 1) Study how close to a supervised classifier we can get from an unsupervised model (ie. only training on positive examples) \n",
    "### 2) Can apply on different domains where there is no negative set"
   ]
  },
  {
   "cell_type": "markdown",
   "metadata": {},
   "source": [
    "***\n"
   ]
  },
  {
   "cell_type": "markdown",
   "metadata": {},
   "source": [
    "## Methods\n",
    "### 1) Find patterns in unanswerable questions that can easily be represented. Can we build a good supervised classifier that doesn't see sentences or contexts but only a small # of heuristic features\n",
    "### 2) Develop a more general model that can assign probabilities to questions such that unanswerable questions have lower probabilities that answerable questions."
   ]
  },
  {
   "cell_type": "markdown",
   "metadata": {},
   "source": [
    "# Part 1:\n",
    "## Characteristics of unanswerable questions"
   ]
  },
  {
   "cell_type": "markdown",
   "metadata": {},
   "source": [
    "#### Negations in the question when there is none in the context\n",
    "Question: Who was **not** frustrated with the Spectre project?\n",
    "\n",
    "Context: In November 2014, Sony Pictures Entertainment was targeted by hackers who released details of confidential e-mails between Sony executives regarding several high-profile film projects. Included within these were several memos relating to the production of Spectre, claiming that the film was over budget, detailing early drafts of the script written by John Logan, and expressing __Sony's frustration with the project__. Eon Productions later issued a statement confirming the leak of what they called \"an early version of the screenplay\".\n",
    "\n",
    "Accuracy: 86%  \n",
    "Coverage: 5.8%"
   ]
  },
  {
   "cell_type": "markdown",
   "metadata": {},
   "source": [
    "#### Use of non-existant entities\n",
    "Question:What is the **Italian** name of the Canadian Armed Forces?\n",
    "\n",
    "Context: The Canadian Armed Forces (CAF; **French**: Forces armées canadiennes, FAC), or Canadian Forces (CF) (French: les Forces canadiennes, FC), is the unified armed force of Canada, as constituted by the National Defence Act, which states: \"The Canadian Forces are the armed forces of Her Majesty raised by Canada and consist of one Service called the Canadian Armed Forces.\"\n",
    "\n",
    "Rule: Entities that appear in the question that do not appear in context  \n",
    "Accuracy: 50%  \n",
    "Coverage: 20%\n",
    "\n",
    "Issues:\n",
    "* normalization: Italian vs Italy, plurals, misspellings(false postive and false negative), acronyms(not used in the context)\n",
    "* Some questions rely on implied knowledge but some seem to erronously know extra context\n",
    "    * True negative : X happened in NY, NJ, and MA... Q: What happend in some American States?\n",
    "    * False negative: West said X... Q: What did Kanye say?"
   ]
  },
  {
   "cell_type": "markdown",
   "metadata": {},
   "source": [
    "#### Antonyms\n",
    "Question: What **decreased** the pressure for people of African descent to be claimed by the black community?\n",
    "\n",
    "Answer: After the Civil War, racial segregation forced African Americans to share more of a common lot in society than they might have given widely varying ancestry, educational and economic levels. The binary division altered the separate status of the traditionally free people of color in Louisiana, for instance, although they maintained a strong Louisiana Créole culture related to French culture and language, and practice of Catholicism. African Americans began to create common cause—regardless of their multiracial admixture or social and economic stratification. In 20th-century changes, during the rise of the Civil Rights and Black Power movements, the African-American community **increased its own pressure for people** of any portion of African descent to be claimed by the black community to add to its power.\n",
    "\n",
    "Rule: There is a word in the question that has a WordNet antontym and that antonym appears in the context  \n",
    "Accuracy: ~50%  \n",
    "Coverage: ~50% occurrance of words with antonym, ~7% where one of the terms appear in the context"
   ]
  },
  {
   "cell_type": "markdown",
   "metadata": {},
   "source": [
    "#### Entity replacement / predicate replacement\n",
    "Question: How long is **Wilshire Blvd.**?\n",
    "\n",
    "\n",
    "Context: The Downtown District is the home of the **Third Street Promenade**, a major outdoor pedestrian-only shopping district that stretches for **three blocks between Wilshire Blvd. and Broadway** (not the same Broadway in downtown and south Los Angeles). Third Street is closed to vehicles for those three blocks to allow people to stroll, congregate, shop and enjoy street performers. Santa Monica Place, featuring Bloomingdale's and Nordstrom in a three-level outdoor environment, is located at the south end of the Promenade. After a period of redevelopment, the mall reopened in the fall of 2010 as a modern shopping, entertainment and dining complex with more outdoor space.\n"
   ]
  },
  {
   "cell_type": "markdown",
   "metadata": {},
   "source": [
    "## Other hints: Attention allignment\n",
    "- See BiDaf demo\n"
   ]
  },
  {
   "cell_type": "markdown",
   "metadata": {},
   "source": [
    "## Copies\n",
    "### Many strings are copied from the context to the question. I haven't found any obvious rules for the difference in copies between answerable and unanswerable questions\n",
    "\n",
    "### Looking at tokens on the edge of copies to detect a partial copy that is changing meaning\n",
    "Question: An explosion filmed in what city holds the Guinness World Record for \"**Smallest film stunt explosion**\"?\n",
    "\n",
    "After wrapping up in England, production travelled to Morocco in June, with filming taking place in Oujda, Tangier and Erfoud, after preliminary work was completed by the production's second unit. An explosion filmed in Morocco holds a Guinness World Record for the \"**Largest film stunt explosion**\" in cinematic history, with the record credited to production designer Chris Corbould. Principal photography concluded on 5 July 2015. A wrap-up party for Spectre was held in commemoration before entering post-production. Filming took 128 days.\n",
    "\n",
    "Accuracy: ~50%  \n",
    "Coverage: 7%"
   ]
  },
  {
   "cell_type": "markdown",
   "metadata": {},
   "source": [
    "***"
   ]
  },
  {
   "cell_type": "markdown",
   "metadata": {},
   "source": [
    "# Part 2\n",
    "\n",
    "## Structured masking model"
   ]
  },
  {
   "cell_type": "markdown",
   "metadata": {},
   "source": [
    "in 1975 , the most prominent government reforms regarding family law in a muslim country were set in motion in the somali democratic republic , which put women and men , including husbands and wives , on complete equal footing . the 1975 somali family **law gave men and women equal division of property** between the husband and wife upon divorce and the exclusive right to control by each spouse over his or her personal property . *[SEP] in addition to giving spouse ##s **[MASK]** over their personal property during marriage , what did the somali family law give them ? [SEP] np [SEP]*\n",
    "\n",
    "Predict: ['equal', 'rights', '[SEP]']"
   ]
  },
  {
   "cell_type": "code",
   "execution_count": null,
   "metadata": {},
   "outputs": [],
   "source": []
  }
 ],
 "metadata": {
  "kernelspec": {
   "display_name": "Python 3",
   "language": "python",
   "name": "python3"
  },
  "language_info": {
   "codemirror_mode": {
    "name": "ipython",
    "version": 3
   },
   "file_extension": ".py",
   "mimetype": "text/x-python",
   "name": "python",
   "nbconvert_exporter": "python",
   "pygments_lexer": "ipython3",
   "version": "3.7.2"
  }
 },
 "nbformat": 4,
 "nbformat_minor": 2
}
