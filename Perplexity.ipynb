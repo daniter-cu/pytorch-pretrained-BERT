{
 "cells": [
  {
   "cell_type": "code",
   "execution_count": 33,
   "metadata": {},
   "outputs": [],
   "source": [
    "import torch\n",
    "import json\n",
    "import pickle\n",
    "from pytorch_pretrained_bert import BertTokenizer, BertModel, BertForMaskedLM\n",
    "import numpy as np"
   ]
  },
  {
   "cell_type": "code",
   "execution_count": 3,
   "metadata": {},
   "outputs": [],
   "source": [
    "# Load pre-trained model tokenizer (vocabulary)\n",
    "tokenizer = BertTokenizer.from_pretrained('bert-base-uncased')\n",
    "\n",
    "model = BertForMaskedLM.from_pretrained('bert-base-uncased')\n",
    "model.eval()\n",
    "\n",
    "with open(\"dataset/dev-v2.0.json\", 'r') as handle:\n",
    "    jdata = json.load(handle)\n",
    "    data = jdata['data']"
   ]
  },
  {
   "cell_type": "code",
   "execution_count": 111,
   "metadata": {},
   "outputs": [],
   "source": [
    "def calc_prob(context, question):\n",
    "    gt_question = question\n",
    "    gt_q_tokens = tokenizer.tokenize(gt_question)\n",
    "    gt_indexed_q_tokens = tokenizer.convert_tokens_to_ids(gt_q_tokens)\n",
    "    \n",
    "    mask_tokens = [\"[MASK]\"]*len(gt_indexed_q_tokens)\n",
    "    indexed_mask_tokens = tokenizer.convert_tokens_to_ids(mask_tokens)\n",
    "    \n",
    "    context_tokens = tokenizer.tokenize(context)\n",
    "    indexed_context_tokens = tokenizer.convert_tokens_to_ids(context_tokens)\n",
    "    \n",
    "    tokens_tensor = torch.tensor([indexed_context_tokens + gt_indexed_q_tokens])#indexed_mask_tokens])\n",
    "    segments_tensors = torch.tensor([0]*len(indexed_context_tokens) + [1]*len(gt_indexed_q_tokens))\n",
    "    predictions = model(tokens_tensor, segments_tensors)\n",
    "    \n",
    "    total = 0\n",
    "    context_len = len(context_tokens)\n",
    "    q_len = len(gt_indexed_q_tokens)\n",
    "    for i in range(q_len):\n",
    "        preds = predictions[0, context_len+i].data.numpy()\n",
    "        total += -np.log(np.exp(preds[gt_indexed_q_tokens[i]]) / sum(np.exp(preds)))\n",
    "    entropy = total / q_len\n",
    "    perplexity = np.exp(entropy)\n",
    "    return perplexity\n"
   ]
  },
  {
   "cell_type": "code",
   "execution_count": 155,
   "metadata": {},
   "outputs": [],
   "source": [
    "def calc_prob_nn(context, question):\n",
    "    gt_question = question\n",
    "    gt_q_tokens = tokenizer.tokenize(gt_question)\n",
    "    gt_indexed_q_tokens = tokenizer.convert_tokens_to_ids(gt_q_tokens)\n",
    "    \n",
    "    mask_tokens = [\"[MASK]\"]*len(gt_indexed_q_tokens)\n",
    "    indexed_mask_tokens = tokenizer.convert_tokens_to_ids(mask_tokens)\n",
    "    \n",
    "    context_tokens = tokenizer.tokenize(context)\n",
    "    indexed_context_tokens = tokenizer.convert_tokens_to_ids(context_tokens)\n",
    "    \n",
    "    tokens_tensor = torch.tensor([indexed_context_tokens + gt_indexed_q_tokens])#indexed_mask_tokens])\n",
    "    segments_tensors = torch.tensor([0]*len(indexed_context_tokens) + [1]*len(gt_indexed_q_tokens))\n",
    "    predictions = model(tokens_tensor, segments_tensors)\n",
    "    \n",
    "    total = 0\n",
    "    context_len = len(context_tokens)\n",
    "    q_len = len(gt_indexed_q_tokens)\n",
    "    for i in range(q_len):\n",
    "        preds = predictions[0, context_len+i]\n",
    "        m = torch.nn.LogSoftmax(0)\n",
    "        total += -m(preds)[gt_indexed_q_tokens[i]]\n",
    "    entropy = total / q_len\n",
    "    perplexity = torch.exp(entropy)\n",
    "    return perplexity.item()\n"
   ]
  },
  {
   "cell_type": "code",
   "execution_count": 156,
   "metadata": {},
   "outputs": [],
   "source": [
    "answerable_probs = []\n",
    "unanswerable_probs = []\n",
    "counter = 0\n",
    "for i in range(1):#len(data)):\n",
    "    section = data[i]['paragraphs']\n",
    "    for sec in section:\n",
    "        context = sec['context']\n",
    "        qas = sec['qas']\n",
    "        for j in range(1):#len(qas)):\n",
    "            question = qas[j]['question']\n",
    "            label = qas[j]['is_impossible']\n",
    "            try:\n",
    "                prob = calc_prob_nn(context, question)\n",
    "            except:\n",
    "                continue\n",
    "            if label:\n",
    "                unanswerable_probs.append(prob)\n",
    "            else:\n",
    "                answerable_probs.append(prob)\n",
    "            counter += 1\n",
    "            if counter % 100 == 0:\n",
    "                print(\"Processed \", counter)\n"
   ]
  },
  {
   "cell_type": "code",
   "execution_count": 157,
   "metadata": {},
   "outputs": [
    {
     "data": {
      "text/plain": [
       "(0, 39)"
      ]
     },
     "execution_count": 157,
     "metadata": {},
     "output_type": "execute_result"
    }
   ],
   "source": [
    "len(unanswerable_probs), len(answerable_probs)"
   ]
  },
  {
   "cell_type": "code",
   "execution_count": 158,
   "metadata": {},
   "outputs": [
    {
     "data": {
      "text/plain": [
       "[1.0386896133422852,\n",
       " 1.00559663772583,\n",
       " 1.0815110206604004,\n",
       " 1.0120166540145874,\n",
       " 1.373599886894226,\n",
       " 1.668235421180725,\n",
       " 1.1020958423614502,\n",
       " 1.0394967794418335,\n",
       " 1.0531052350997925,\n",
       " 1.0175679922103882,\n",
       " 1.2521883249282837,\n",
       " 1.3428235054016113,\n",
       " 1.0025913715362549,\n",
       " 1.017141580581665,\n",
       " 2.231492519378662,\n",
       " 1.0351502895355225,\n",
       " 2.9918084144592285,\n",
       " 1.0116231441497803,\n",
       " 1.0478287935256958,\n",
       " 1.0523213148117065,\n",
       " 1.3863749504089355,\n",
       " 1.4054036140441895,\n",
       " 1.0181043148040771,\n",
       " 1.2002761363983154,\n",
       " 1.0166414976119995,\n",
       " 1.3167959451675415,\n",
       " 1.7294028997421265,\n",
       " 1.0487662553787231,\n",
       " 1.147337794303894,\n",
       " 1.0318613052368164,\n",
       " 2.6944332122802734,\n",
       " 1.014600157737732,\n",
       " 1.3016120195388794,\n",
       " 1.0237298011779785,\n",
       " 1.095757007598877,\n",
       " 1.1719547510147095,\n",
       " 1.0836412906646729,\n",
       " 1.17014479637146,\n",
       " 1.1324546337127686]"
      ]
     },
     "execution_count": 158,
     "metadata": {},
     "output_type": "execute_result"
    }
   ],
   "source": [
    "answerable_probs"
   ]
  },
  {
   "cell_type": "code",
   "execution_count": null,
   "metadata": {},
   "outputs": [],
   "source": []
  },
  {
   "cell_type": "code",
   "execution_count": 154,
   "metadata": {},
   "outputs": [
    {
     "name": "stdout",
     "output_type": "stream",
     "text": [
      "tensor(2.9956e-13, grad_fn=<ExpBackward>)\n",
      "tensor(5.6307e-14, grad_fn=<ExpBackward>)\n",
      "tensor(2.2631e-16, grad_fn=<ExpBackward>)\n",
      "tensor(2.4225e-10, grad_fn=<ExpBackward>)\n",
      "tensor(3.0055e-10, grad_fn=<ExpBackward>)\n",
      "tensor(8.1845e-13, grad_fn=<ExpBackward>)\n",
      "tensor(1.4191e-14, grad_fn=<ExpBackward>)\n"
     ]
    },
    {
     "data": {
      "text/plain": [
       "1.1324546337127686"
      ]
     },
     "execution_count": 154,
     "metadata": {},
     "output_type": "execute_result"
    }
   ],
   "source": [
    "gt_question = question\n",
    "gt_q_tokens = tokenizer.tokenize(gt_question)\n",
    "gt_indexed_q_tokens = tokenizer.convert_tokens_to_ids(gt_q_tokens)\n",
    "\n",
    "mask_tokens = [\"[MASK]\"]*len(gt_indexed_q_tokens)\n",
    "indexed_mask_tokens = tokenizer.convert_tokens_to_ids(mask_tokens)\n",
    "\n",
    "context_tokens = tokenizer.tokenize(context)\n",
    "indexed_context_tokens = tokenizer.convert_tokens_to_ids(context_tokens)\n",
    "\n",
    "tokens_tensor = torch.tensor([indexed_context_tokens + gt_indexed_q_tokens])#indexed_mask_tokens])\n",
    "segments_tensors = torch.tensor([0]*len(indexed_context_tokens) + [1]*len(gt_indexed_q_tokens))\n",
    "predictions = model(tokens_tensor, segments_tensors)\n",
    "\n",
    "total = 0\n",
    "context_len = len(context_tokens)\n",
    "q_len = len(gt_indexed_q_tokens)\n",
    "for i in range(q_len):\n",
    "    preds = predictions[0, context_len+i]\n",
    "    m = torch.nn.LogSoftmax(0)\n",
    "    total += -m(preds)[gt_indexed_q_tokens[i]]\n",
    "entropy = total / q_len\n",
    "perplexity = torch.exp(entropy)\n",
    "perplexity.item()\n",
    "\n"
   ]
  },
  {
   "cell_type": "code",
   "execution_count": null,
   "metadata": {},
   "outputs": [],
   "source": []
  },
  {
   "cell_type": "code",
   "execution_count": null,
   "metadata": {},
   "outputs": [],
   "source": []
  },
  {
   "cell_type": "code",
   "execution_count": null,
   "metadata": {},
   "outputs": [],
   "source": []
  },
  {
   "cell_type": "code",
   "execution_count": null,
   "metadata": {},
   "outputs": [],
   "source": []
  },
  {
   "cell_type": "code",
   "execution_count": 138,
   "metadata": {},
   "outputs": [
    {
     "name": "stdout",
     "output_type": "stream",
     "text": [
      "2292208631808.0\n"
     ]
    }
   ],
   "source": [
    "gt_question = question\n",
    "gt_q_tokens = tokenizer.tokenize(gt_question)\n",
    "gt_indexed_q_tokens = tokenizer.convert_tokens_to_ids(gt_q_tokens)\n",
    "\n",
    "mask_tokens = [\"[MASK]\"]*len(gt_indexed_q_tokens)\n",
    "indexed_mask_tokens = tokenizer.convert_tokens_to_ids(mask_tokens)\n",
    "\n",
    "context_tokens = tokenizer.tokenize(context)\n",
    "indexed_context_tokens = tokenizer.convert_tokens_to_ids(context_tokens)\n",
    "\n",
    "tokens_tensor = torch.tensor([indexed_context_tokens + gt_indexed_q_tokens])#indexed_mask_tokens])\n",
    "segments_tensors = torch.tensor([0]*len(indexed_context_tokens) + [1]*len(gt_indexed_q_tokens))\n",
    "predictions = model(tokens_tensor, segments_tensors)\n",
    "\n",
    "total = 0\n",
    "context_len = len(context_tokens)\n",
    "q_len = len(gt_indexed_q_tokens)\n",
    "for i in range(q_len):\n",
    "    preds = predictions[0, context_len+i]\n",
    "    m = torch.nn.LogSoftmax(0)\n",
    "    total += -m(preds)[i]\n",
    "entropy = total / q_len\n",
    "perplexity = torch.exp(entropy)\n",
    "print(perplexity.item())\n",
    "\n"
   ]
  },
  {
   "cell_type": "code",
   "execution_count": null,
   "metadata": {},
   "outputs": [],
   "source": []
  },
  {
   "cell_type": "code",
   "execution_count": null,
   "metadata": {},
   "outputs": [],
   "source": [
    "with open(\"./results.pkl\", \"wb\") as handle:\n",
    "    pickle.dump((answerable_probs, unanswerable_probs), handle)"
   ]
  }
 ],
 "metadata": {
  "kernelspec": {
   "display_name": "Python 3",
   "language": "python",
   "name": "python3"
  },
  "language_info": {
   "codemirror_mode": {
    "name": "ipython",
    "version": 3
   },
   "file_extension": ".py",
   "mimetype": "text/x-python",
   "name": "python",
   "nbconvert_exporter": "python",
   "pygments_lexer": "ipython3",
   "version": "3.7.2"
  }
 },
 "nbformat": 4,
 "nbformat_minor": 2
}
