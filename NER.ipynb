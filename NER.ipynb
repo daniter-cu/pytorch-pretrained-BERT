{
 "cells": [
  {
   "cell_type": "code",
   "execution_count": 1,
   "metadata": {},
   "outputs": [],
   "source": [
    "import sys\n",
    "sys.path.append(\"../ner/BERT-NER/\")"
   ]
  },
  {
   "cell_type": "code",
   "execution_count": 2,
   "metadata": {},
   "outputs": [
    {
     "name": "stdout",
     "output_type": "stream",
     "text": [
      "Better speed can be achieved with apex installed from https://www.github.com/nvidia/apex.\n"
     ]
    }
   ],
   "source": [
    "from bert import Ner\n",
    "\n",
    "model = Ner(\"../ner/BERT-NER/out/\")"
   ]
  },
  {
   "cell_type": "code",
   "execution_count": 3,
   "metadata": {},
   "outputs": [],
   "source": [
    "output = model.predict(\"When did the House of Burgundy revolt against Philip II?\")"
   ]
  },
  {
   "cell_type": "code",
   "execution_count": 4,
   "metadata": {},
   "outputs": [
    {
     "data": {
      "text/plain": [
       "{'When': {'tag': 'O', 'confidence': 0.9998822212219238},\n",
       " 'did': {'tag': 'O', 'confidence': 0.999711811542511},\n",
       " 'the': {'tag': 'O', 'confidence': 0.9998853206634521},\n",
       " 'House': {'tag': 'B-ORG', 'confidence': 0.9997528195381165},\n",
       " 'of': {'tag': 'I-ORG', 'confidence': 0.9949380159378052},\n",
       " 'Burgundy': {'tag': 'I-ORG', 'confidence': 0.9900270104408264},\n",
       " 'revolt': {'tag': 'O', 'confidence': 0.9858018755912781},\n",
       " 'against': {'tag': 'O', 'confidence': 0.9998939037322998},\n",
       " 'Philip': {'tag': 'B-PER', 'confidence': 0.9998753070831299},\n",
       " 'II': {'tag': 'O', 'confidence': 0.9446985721588135},\n",
       " '?': {'tag': 'O', 'confidence': 0.36162233352661133}}"
      ]
     },
     "execution_count": 4,
     "metadata": {},
     "output_type": "execute_result"
    }
   ],
   "source": [
    "output"
   ]
  },
  {
   "cell_type": "code",
   "execution_count": null,
   "metadata": {},
   "outputs": [],
   "source": [
    "def get_ents(sent):\n",
    "    output =  model.predict(sent)\n",
    "    ents = []\n",
    "    ent = None\n",
    "    for k, v in output.items():\n",
    "        assert k is not None, k\n",
    "        if v['tag'] == 'O' and ent is not None:\n",
    "            ents.append(ent.lower())\n",
    "            ent = None\n",
    "        if v['tag'].startswith('B'):\n",
    "            if ent is not None:\n",
    "                ents.append(ent.lower())\n",
    "            ent = k\n",
    "        if v['tag'].startswith('I'):\n",
    "            if ent is None:\n",
    "                ent = k\n",
    "            elif k.startswith(\"'\"):\n",
    "                ent += k\n",
    "            else:\n",
    "                ent += ' ' + k\n",
    "    return ents"
   ]
  },
  {
   "cell_type": "code",
   "execution_count": null,
   "metadata": {},
   "outputs": [],
   "source": [
    "get_ents(\"When did the House of Burgundy revolt against Philip II?\")"
   ]
  },
  {
   "cell_type": "code",
   "execution_count": 5,
   "metadata": {},
   "outputs": [],
   "source": [
    "import json\n",
    "import pickle\n",
    "import random"
   ]
  },
  {
   "cell_type": "code",
   "execution_count": 6,
   "metadata": {},
   "outputs": [],
   "source": [
    "questions = []\n",
    "contexts = []\n",
    "examples = []\n",
    "labels = []\n",
    "id2idx = {}\n",
    "files = [\"dataset/train-v2.0.json\",  \"dataset/dev-v2.0.json\"]\n",
    "for file in files:\n",
    "    with open(file, 'r') as handle:\n",
    "        jdata = json.load(handle)\n",
    "        data = jdata['data']\n",
    "    for i in range(len(data)):\n",
    "        section = data[i]['paragraphs']\n",
    "        for sec in section:\n",
    "            context = sec['context']\n",
    "            contexts.append(context)\n",
    "            qas = sec['qas']\n",
    "            for j in range(len(qas)):\n",
    "                question = qas[j]['question']\n",
    "                is_imp = qas[j]['is_impossible']\n",
    "                qid = qas[j]['id']\n",
    "                questions.append(question)\n",
    "                labels.append(is_imp)\n",
    "                examples.append((len(contexts)-1, len(questions)-1))\n",
    "                id2idx[qid] = len(questions)-1"
   ]
  },
  {
   "cell_type": "code",
   "execution_count": 18,
   "metadata": {},
   "outputs": [],
   "source": [
    "sampled_examples_ans = []\n",
    "sampled_examples_unans = []\n",
    "for e in random.sample(examples, len(examples)):\n",
    "    if labels[e[1]] == True and len(sampled_examples_unans) < 50:\n",
    "        sampled_examples_unans.append(e)\n",
    "    elif labels[e[1]] == False and len(sampled_examples_ans) < 50:\n",
    "        sampled_examples_ans.append(e)\n",
    "       "
   ]
  },
  {
   "cell_type": "code",
   "execution_count": 19,
   "metadata": {},
   "outputs": [],
   "source": [
    "def get_ents(sent):\n",
    "    output =  model.predict(sent)\n",
    "    ents = {}\n",
    "    ent = None\n",
    "    for k, v in output.items():\n",
    "        assert k is not None, k\n",
    "        if v['tag'] != 'O':\n",
    "            ents[k.lower()] = v['tag']\n",
    "    return ents"
   ]
  },
  {
   "cell_type": "code",
   "execution_count": 20,
   "metadata": {},
   "outputs": [
    {
     "name": "stdout",
     "output_type": "stream",
     "text": [
      "ANS {'crucifixion': 'B-MISC'}\n",
      "{'calvary': 'I-LOC', 'english': 'B-MISC', 'latin': 'B-MISC', 'vulgate': 'B-MISC', 'gospels': 'B-MISC', 'aramaic': 'B-MISC', 'gûlgaltâ': 'B-LOC', 'jesus': 'B-PER', 'jewish': 'B-MISC', 'roman': 'B-MISC'}\n",
      "Where was the location of the Crucifixion detailed?\n",
      "Calvary as an English name for the place is derived from the Latin word for skull (calvaria), which is used in the Vulgate translation of \"place of a skull\", the explanation given in all four Gospels of the Aramaic word Gûlgaltâ which was the name of the place where Jesus was crucified. The text does not indicate why it was so designated, but several theories have been put forward. One is that as a place of public execution, Calvary may have been strewn with the skulls of abandoned victims (which would be contrary to Jewish burial traditions, but not Roman). Another is that Calvary is named after a nearby cemetery (which is consistent with both of the proposed modern sites). A third is that the name was derived from the physical contour, which would be more consistent with the singular use of the word, i.e., the place of \"a skull\". While often referred to as \"Mount Calvary\", it was more likely a small hill or rocky knoll.\n",
      "####################\n",
      "ANS {'grecian': 'B-MISC'}\n",
      "{'modern': 'I-MISC', 'greek': 'B-MISC', 'standard': 'B-MISC', 'dimotiki': 'B-MISC', 'cypriot': 'B-MISC', 'pontic': 'B-MISC', 'cappadocian': 'B-MISC', 'griko': 'B-MISC', 'tsakonian': 'B-MISC', 'doric': 'B-MISC', 'yevanic': 'B-MISC', 'romaniotes': 'B-MISC', 'greece': 'B-LOC', 'new': 'B-LOC', 'york': 'I-LOC', 'israel': 'B-LOC', 'greeks': 'B-MISC', 'diaspora': 'B-LOC', 'english': 'B-MISC', 'arvanitika/albanian': 'B-MISC', 'aromanian': 'B-MISC', 'macedonian': 'B-MISC', 'slavic': 'I-MISC', 'russian': 'B-MISC', 'turkish': 'B-MISC'}\n",
      "What ancient language is still in use today in some of the minuscule societies in the Grecian world ?\n",
      "Modern Greek has, in addition to Standard Modern Greek or Dimotiki, a wide variety of dialects of varying levels of mutual intelligibility, including Cypriot, Pontic, Cappadocian, Griko and Tsakonian (the only surviving representative of ancient Doric Greek). Yevanic is the language of the Romaniotes, and survives in small communities in Greece, New York and Israel. In addition to Greek, many Greeks in Greece and the Diaspora are bilingual in other languages or dialects such as English, Arvanitika/Albanian, Aromanian, Macedonian Slavic, Russian and Turkish.\n",
      "####################\n",
      "ANS {'somalia': 'B-LOC'}\n",
      "{'shax': 'B-MISC', 'somali': 'B-MISC'}\n",
      "What is a notable game that is played in Somalia?\n",
      "All of these traditions, including festivals, martial arts, dress, literature, sport and games such as Shax, have immensely contributed to the enrichment of Somali heritage.\n",
      "####################\n",
      "ANS {'estonia': 'B-LOC', 'european': 'B-MISC'}\n",
      "{'estonian': 'B-MISC', '1': 'X', 'estonia': 'B-LOC', 'northern': 'B-MISC', 'crusades': 'I-MISC', 'germany': 'B-LOC', 'sweden': 'B-LOC', 'russia': 'B-LOC', 'livoniae': 'B-MISC', 'chronicle': 'B-MISC', 'henry': 'I-MISC', 'livonia': 'B-LOC', 'liber': 'B-MISC', 'census': 'I-MISC', 'daniae': 'I-MISC'}\n",
      "What event preceded the domination of Estonia by different European powers?\n",
      "The Estonian literature refers to literature written in the Estonian language (ca. 1 million speakers). The domination of Estonia after the Northern Crusades, from the 13th century to 1918 by Germany, Sweden, and Russia resulted in few early written literary works in the Estonian language. The oldest records of written Estonian date from the 13th century. Originates Livoniae in Chronicle of Henry of Livonia contains Estonian place names, words and fragments of sentences. The Liber Census Daniae (1241) contains Estonian place and family names.\n",
      "####################\n",
      "ANS {'libya': 'B-LOC', 'bani': 'B-LOC', 'walid': 'I-LOC'}\n",
      "{'libya—such': 'B-LOC', 'bani': 'B-LOC', 'walid': 'I-LOC', 'sebha': 'B-LOC', 'sirte—remained': 'B-LOC', 'gaddafist': 'B-MISC', 'sirte': 'B-LOC', 'tripoli': 'B-LOC', 'gaddafi': 'B-PER', 'ntc': 'B-ORG', \"qur'an\": 'B-MISC', 'jarref': 'B-LOC', 'valley': 'I-LOC', 'nato': 'B-ORG', 'misrata': 'B-LOC', 'abu-bakr': 'B-PER', 'yunis': 'I-PER', 'jabr': 'I-PER'}\n",
      "In what geographic part of Libya is Bani Walid located?\n",
      "Only a few towns in western Libya—such as Bani Walid, Sebha and Sirte—remained Gaddafist strongholds. Retreating to Sirte after Tripoli's fall, Gaddafi announced his willingness to negotiate for a handover to a transitional government, a suggestion rejected by the NTC. Surrounding himself with bodyguards, he continually moved residences to escape NTC shelling, devoting his days to prayer and reading the Qur'an. On 20 October, Gaddafi broke out of Sirte's District 2 in a joint civilian-military convoy, hoping to take refuge in the Jarref Valley. At around 8.30am, NATO bombers attacked, destroying at least 14 vehicles and killing at least 53. The convoy scattered, and Gaddafi and those closest to him fled to a nearby villa, which was shelled by rebel militia from Misrata. Fleeing to a construction site, Gaddafi and his inner cohort hid inside drainage pipes while his bodyguards battled the rebels; in the conflict, Gaddafi suffered head injuries from a grenade blast while defence minister Abu-Bakr Yunis Jabr was killed.\n",
      "####################\n",
      "UNANS {'base': 'B-ORG'}\n",
      "{'lotus': 'B-MISC', '1-2-3': 'I-MISC', 'dbase': 'X', 'c.': 'X', 'wayne': 'B-PER', 'ratliff': 'I-PER', 'basic': 'B-ORG', 'c': 'B-MISC', 'fortran': 'B-ORG', 'cobol': 'B-ORG'}\n",
      "When was BASE the top selling software title?\n",
      "The 1980s ushered in the age of desktop computing. The new computers empowered their users with spreadsheets like Lotus 1-2-3 and database software like dBASE. The dBASE product was lightweight and easy for any computer user to understand out of the box. C. Wayne Ratliff the creator of dBASE stated: \"dBASE was different from programs like BASIC, C, FORTRAN, and COBOL in that a lot of the dirty work had already been done. The data manipulation is done by dBASE instead of by the user, so the user can concentrate on what he is doing, rather than having to mess with the dirty details of opening, reading, and closing files, and managing space allocation.\" dBASE was one of the top selling software titles in the 1980s and early 1990s.\n",
      "####################\n",
      "UNANS {'serbs': 'B-MISC'}\n",
      "{'dalmatia': 'B-LOC', 'štokavian': 'B-MISC', 'catholic': 'B-MISC', 'croatian': 'B-MISC', 'serbo-croatian': 'B-MISC', 'christendom': 'B-ORG', 'illyrian': 'B-MISC', 'pan-slavism': 'B-MISC', 'croat': 'B-MISC', '350': 'X', 'croats': 'B-MISC', 'serbian': 'B-MISC', 'vuk': 'B-PER', 'karadžić': 'I-PER', 'ivan': 'B-PER', 'broz': 'I-PER', 'dalmatian': 'B-LOC', 'serb': 'B-MISC', 'macedonian': 'B-MISC', 'greek': 'B-MISC', 'vatroslav': 'B-PER', 'jagić': 'I-PER'}\n",
      "What did 30 Serbs see themselves over a span of 350 years?\n",
      "However, most intellectuals and writers from Dalmatia who used the Štokavian dialect and practiced the Catholic faith saw themselves as part of a Croatian nation as far back as the mid-16th to 17th centuries, some 300 years before Serbo-Croatian ideology appeared. Their loyalty was first and foremost to Catholic Christendom, but when they professed an ethnic identity, they referred to themselves as \"Slovin\" and \"Illyrian\" (a sort of forerunner of Catholic baroque pan-Slavism) and Croat – these 30-odd writers over the span of c. 350 years always saw themselves as Croats first and never as part of a Serbian nation. It should also be noted that, in the pre-national era, Catholic religious orientation did not necessarily equate with Croat ethnic identity in Dalmatia. A Croatian follower of Vuk Karadžić, Ivan Broz, noted that for a Dalmatian to identify oneself as a Serb was seen as foreign as identifying oneself as Macedonian or Greek. Vatroslav Jagić pointed out in 1864:\n",
      "####################\n",
      "UNANS {'the': 'B-ORG', 'farm': 'I-ORG', 'all': 'B-ORG', 'together': 'I-ORG', 'now': 'I-MISC'}\n",
      "{'the': 'B-ORG', 'uk': 'B-LOC', 'fa': 'B-MISC', 'cup': 'I-MISC', 'final': 'I-MISC', 'boys': 'I-ORG', 'blue': 'I-ORG', 'here': 'B-MISC', 'we': 'I-MISC', 'go': 'I-MISC', \"'s\": 'I-ORG', 'blues': 'I-MISC', 'all': 'B-MISC', 'together': 'I-MISC', 'merseyside': 'B-MISC', 'farm': 'I-ORG'}\n",
      "In what year did The Farm perform \"All Together Now\"?\n",
      "The club have entered the UK pop charts on four occasions under different titles during the 1980s and 1990s when many clubs released a song to mark their reaching the FA Cup Final. \"The Boys in Blue\", released in 1984, peaked at number 82. The following year the club scored their biggest hit when \"Here We Go\" peaked at 14. In 1986 the club released \"Everybody's Cheering The Blues\" which reached number 83. \"All Together Now\", a reworking of a song by Merseyside band The Farm, was released for the 1995 FA Cup Final and reached number 27. When the club next reached the 2009 FA Cup Final, the tradition had passed into history and no song was released.\n",
      "####################\n"
     ]
    },
    {
     "name": "stdout",
     "output_type": "stream",
     "text": [
      "UNANS {'latin': 'B-MISC', 'rjecnik': 'B-MISC'}\n",
      "{'croatian': 'B-MISC', 'latin': 'B-MISC', 'gajica': 'B-MISC', 'ljudevit': 'B-PER', 'gaj': 'I-PER', 'czech': 'B-MISC', 'polish': 'B-MISC', 'rječnik': 'B-ORG', 'yugoslav': 'B-ORG', 'academy': 'I-ORG', 'sciences': 'I-ORG', 'arts': 'I-ORG', 'zagreb': 'B-LOC', 'serbo-croatian': 'B-MISC', 'slavic': 'B-MISC', 'cyrillic': 'B-MISC'}\n",
      "What is standard Latin represented as in the Rjecnik hrvatskog ili srpskog jezika?\n",
      "The Croatian Latin alphabet (Gajica) followed suit shortly afterwards, when Ljudevit Gaj defined it as standard Latin with five extra letters that had diacritics, apparently borrowing much from Czech, but also from Polish, and inventing the unique digraphs \"lj\", \"nj\" and \"dž\". These digraphs are represented as \"ļ, ń and ǵ\" respectively in the \"Rječnik hrvatskog ili srpskog jezika\", published by the former Yugoslav Academy of Sciences and Arts in Zagreb. The latter digraphs, however, are unused in the literary standard of the language. All in all, this makes Serbo-Croatian the only Slavic language to officially use both the Latin and Cyrillic scripts, albeit the Latin version is more commonly used.\n",
      "####################\n",
      "UNANS {'italian': 'B-MISC', 'canadian': 'B-MISC', 'armed': 'I-ORG', 'forces': 'I-ORG'}\n",
      "{'canadian': 'B-ORG', 'armed': 'I-ORG', 'forces': 'I-ORG', 'caf': 'B-ORG', 'french': 'B-MISC', 'armées': 'I-ORG', 'canadiennes': 'I-ORG', 'fac': 'B-ORG', 'cf': 'B-ORG', 'les': 'B-ORG', 'fc': 'B-ORG', 'canada': 'B-LOC', 'national': 'B-MISC', 'defence': 'I-MISC', 'act': 'I-MISC', 'service': 'B-ORG'}\n",
      "What is the Italian name of the Canadian Armed Forces?\n",
      "The Canadian Armed Forces (CAF; French: Forces armées canadiennes, FAC), or Canadian Forces (CF) (French: les Forces canadiennes, FC), is the unified armed force of Canada, as constituted by the National Defence Act, which states: \"The Canadian Forces are the armed forces of Her Majesty raised by Canada and consist of one Service called the Canadian Armed Forces.\"\n",
      "####################\n",
      "UNANS {'texas': 'B-LOC'}\n",
      "{'houston': 'B-LOC', 'port': 'B-LOC', 'united': 'B-LOC', 'states': 'I-LOC'}\n",
      "Of what is Texas a center?\n",
      "The Houston area is a leading center for building oilfield equipment. Much of its success as a petrochemical complex is due to its busy ship channel, the Port of Houston. In the United States, the port ranks first in international commerce and tenth among the largest ports in the world. Unlike most places, high oil and gasoline prices are beneficial for Houston's economy, as many of its residents are employed in the energy industry. Houston is the beginning or end point of numerous oil, gas, and products pipelines:\n",
      "####################\n",
      "UNANS {'cainboy': 'B-MISC'}\n",
      "{'piedmont': 'B-LOC', 'confederates': 'B-MISC', 'republicans': 'B-MISC', 'democratic': 'B-MISC', 'red': 'B-ORG', 'shirts': 'I-ORG', 'charleston': 'B-LOC', 'king': 'B-LOC', 'street': 'I-LOC', 'cainhoy': 'B-LOC', 'republican': 'B-MISC', 'wade': 'B-PER', 'hampton': 'I-PER'}\n",
      "The Cainboy Incident occurred on what day?\n",
      "Violent incidents occurred throughout the Piedmont of the state as white insurgents struggled to maintain white supremacy in the face of social changes after the war and granting of citizenship to freedmen by federal constitutional amendments. After former Confederates were allowed to vote again, election campaigns from 1872 on were marked by violent intimidation of blacks and Republicans by white Democratic paramilitary groups, known as the Red Shirts. Violent incidents took place in Charleston on King Street in September 6 and in nearby Cainhoy on October 15, both in association with political meetings before the 1876 election. The Cainhoy incident was the only one statewide in which more whites were killed than blacks. The Red Shirts were instrumental in suppressing the black Republican vote in some areas in 1876 and narrowly electing Wade Hampton as governor, and taking back control of the state legislature. Another riot occurred in Charleston the day after the election, when a prominent Republican leader was mistakenly reported killed.\n",
      "####################\n",
      "UNANS {'von': 'B-PER', 'hornigk': 'I-PER'}\n",
      "{'michel': 'B-PER', 'foucault': 'B-PER', 'german': 'B-MISC', 'french': 'B-MISC', 'public': 'B-ORG', 'statistics': 'B-ORG', 'nicolas': 'B-PER', 'delamare': 'I-PER', 'traité': 'B-MISC', 'de': 'I-MISC', 'la': 'I-MISC', 'police': 'I-ORG', 'polizeiwissenschaft': 'B-MISC', 'science': 'B-ORG', 'philipp': 'B-PER', 'von': 'I-PER', 'hörnigk': 'I-PER', 'austrian': 'B-MISC', 'johann': 'B-PER', 'heinrich': 'I-PER', 'gottlob': 'I-PER', 'justi': 'I-PER', 'cameral': 'B-MISC', 'magdalene': 'B-PER', 'humpert': 'I-PER', 'bibliographie': 'B-ORG', 'der': 'I-MISC', 'kameralwissenschaften': 'I-MISC'}\n",
      "What wasn't von Hornigk's career?\n",
      "Michel Foucault claims that the contemporary concept of police as a paid and funded functionary of the state was developed by German and French legal scholars and practitioners in Public administration and Statistics in the 17th and early 18th centuries, most notably with Nicolas Delamare's Traité de la Police (\"Treatise on the Police\"), first published in 1705. The German Polizeiwissenschaft (Science of Police) first theorized by Philipp von Hörnigk a 17th-century Austrian Political economist and civil servant and much more famously by Johann Heinrich Gottlob Justi who produced an important theoretical work known as Cameral science on the formulation of police. Foucault cites Magdalene Humpert author of Bibliographie der Kameralwissenschaften (1937) in which the author makes note of a substantial bibliography was produced of over 4000 pieces of the practice of Polizeiwissenschaft however, this maybe a mistranslation of Foucault's own work the actual source of Magdalene Humpert states over 14,000 items were produced from the 16th century dates ranging from 1520-1850.\n",
      "####################\n",
      "UNANS {'rc': 'B-MISC'}\n",
      "{}\n",
      "What is a likely problem of coreless RC motors?\n",
      "Because the rotor is much lighter in weight (mass) than a conventional rotor formed from copper windings on steel laminations, the rotor can accelerate much more rapidly, often achieving a mechanical time constant under one ms. This is especially true if the windings use aluminum rather than the heavier copper. But because there is no metal mass in the rotor to act as a heat sink, even small coreless motors must often be cooled by forced air. Overheating might be an issue for coreless DC motor designs.\n",
      "####################\n",
      "UNANS {'famicom': 'B-MISC', 'china': 'B-LOC'}\n",
      "{'famicom': 'B-MISC', 'north': 'B-LOC', 'america': 'B-LOC', 'basic': 'B-MISC', 'nintendo': 'B-ORG', 'advanced': 'B-MISC', 'video': 'I-MISC', 'system': 'I-MISC', 'japan': 'B-LOC', 'entertainment': 'I-MISC', 'avs': 'B-ORG', 'american': 'B-MISC', 'electronic': 'B-ORG', 'games': 'I-ORG'}\n",
      "How many units of the Famicom were sold in China by the beginning of 1985?\n",
      "Subsequent plans to market a Famicom console in North America featuring a keyboard, cassette data recorder, wireless joystick controller and a special BASIC cartridge under the name \"Nintendo Advanced Video System\" likewise never materialized. By the beginning of 1985, the Famicom had sold more than 2.5 million units in Japan and Nintendo soon announced plans to release it in North America as the Advanced Video Entertainment System (AVS) that same year. The American video game press was skeptical that the console could have any success in the region, with the March 1985 issue of Electronic Games magazine stating that \"the videogame market in America has virtually disappeared\" and that \"this could be a miscalculation on Nintendo's part.\"\n",
      "####################\n",
      "UNANS {'royal': 'B-ORG', 'institute': 'I-ORG'}\n",
      "{'riba': 'B-ORG', 'friba': 'B-ORG'}\n",
      "What is still provided by the Royal Institute?\n",
      "The RIBA is a member organisation, with 44,000 members. Chartered Members are entitled to call themselves chartered architects and to append the post-nominals RIBA after their name; Student Members are not permitted to do so. Formerly, fellowships of the institute were granted, although no longer; those who continue to hold this title instead add FRIBA.\n",
      "####################\n",
      "UNANS {'royal': 'B-ORG', 'institute': 'I-ORG'}\n",
      "{'riba': 'B-ORG', 'friba': 'B-ORG'}\n",
      "What is still provided by the Royal Institute?\n",
      "The RIBA is a member organisation, with 44,000 members. Chartered Members are entitled to call themselves chartered architects and to append the post-nominals RIBA after their name; Student Members are not permitted to do so. Formerly, fellowships of the institute were granted, although no longer; those who continue to hold this title instead add FRIBA.\n",
      "####################\n"
     ]
    },
    {
     "name": "stdout",
     "output_type": "stream",
     "text": [
      "5 12\n"
     ]
    }
   ],
   "source": [
    "ent_not_mentioned_ans = 0\n",
    "ent_not_mentioned_unans = 0\n",
    "\n",
    "for ci, qi in sampled_examples_ans:\n",
    "    q = questions[qi]\n",
    "    c = contexts[ci]\n",
    "    cents = get_ents(c)\n",
    "    ents = get_ents(q)\n",
    "    for ent in ents.keys():\n",
    "        if ent not in cents.keys():\n",
    "            ent_not_mentioned_ans += 1\n",
    "            print(\"ANS\", ents)\n",
    "            print(cents)\n",
    "            print(q)\n",
    "            print(c)\n",
    "            print(\"#\"*20)\n",
    "    \n",
    "\n",
    "for ci, qi in sampled_examples_unans:\n",
    "    q = questions[qi]\n",
    "    c = contexts[ci]\n",
    "    ents = get_ents(q)\n",
    "    cents = get_ents(c)\n",
    "    for ent in ents.keys():\n",
    "        if ent not in cents.keys():\n",
    "            ent_not_mentioned_unans += 1\n",
    "            print(\"UNANS\", ents)\n",
    "            print(cents)\n",
    "            print(q)\n",
    "            print(c)\n",
    "            print(\"#\"*20)\n",
    "\n",
    "print(ent_not_mentioned_ans, ent_not_mentioned_unans)"
   ]
  },
  {
   "cell_type": "code",
   "execution_count": null,
   "metadata": {},
   "outputs": [],
   "source": []
  },
  {
   "cell_type": "code",
   "execution_count": null,
   "metadata": {},
   "outputs": [],
   "source": []
  },
  {
   "cell_type": "code",
   "execution_count": null,
   "metadata": {},
   "outputs": [],
   "source": []
  },
  {
   "cell_type": "markdown",
   "metadata": {},
   "source": [
    "# Mask sentences"
   ]
  },
  {
   "cell_type": "code",
   "execution_count": 37,
   "metadata": {},
   "outputs": [],
   "source": [
    "raw_targets = {}\n",
    "for i in range(24):\n",
    "    with open(\"qparts/copy_parts2/parsed_qs_labels%s.pkl\"%str(i), \"rb\") as handle:\n",
    "        raw_targets.update(pickle.load(handle))"
   ]
  },
  {
   "cell_type": "code",
   "execution_count": 43,
   "metadata": {},
   "outputs": [],
   "source": [
    "from pytorch_pretrained_bert.tokenization import BertTokenizer\n",
    "import spacy\n",
    "\n",
    "tokenizer = BertTokenizer.from_pretrained(\"bert-base-uncased\", do_lower_case=True)"
   ]
  },
  {
   "cell_type": "code",
   "execution_count": 77,
   "metadata": {},
   "outputs": [],
   "source": [
    "def x_in_y_int(query, base):\n",
    "    try:\n",
    "        l = len(query)\n",
    "    except TypeError:\n",
    "        l = 1\n",
    "        query = type(base)((query,))\n",
    "\n",
    "    for i in range(len(base)):\n",
    "        if base[i:i + l] == query:\n",
    "            return i\n",
    "    return -1\n",
    "\n",
    "\n",
    "def mask_question(tokens_b, target_span):\n",
    "    span_start = x_in_y_int(target_span, tokens_b)\n",
    "    print(span_start)\n",
    "    if span_start >= 0:\n",
    "        for i in range(span_start, span_start+len(target_span)):\n",
    "            del tokens_b[span_start]\n",
    "        tokens_b.insert(span_start, '[MASK]')\n",
    "    else:\n",
    "        # find first tok\n",
    "        first_tok = tokens_b.index(target_span[0])\n",
    "        for tok in tokens_b:\n",
    "            if tok in target_span:\n",
    "                tokens_b.remove(tok)\n",
    "        tokens_b.insert(first_tok, '[MASK]')\n",
    "    return tokens_b"
   ]
  },
  {
   "cell_type": "code",
   "execution_count": 73,
   "metadata": {},
   "outputs": [
    {
     "name": "stdout",
     "output_type": "stream",
     "text": [
      "In what borough did the Stonewall riots happen?\n",
      "['in', 'what', 'borough']\n",
      "\n",
      "['[MASK]', 'what', 'did', 'the', 'stone', '##wall', 'riots', 'happen', '?']\n"
     ]
    }
   ],
   "source": [
    "for i in random.sample(raw_targets.keys(),1 ):\n",
    "    targs = [word for word, _ in raw_targets[i]]\n",
    "    idx = id2idx[i]\n",
    "    question = questions[idx]\n",
    "    print(question)\n",
    "    targ = random.sample(targs, 1)[0]\n",
    "    print(targ)\n",
    "    print()\n",
    "    print(mask_question(tokenizer.tokenize(question), targ))"
   ]
  },
  {
   "cell_type": "code",
   "execution_count": 78,
   "metadata": {},
   "outputs": [
    {
     "name": "stdout",
     "output_type": "stream",
     "text": [
      "In what borough did the Stonewall riots happen?\n",
      "['in', 'what', 'borough']\n",
      "\n",
      "0\n",
      "['[MASK]', 'did', 'the', 'stone', '##wall', 'riots', 'happen', '?']\n"
     ]
    }
   ],
   "source": [
    "\n",
    "print(question)\n",
    "print(targ)\n",
    "print()\n",
    "print(mask_question(tokenizer.tokenize(question), targ))"
   ]
  },
  {
   "cell_type": "code",
   "execution_count": null,
   "metadata": {},
   "outputs": [],
   "source": []
  },
  {
   "cell_type": "code",
   "execution_count": null,
   "metadata": {},
   "outputs": [],
   "source": []
  },
  {
   "cell_type": "code",
   "execution_count": null,
   "metadata": {},
   "outputs": [],
   "source": []
  },
  {
   "cell_type": "code",
   "execution_count": null,
   "metadata": {},
   "outputs": [],
   "source": []
  },
  {
   "cell_type": "code",
   "execution_count": null,
   "metadata": {},
   "outputs": [],
   "source": []
  },
  {
   "cell_type": "code",
   "execution_count": null,
   "metadata": {},
   "outputs": [],
   "source": []
  },
  {
   "cell_type": "code",
   "execution_count": null,
   "metadata": {},
   "outputs": [],
   "source": []
  },
  {
   "cell_type": "code",
   "execution_count": null,
   "metadata": {},
   "outputs": [],
   "source": []
  },
  {
   "cell_type": "code",
   "execution_count": null,
   "metadata": {},
   "outputs": [],
   "source": []
  },
  {
   "cell_type": "code",
   "execution_count": null,
   "metadata": {},
   "outputs": [],
   "source": []
  },
  {
   "cell_type": "code",
   "execution_count": null,
   "metadata": {},
   "outputs": [],
   "source": []
  },
  {
   "cell_type": "code",
   "execution_count": null,
   "metadata": {},
   "outputs": [],
   "source": []
  }
 ],
 "metadata": {
  "kernelspec": {
   "display_name": "Python 3",
   "language": "python",
   "name": "python3"
  },
  "language_info": {
   "codemirror_mode": {
    "name": "ipython",
    "version": 3
   },
   "file_extension": ".py",
   "mimetype": "text/x-python",
   "name": "python",
   "nbconvert_exporter": "python",
   "pygments_lexer": "ipython3",
   "version": "3.7.2"
  }
 },
 "nbformat": 4,
 "nbformat_minor": 2
}
