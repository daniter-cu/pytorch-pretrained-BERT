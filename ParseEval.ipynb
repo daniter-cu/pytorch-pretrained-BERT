{
 "cells": [
  {
   "cell_type": "code",
   "execution_count": 63,
   "metadata": {},
   "outputs": [],
   "source": [
    "import json\n",
    "import pickle"
   ]
  },
  {
   "cell_type": "code",
   "execution_count": 65,
   "metadata": {},
   "outputs": [],
   "source": [
    "questions = []\n",
    "contexts = []\n",
    "examples = []\n",
    "labels = []\n",
    "id2idx = {}\n",
    "files = [\"dataset/train-v2.0.json\",  \"dataset/dev-v2.0.json\"]\n",
    "for file in files:\n",
    "    with open(file, 'r') as handle:\n",
    "        jdata = json.load(handle)\n",
    "        data = jdata['data']\n",
    "    for i in range(len(data)):\n",
    "        section = data[i]['paragraphs']\n",
    "        for sec in section:\n",
    "            context = sec['context']\n",
    "            contexts.append(context)\n",
    "            qas = sec['qas']\n",
    "            for j in range(len(qas)):\n",
    "                question = qas[j]['question']\n",
    "                is_imp = qas[j]['is_impossible']\n",
    "                qid = qas[j]['id']\n",
    "                questions.append(question)\n",
    "                labels.append(is_imp)\n",
    "                examples.append((len(contexts)-1, len(questions)-1))\n",
    "                id2idx[qid] = len(questions)-1"
   ]
  },
  {
   "cell_type": "code",
   "execution_count": 66,
   "metadata": {},
   "outputs": [],
   "source": [
    "ftmp = \"qparts/copy_parts2/parsed_qs_labels%s.pkl\"\n",
    "parses = {}\n",
    "for i in range(24):\n",
    "    fname = ftmp % str(i)\n",
    "    with open(fname, \"rb\") as f:\n",
    "        data = pickle.load(f)\n",
    "        parses.update(data)"
   ]
  },
  {
   "cell_type": "code",
   "execution_count": 67,
   "metadata": {},
   "outputs": [
    {
     "data": {
      "text/plain": [
       "'56ddde6b9a695914005b9629'"
      ]
     },
     "execution_count": 67,
     "metadata": {},
     "output_type": "execute_result"
    }
   ],
   "source": [
    "list(parses.keys())[1]"
   ]
  },
  {
   "cell_type": "code",
   "execution_count": 68,
   "metadata": {},
   "outputs": [
    {
     "name": "stdout",
     "output_type": "stream",
     "text": [
      "When were the Normans in Normandy?\n",
      "[(['norman', '##s'], ('Normans', 'NNPS')), (['normandy'], ('Normandy', 'NNP')), (['when'], ('When', 'WHADVP'))]\n"
     ]
    }
   ],
   "source": [
    "qid = '56ddde6b9a695914005b9629'\n",
    "i = id2idx[qid]\n",
    "print(questions[i])\n",
    "print(parses[qid])"
   ]
  },
  {
   "cell_type": "markdown",
   "metadata": {},
   "source": [
    "# TODO\n",
    "- Words not included in parse\n",
    "- % of all words caught\n",
    "- % of questions 100% covered\n",
    "- split by answerable and unanswerable"
   ]
  },
  {
   "cell_type": "code",
   "execution_count": 69,
   "metadata": {},
   "outputs": [],
   "source": [
    "from pytorch_pretrained_bert.tokenization import BertTokenizer\n",
    "tokenizer = BertTokenizer.from_pretrained(\"bert-base-uncased\", do_lower_case=True)"
   ]
  },
  {
   "cell_type": "code",
   "execution_count": 70,
   "metadata": {},
   "outputs": [],
   "source": [
    "qtokens = []\n",
    "for q in questions:\n",
    "    qtokens.append(tokenizer.tokenize(q))"
   ]
  },
  {
   "cell_type": "code",
   "execution_count": 71,
   "metadata": {},
   "outputs": [],
   "source": [
    "from collections import Counter"
   ]
  },
  {
   "cell_type": "code",
   "execution_count": 77,
   "metadata": {},
   "outputs": [
    {
     "name": "stdout",
     "output_type": "stream",
     "text": [
      "overflow\n",
      "overflow\n",
      "overflow\n",
      "overflow\n"
     ]
    }
   ],
   "source": [
    "# stats\n",
    "missed_words = Counter()\n",
    "missed_words_ans = Counter()\n",
    "missed_words_unans = Counter()\n",
    "\n",
    "coverage = [0]*21\n",
    "coverage_ans = [0]*21\n",
    "coverage_unans = [0]*21\n",
    "\n",
    "for qid, qparse in parses.items():\n",
    "    idx = id2idx[qid]\n",
    "    q = questions[idx]\n",
    "    label = labels[idx]\n",
    "    toks = qtokens[idx]\n",
    "    all_toks = set(toks)\n",
    "    parsed_toks = set()\n",
    "    for chunk in qparse:\n",
    "        (pt, (_,_)) = chunk\n",
    "        parsed_toks.update(pt)\n",
    "    cov_pct = float(len(parsed_toks)) / len(all_toks)\n",
    "    bucket = int(cov_pct * 100 // 5)\n",
    "    if bucket >= len(coverage):\n",
    "        bucket = 20\n",
    "        print(\"overflow\")\n",
    "    coverage[bucket] += 1\n",
    "    if label == True:\n",
    "        coverage_unans[bucket] += 1\n",
    "    else:\n",
    "        coverage_ans[bucket] += 1\n",
    "    for tok in all_toks:\n",
    "        if tok not in parsed_toks:\n",
    "            missed_words[tok] += 1\n",
    "            if label == True:\n",
    "                missed_words_unans[tok] += 1\n",
    "            else:\n",
    "                missed_words_ans[tok] += 1"
   ]
  },
  {
   "cell_type": "code",
   "execution_count": 78,
   "metadata": {},
   "outputs": [],
   "source": [
    "import numpy as np"
   ]
  },
  {
   "cell_type": "code",
   "execution_count": 79,
   "metadata": {},
   "outputs": [
    {
     "name": "stdout",
     "output_type": "stream",
     "text": [
      "0 %=> 0.00\n",
      "5 %=> 0.00\n",
      "10 %=> 0.00\n",
      "15 %=> 0.00\n",
      "20 %=> 0.02\n",
      "25 %=> 0.08\n",
      "30 %=> 0.22\n",
      "35 %=> 0.44\n",
      "40 %=> 2.03\n",
      "45 %=> 1.10\n",
      "50 %=> 9.01\n",
      "55 %=> 9.26\n",
      "60 %=> 17.57\n",
      "65 %=> 13.98\n",
      "70 %=> 14.29\n",
      "75 %=> 13.83\n",
      "80 %=> 10.49\n",
      "85 %=> 4.30\n",
      "90 %=> 3.02\n",
      "95 %=> 0.07\n",
      "100 %=> 0.31\n"
     ]
    }
   ],
   "source": [
    "for i, num in enumerate(coverage / np.sum(coverage)):\n",
    "    print(i*5,\"%=>\",\"%.2f\"%(num*100))"
   ]
  },
  {
   "cell_type": "code",
   "execution_count": 80,
   "metadata": {},
   "outputs": [
    {
     "name": "stdout",
     "output_type": "stream",
     "text": [
      "0 %=> 0.00\n",
      "5 %=> 0.00\n",
      "10 %=> 0.00\n",
      "15 %=> 0.00\n",
      "20 %=> 0.01\n",
      "25 %=> 0.07\n",
      "30 %=> 0.21\n",
      "35 %=> 0.41\n",
      "40 %=> 2.01\n",
      "45 %=> 1.12\n",
      "50 %=> 9.22\n",
      "55 %=> 9.45\n",
      "60 %=> 17.81\n",
      "65 %=> 14.30\n",
      "70 %=> 14.23\n",
      "75 %=> 13.70\n",
      "80 %=> 10.31\n",
      "85 %=> 4.14\n",
      "90 %=> 2.81\n",
      "95 %=> 0.08\n",
      "100 %=> 0.09\n"
     ]
    }
   ],
   "source": [
    "for i, num in enumerate(coverage_ans / np.sum(coverage_ans)):\n",
    "    print(i*5,\"%=>\",\"%.2f\"%(num*100))"
   ]
  },
  {
   "cell_type": "code",
   "execution_count": 81,
   "metadata": {},
   "outputs": [
    {
     "name": "stdout",
     "output_type": "stream",
     "text": [
      "0 %=> 0.00\n",
      "5 %=> 0.00\n",
      "10 %=> 0.00\n",
      "15 %=> 0.00\n",
      "20 %=> 0.03\n",
      "25 %=> 0.09\n",
      "30 %=> 0.22\n",
      "35 %=> 0.50\n",
      "40 %=> 2.06\n",
      "45 %=> 1.05\n",
      "50 %=> 8.61\n",
      "55 %=> 8.92\n",
      "60 %=> 17.11\n",
      "65 %=> 13.38\n",
      "70 %=> 14.39\n",
      "75 %=> 14.07\n",
      "80 %=> 10.80\n",
      "85 %=> 4.60\n",
      "90 %=> 3.40\n",
      "95 %=> 0.04\n",
      "100 %=> 0.72\n"
     ]
    }
   ],
   "source": [
    "for i, num in enumerate(coverage_unans / np.sum(coverage_unans)):\n",
    "    print(i*5,\"%=>\",\"%.2f\"%(num*100))"
   ]
  },
  {
   "cell_type": "code",
   "execution_count": 82,
   "metadata": {},
   "outputs": [
    {
     "data": {
      "text/plain": [
       "[('?', 140724),\n",
       " ('the', 63964),\n",
       " ('of', 27005),\n",
       " ('was', 25118),\n",
       " ('is', 25036),\n",
       " ('did', 24130),\n",
       " ('to', 23356),\n",
       " ('in', 20449),\n",
       " ('a', 14102),\n",
       " ('for', 8071),\n",
       " ('are', 7865),\n",
       " ('does', 7255),\n",
       " (',', 6663),\n",
       " ('were', 5658),\n",
       " ('do', 5096),\n",
       " ('as', 4900),\n",
       " ('with', 4471),\n",
       " ('have', 4367),\n",
       " ('on', 4175),\n",
       " ('from', 4147),\n",
       " ('by', 3943),\n",
       " ('and', 3726),\n",
       " ('be', 3624),\n",
       " ('an', 3326),\n",
       " ('used', 2928)]"
      ]
     },
     "execution_count": 82,
     "metadata": {},
     "output_type": "execute_result"
    }
   ],
   "source": [
    "missed_words.most_common(25)"
   ]
  },
  {
   "cell_type": "code",
   "execution_count": 83,
   "metadata": {},
   "outputs": [
    {
     "data": {
      "text/plain": [
       "[('?', 91666),\n",
       " ('the', 42845),\n",
       " ('of', 18141),\n",
       " ('was', 17199),\n",
       " ('is', 16726),\n",
       " ('did', 16380),\n",
       " ('to', 15400),\n",
       " ('in', 13091),\n",
       " ('a', 9261),\n",
       " ('for', 5512),\n",
       " (',', 5157),\n",
       " ('are', 5080),\n",
       " ('does', 4732),\n",
       " ('were', 3967),\n",
       " ('as', 3308),\n",
       " ('do', 3137),\n",
       " ('with', 3064),\n",
       " ('on', 2857),\n",
       " ('have', 2765),\n",
       " ('from', 2686),\n",
       " ('by', 2600),\n",
       " ('and', 2497),\n",
       " ('be', 2437),\n",
       " ('an', 2163),\n",
       " ('used', 1896)]"
      ]
     },
     "execution_count": 83,
     "metadata": {},
     "output_type": "execute_result"
    }
   ],
   "source": [
    "missed_words_ans.most_common(25)"
   ]
  },
  {
   "cell_type": "code",
   "execution_count": 84,
   "metadata": {},
   "outputs": [
    {
     "data": {
      "text/plain": [
       "[('?', 49058),\n",
       " ('the', 21119),\n",
       " ('of', 8864),\n",
       " ('is', 8310),\n",
       " ('to', 7956),\n",
       " ('was', 7919),\n",
       " ('did', 7750),\n",
       " ('in', 7358),\n",
       " ('a', 4841),\n",
       " ('are', 2785),\n",
       " ('for', 2559),\n",
       " ('does', 2523),\n",
       " ('do', 1959),\n",
       " ('were', 1691),\n",
       " ('have', 1602),\n",
       " ('as', 1592),\n",
       " (',', 1506),\n",
       " ('from', 1461),\n",
       " ('with', 1407),\n",
       " ('by', 1343),\n",
       " ('on', 1318),\n",
       " ('and', 1229),\n",
       " ('be', 1187),\n",
       " ('has', 1164),\n",
       " ('an', 1163)]"
      ]
     },
     "execution_count": 84,
     "metadata": {},
     "output_type": "execute_result"
    }
   ],
   "source": [
    "missed_words_unans.most_common(25)"
   ]
  },
  {
   "cell_type": "code",
   "execution_count": 85,
   "metadata": {},
   "outputs": [],
   "source": [
    "import spacy\n",
    "nlp = spacy.load(\"en_core_web_sm\")\n"
   ]
  },
  {
   "cell_type": "code",
   "execution_count": 86,
   "metadata": {},
   "outputs": [
    {
     "name": "stdout",
     "output_type": "stream",
     "text": [
      "didn 394\n",
      "wasn 332\n",
      "responsible 293\n",
      "able 267\n",
      "doesn 265\n",
      "isn 262\n",
      "use 252\n",
      "like 227\n",
      "order 218\n",
      "end 203\n",
      "t 184\n",
      "##s 165\n",
      "don 162\n",
      "present 138\n",
      "aren 130\n",
      "longer 129\n",
      "work 126\n",
      "non 122\n",
      "common 119\n",
      "start 115\n",
      "available 108\n",
      "open 107\n",
      "weren 105\n",
      "similar 103\n",
      "outside 99\n",
      "rank 98\n",
      "popular 94\n",
      "different 91\n",
      "important 90\n",
      "near 87\n",
      "un 84\n",
      "cause 82\n",
      "help 78\n",
      "claim 75\n",
      "form 72\n",
      "state 69\n",
      "likely 69\n",
      "increase 68\n",
      "rule 63\n",
      "kind 62\n",
      "necessary 59\n",
      "couldn 52\n",
      "unable 50\n",
      "mean 48\n",
      "lead 48\n",
      "possible 47\n",
      "support 47\n",
      "change 46\n",
      "title 46\n",
      "despite 45\n",
      "inside 45\n",
      "##e 45\n",
      "hold 43\n",
      "better 43\n",
      "main 42\n",
      "date 42\n",
      "famous 41\n",
      "produce 41\n",
      "easy 40\n",
      "lack 40\n"
     ]
    }
   ],
   "source": [
    "for tok, count in missed_words.most_common(200):\n",
    "    if tok not in nlp.vocab or (not nlp.vocab[tok].is_stop and not nlp.vocab[tok].is_punct):\n",
    "        print(tok,count)"
   ]
  },
  {
   "cell_type": "code",
   "execution_count": 87,
   "metadata": {},
   "outputs": [
    {
     "name": "stdout",
     "output_type": "stream",
     "text": [
      "responsible 209\n",
      "use 174\n",
      "able 172\n",
      "like 161\n",
      "order 144\n",
      "end 119\n",
      "present 112\n",
      "##s 110\n",
      "work 86\n",
      "open 85\n",
      "available 75\n",
      "rank 73\n",
      "common 72\n",
      "similar 70\n",
      "different 66\n",
      "start 65\n",
      "important 63\n",
      "popular 59\n",
      "near 56\n",
      "claim 55\n",
      "cause 53\n",
      "likely 53\n",
      "form 51\n",
      "didn 50\n",
      "outside 49\n",
      "increase 47\n",
      "kind 46\n",
      "state 44\n",
      "rule 43\n",
      "doesn 42\n",
      "t 42\n",
      "don 39\n",
      "help 39\n",
      "title 39\n",
      "necessary 37\n",
      "hold 36\n",
      "date 35\n",
      "despite 34\n",
      "better 32\n",
      "change 32\n",
      "main 31\n",
      "un 31\n",
      "famous 31\n",
      "mean 31\n",
      "nickname 31\n",
      "##e 30\n",
      "lead 30\n",
      "possible 30\n",
      "job 30\n",
      "air 30\n",
      "offer 29\n",
      "produce 29\n",
      "couldn 29\n",
      "travel 28\n",
      "profession 28\n",
      "share 28\n",
      "partner 28\n",
      "best 27\n",
      "experience 27\n",
      "support 26\n"
     ]
    }
   ],
   "source": [
    "for tok, count in missed_words_ans.most_common(200):\n",
    "    if tok not in nlp.vocab or (not nlp.vocab[tok].is_stop and not nlp.vocab[tok].is_punct):\n",
    "        print(tok,count)"
   ]
  },
  {
   "cell_type": "code",
   "execution_count": 88,
   "metadata": {},
   "outputs": [
    {
     "name": "stdout",
     "output_type": "stream",
     "text": [
      "didn 344\n",
      "wasn 309\n",
      "isn 237\n",
      "doesn 223\n",
      "t 142\n",
      "don 123\n",
      "aren 110\n",
      "non 104\n",
      "longer 103\n",
      "weren 97\n",
      "able 95\n",
      "responsible 84\n",
      "end 84\n",
      "use 78\n",
      "order 74\n",
      "like 66\n",
      "##s 55\n",
      "un 53\n",
      "outside 50\n",
      "start 50\n",
      "common 47\n",
      "work 40\n",
      "help 39\n",
      "popular 35\n",
      "available 33\n",
      "similar 33\n",
      "near 31\n",
      "unable 31\n",
      "cause 29\n",
      "easy 27\n",
      "important 27\n",
      "present 26\n",
      "state 25\n",
      "different 25\n",
      "rank 25\n",
      "smallest 24\n",
      "inside 24\n",
      "couldn 23\n",
      "di 23\n",
      "necessary 22\n",
      "open 22\n",
      "unknown 22\n",
      "increase 21\n",
      "form 21\n",
      "support 21\n",
      "worth 21\n",
      "dependent 20\n",
      "rule 20\n",
      "wouldn 20\n",
      "claim 20\n",
      "##vent 18\n",
      "impossible 18\n",
      "lead 18\n",
      "hasn 18\n",
      "separate 18\n",
      "mean 17\n",
      "possible 17\n",
      "kind 16\n",
      "unpopular 16\n",
      "lack 16\n",
      "likely 16\n",
      "s 15\n",
      "difficult 15\n",
      "uncommon 15\n",
      "##e 15\n"
     ]
    }
   ],
   "source": [
    "for tok, count in missed_words_unans.most_common(200):\n",
    "    if tok not in nlp.vocab or (not nlp.vocab[tok].is_stop and not nlp.vocab[tok].is_punct):\n",
    "        print(tok,count)"
   ]
  },
  {
   "cell_type": "markdown",
   "metadata": {},
   "source": [
    "# TODO: Fix up all the \"isn't doesn't wasn't couldn't don't etc. above\""
   ]
  },
  {
   "cell_type": "markdown",
   "metadata": {},
   "source": [
    "# What do sentences look like in different coverage zones"
   ]
  },
  {
   "cell_type": "code",
   "execution_count": 90,
   "metadata": {},
   "outputs": [],
   "source": [
    "# stats\n",
    "missed_words = Counter()\n",
    "missed_words_ans = Counter()\n",
    "missed_words_unans = Counter()\n",
    "\n",
    "coverage = [0]*21\n",
    "coverage_ans = [0]*21\n",
    "coverage_unans = [0]*21\n",
    "\n",
    "coverage_examples = {}\n",
    "\n",
    "for qid, qparse in parses.items():\n",
    "    idx = id2idx[qid]\n",
    "    q = questions[idx]\n",
    "    label = labels[idx]\n",
    "    toks = qtokens[idx]\n",
    "    all_toks = set(toks)\n",
    "    parsed_toks = set()\n",
    "    for chunk in qparse:\n",
    "        (pt, (_,_)) = chunk\n",
    "        parsed_toks.update(pt)\n",
    "    cov_pct = float(len(parsed_toks)) / len(all_toks)\n",
    "    bucket = int(cov_pct * 100 // 5)\n",
    "    if bucket > 20:\n",
    "        bucket = 20\n",
    "    if bucket not in coverage_examples:\n",
    "        coverage_examples[bucket] = []\n",
    "    coverage_examples[bucket].append(qid)\n",
    "    coverage[bucket] += 1\n",
    "    if label == True:\n",
    "        coverage_unans[bucket] += 1\n",
    "    else:\n",
    "        coverage_ans[bucket] += 1\n",
    "    for tok in all_toks:\n",
    "        if tok not in parsed_toks:\n",
    "            missed_words[tok] += 1\n",
    "            if label == True:\n",
    "                missed_words_unans[tok] += 1\n",
    "            else:\n",
    "                missed_words_ans[tok] += 1"
   ]
  },
  {
   "cell_type": "code",
   "execution_count": 91,
   "metadata": {},
   "outputs": [
    {
     "data": {
      "text/plain": [
       "21"
      ]
     },
     "execution_count": 91,
     "metadata": {},
     "output_type": "execute_result"
    }
   ],
   "source": [
    "len(coverage_examples)"
   ]
  },
  {
   "cell_type": "code",
   "execution_count": 92,
   "metadata": {},
   "outputs": [],
   "source": [
    "import random"
   ]
  },
  {
   "cell_type": "code",
   "execution_count": 94,
   "metadata": {},
   "outputs": [
    {
     "name": "stdout",
     "output_type": "stream",
     "text": [
      "0 %\n",
      "Too few samples... skipping.\n",
      "5 %\n",
      "Too few samples... skipping.\n",
      "10 %\n",
      "Too few samples... skipping.\n",
      "15 %\n",
      "False => The goal is to get how  many residents to sign up?\n",
      "[(['goal'], ('goal', 'NN')), (['sign'], ('sign', 'VB'))]\n",
      "~~~~~~~~~~~~~~~~~~~~\n",
      "False => What did the quake measure?\n",
      "[(['what'], ('What', 'WHNP'))]\n",
      "~~~~~~~~~~~~~~~~~~~~\n",
      "False => How idealistic were samurai?\n",
      "[(['samurai'], ('samurai', 'NN'))]\n",
      "~~~~~~~~~~~~~~~~~~~~\n",
      "True => What is either allophonic or a cluster?\n",
      "[(['cluster'], ('cluster', 'NN')), (['what'], ('What', 'WHNP'))]\n",
      "~~~~~~~~~~~~~~~~~~~~\n",
      "True => The flow within what is multidirectional?\n",
      "[(['flow'], ('flow', 'NN')), (['what'], ('what', 'WHNP'))]\n",
      "~~~~~~~~~~~~~~~~~~~~\n",
      "####################\n",
      "20 %\n",
      "False => Bermuda is closest (in nautical miles) to which US state?\n",
      "[(['nautical', 'miles'], ('nautical miles', 'NP')), (['bermuda'], ('Bermuda', 'NN'))]\n",
      "~~~~~~~~~~~~~~~~~~~~\n",
      "False => Did that used to have a different name?\n",
      "[(['different', 'name'], ('different name', 'NP')), ([], ('', 'NP'))]\n",
      "~~~~~~~~~~~~~~~~~~~~\n",
      "True => What has been undesigned to help with the gallery?\n",
      "[(['help'], ('help', 'VB')), (['gallery'], ('gallery', 'NP')), (['what'], ('What', 'WHNP'))]\n",
      "~~~~~~~~~~~~~~~~~~~~\n",
      "True => What does this allow the to remain undistinguished from?\n",
      "[(['allow'], ('allow', 'VB')), (['remain'], ('remain', 'VB')), (['what'], ('What', 'WHNP'))]\n",
      "~~~~~~~~~~~~~~~~~~~~\n",
      "True => What does Yoga state is unachievable?\n",
      "[(['yoga'], ('Yoga', 'NN')), (['what'], ('What', 'WHNP'))]\n",
      "~~~~~~~~~~~~~~~~~~~~\n",
      "####################\n",
      "25 %\n",
      "False => What can be used to make glass less refractive?\n",
      "[(['glass'], ('glass', 'NN')), (['ref'], ('refractive', 'JJ')), (['what'], ('What', 'WHNP'))]\n",
      "~~~~~~~~~~~~~~~~~~~~\n",
      "False => What does WHO recommend to do?\n",
      "[(['recommend'], ('recommend', 'VB')), (['what'], ('What', 'WHNP'))]\n",
      "~~~~~~~~~~~~~~~~~~~~\n",
      "True => What are sometimes allophonic?\n",
      "[(['sometimes'], ('sometimes', 'RB')), (['what'], ('What', 'WHNP'))]\n",
      "~~~~~~~~~~~~~~~~~~~~\n",
      "True => How many non-random rounds are in the tournament?\n",
      "[(['non'], ('non', 'AFX')), (['rounds'], ('rounds', 'NNS')), (['tournament'], ('tournament', 'NN'))]\n",
      "~~~~~~~~~~~~~~~~~~~~\n",
      "False => What equation an determine an antennas effectiveness?\n",
      "[(['what', 'equation'], ('What equation', 'WHNP'))]\n",
      "~~~~~~~~~~~~~~~~~~~~\n",
      "####################\n",
      "30 %\n",
      "False => How large of a group in society use Sanskrit?\n",
      "[(['society'], ('society', 'NN')), (['sanskrit'], ('Sanskrit', 'NNP')), (['group'], ('group', 'NP'))]\n",
      "~~~~~~~~~~~~~~~~~~~~\n",
      "True => Alsace is anti- what?\n",
      "[(['alsace'], ('Alsace', 'NNP')), (['what'], ('what', 'WHNP'))]\n",
      "~~~~~~~~~~~~~~~~~~~~\n",
      "False => Which party would the newspaper endorse?\n",
      "[(['newspaper'], ('newspaper', 'NN')), (['which', 'party'], ('Which party', 'WHNP'))]\n",
      "~~~~~~~~~~~~~~~~~~~~\n",
      "True => IP is like what other kind of property?\n",
      "[(['like'], ('like', 'IN')), (['property'], ('property', 'NN')), (['ip'], ('IP', 'NP'))]\n",
      "~~~~~~~~~~~~~~~~~~~~\n",
      "False => What characteristic would be better if it were steady?\n",
      "[(['it'], ('it', 'NP')), (['what', 'characteristic'], ('What characteristic', 'WHNP'))]\n",
      "~~~~~~~~~~~~~~~~~~~~\n",
      "####################\n",
      "35 %\n",
      "False => What structure did an article contemplate could have caused the quake?\n",
      "[(['article'], ('article', 'NN')), (['quake'], ('quake', 'NN')), (['caused'], ('caused', 'VBN')), (['what', 'structure'], ('What structure', 'WHNP'))]\n",
      "~~~~~~~~~~~~~~~~~~~~\n",
      "True => What do restaurants do to keep prices low?\n",
      "[(['restaurants'], ('restaurants', 'NNS')), (['prices'], ('prices', 'NNS')), (['what'], ('What', 'WHNP'))]\n",
      "~~~~~~~~~~~~~~~~~~~~\n",
      "False => Where could the Morrison shelters be used?\n",
      "[(['morrison', 'shelters'], (None, 'NP')), (['where'], ('Where', 'WHADVP'))]\n",
      "~~~~~~~~~~~~~~~~~~~~\n",
      "True => Who was responsible for building The Tower?\n",
      "[(['tower'], ('Tower', 'NNP')), (['building'], ('building', 'VBG')), (['who'], ('Who', 'WHNP'))]\n",
      "~~~~~~~~~~~~~~~~~~~~\n",
      "True => What is played to keep the music from becoming repetitive?\n",
      "[(['music'], ('music', 'NN')), (['repetitive'], ('repetitive', 'JJ')), (['played'], ('played', 'VBN')), (['what'], ('What', 'WHNP'))]\n",
      "~~~~~~~~~~~~~~~~~~~~\n",
      "####################\n",
      "40 %\n",
      "False => What containers are used for melting?\n",
      "[(['melting'], ('melting', 'VBG')), (['what', 'containers'], ('What containers', 'WHNP'))]\n",
      "~~~~~~~~~~~~~~~~~~~~\n",
      "False => When did Detroit file for bankruptcy?\n",
      "[(['detroit'], ('Detroit', 'NNP')), (['bankruptcy'], ('bankruptcy', 'NN')), (['when'], ('When', 'WHADVP'))]\n",
      "~~~~~~~~~~~~~~~~~~~~\n",
      "False => As a person gets older, what does the skin produce less of?\n",
      "[(['produce', 'less'], (None, 'VP')), (['person'], ('person', 'NN')), (['skin'], ('skin', 'NN')), (['gets'], ('gets', 'VBZ')), (['what'], ('what', 'WHNP'))]\n",
      "~~~~~~~~~~~~~~~~~~~~\n",
      "False => Which Basin did the Han lose authority of?\n",
      "[(['han'], ('Han', 'NNP')), (['authority'], ('authority', 'NP')), (['which', 'basin'], (None, 'WHNP'))]\n",
      "~~~~~~~~~~~~~~~~~~~~\n",
      "False => Who was in control of Estonia before the Germans?\n",
      "[(['estonia'], ('Estonia', 'NNP')), (['germans'], ('Germans', 'NNPS')), (['control'], ('control', 'NP')), (['who'], ('Who', 'WHNP'))]\n",
      "~~~~~~~~~~~~~~~~~~~~\n",
      "####################\n",
      "45 %\n",
      "False => What is believed to have increased temperatures in the   Sahara?\n",
      "[(['increased', 'temperatures'], ('increased temperatures in the Sahara', 'VP')), (['believed'], ('believed', 'VBN')), (['sahara'], ('Sahara', 'NNP')), (['what'], ('What', 'WHNP'))]\n",
      "~~~~~~~~~~~~~~~~~~~~\n",
      "False => A protocol may either amend a previous treaty or do what?\n",
      "[(['previous', 'treaty'], ('a previous treaty', 'NP')), (['protocol'], ('protocol', 'NN')), (['amend'], ('amend', 'VB')), (['what'], ('what', 'WHNP'))]\n",
      "~~~~~~~~~~~~~~~~~~~~\n",
      "True => How many accounts in the are written in the Qur'an about Mary? \n",
      "[(['qur', \"'\", 'an'], (\"Qur'an\", 'NP')), (['accounts'], ('accounts', 'NNS')), (['mary'], ('Mary', 'NNP')), (['written'], ('written', 'VBN')), ([], ('', 'NP'))]\n",
      "~~~~~~~~~~~~~~~~~~~~\n",
      "False => Has the government of Myanmar made life any easier for it's inhabitants ?\n",
      "[(['it', \"'\", 's'], (\"it 's\", 'NP')), (['life', 'any'], ('life any ', 'NP')), (['government'], ('government', 'NN')), (['myanmar'], ('Myanmar', 'NNP'))]\n",
      "~~~~~~~~~~~~~~~~~~~~\n",
      "False => What did the meeting condemn plans by the Europeans to do?\n",
      "[(['plans', 'by'], ('plans by the Europeans to do', 'NP')), (['meeting'], ('meeting', 'NN')), (['europeans'], ('Europeans', 'NP')), (['what'], ('What', 'WHNP'))]\n",
      "~~~~~~~~~~~~~~~~~~~~\n",
      "####################\n",
      "50 %\n",
      "False => Yale also has a theater managed by its' own student, then name?\n",
      "[(['its', \"'\", 'own', 'student'], (None, 'NP')), (['yale'], ('Yale', 'NNP')), (['theater'], ('theater', 'NN')), (['also'], ('also', 'RB')), (['managed'], ('managed', 'VBN'))]\n",
      "~~~~~~~~~~~~~~~~~~~~\n",
      "False => Where is the centre of London said to be located?\n",
      "[(['centre', 'of', 'london'], (None, 'NP')), (['said'], ('said', 'VBD')), (['located'], ('located', 'VBN')), (['where'], ('Where', 'WHADVP'))]\n",
      "~~~~~~~~~~~~~~~~~~~~\n",
      "False => What is the name of the historical site that site next to Yale's campus?\n",
      "[(['yale', \"'\", 's', 'campus'], (\"Yale 's campus\", 'NP')), (['historical', 'site'], (None, 'NP')), (['name'], ('name', 'NP')), (['what'], ('What', 'WHNP'))]\n",
      "~~~~~~~~~~~~~~~~~~~~\n",
      "False => What is the name of the cultural revival associated with Charlemagne?\n",
      "[(['cultural', 'revival'], ('the cultural revival', 'NP')), (['charlemagne'], ('Charlemagne', 'NNP')), (['name'], ('name', 'NP')), (['associated'], ('associated', 'VBN')), (['what'], ('What', 'WHNP'))]\n",
      "~~~~~~~~~~~~~~~~~~~~\n",
      "True => Who did Amnesty International have to pay for one count of pollution?\n",
      "[(['amnesty', 'international'], ('Amnesty International', 'NP')), (['one', 'count'], ('one count', 'NP')), (['pollution'], ('pollution', 'NN')), (['pay'], ('pay', 'VB')), (['who'], ('Who', 'WHNP'))]\n",
      "~~~~~~~~~~~~~~~~~~~~\n",
      "####################\n",
      "55 %\n",
      "False => What did the United States do in response to the reform changes of the 2010 Burma elections ? \n",
      "[(['2010', 'burma', 'elections'], (None, 'NP')), (['united', 'states'], ('the United States', 'NP')), (['reform', 'changes'], ('reform changes', 'NP')), (['response'], ('response', 'NP')), (['what'], ('What', 'WHNP'))]\n",
      "~~~~~~~~~~~~~~~~~~~~\n",
      "True => What is the name of the Act that will govern Norfolk Island?\n",
      "[(['norfolk', 'island'], ('Norfolk Island', 'NP')), (['act'], ('Act', 'NNP')), (['name'], ('name', 'NP')), (['govern'], ('govern', 'VB')), (['what'], ('What', 'WHNP')), (['that'], ('that', 'WHNP'))]\n",
      "~~~~~~~~~~~~~~~~~~~~\n",
      "False => What categories have an aspect of fluidity?\n",
      "[(['fluid', '##ity'], ('fluidity', 'NN')), (['aspect'], ('aspect', 'NP')), (['what', 'categories'], (None, 'WHNP'))]\n",
      "~~~~~~~~~~~~~~~~~~~~\n",
      "False => What is the inverse process called?\n",
      "[(['inverse', 'process'], ('the inverse process', 'NP')), (['called'], ('called', 'VBN')), (['what'], ('What', 'WHNP'))]\n",
      "~~~~~~~~~~~~~~~~~~~~\n",
      "False => What famous bell is in Philadelphia?\n",
      "[(['philadelphia'], ('Philadelphia', 'NNP')), (['what', 'famous', 'bell'], (None, 'WHNP'))]\n",
      "~~~~~~~~~~~~~~~~~~~~\n",
      "####################\n",
      "60 %\n",
      "False => What temporary actions can parties of a treaty take in response to a material violation of a party's obligations?\n",
      "[(['party', \"'\", 's'], (\"party 's\", 'NP')), (['material', 'violation'], ('material violation', 'NP')), (['parties'], ('parties', 'NNS')), (['treaty'], ('treaty', 'NN')), (['obligations'], ('obligations', 'NNS')), (['response'], ('response', 'NP')), (['what', 'temporary', 'actions'], ('What temporary actions', 'WHNP'))]\n",
      "~~~~~~~~~~~~~~~~~~~~\n",
      "False => What was the title of Baji Rao I?\n",
      "[(['ba', '##ji', 'rao', 'i'], ('Baji Rao I', 'NP')), (['title'], ('title', 'NP')), (['what'], ('What', 'WHNP'))]\n",
      "~~~~~~~~~~~~~~~~~~~~\n",
      "False => Which director led off a new age of Iranian film after the 1979 Revolution?\n",
      "[(['new', 'age'], ('a new age', 'NP')), (['iranian', 'film'], (None, 'NP')), (['1979', 'revolution'], (None, 'NP')), (['led'], ('led', 'VBD')), (['which', 'director'], (None, 'WHNP'))]\n",
      "~~~~~~~~~~~~~~~~~~~~\n",
      "True => What two events were celebrated in the late 18th century?\n",
      "[(['late', '18th', 'century'], ('late 18th century', 'NP')), (['celebrated'], ('celebrated', 'VBN')), (['what', 'two', 'events'], ('What two events', 'WHNP'))]\n",
      "~~~~~~~~~~~~~~~~~~~~\n",
      "False => What is one digital network through which a digital stream can be transmitted?\n",
      "[(['one', 'digital', 'network'], (None, 'NP')), (['digital', 'stream'], (None, 'NP')), (['transmitted'], ('transmitted', 'VBN')), (['through', 'which'], ('through which', 'WHPP')), (['what'], ('What', 'WHNP'))]\n",
      "~~~~~~~~~~~~~~~~~~~~\n",
      "####################\n",
      "65 %\n",
      "False => What needs to stay away from loopholes?\n",
      "[(['loop', '##holes'], ('loopholes', 'NNS')), (['needs'], ('needs', 'VBZ')), (['stay'], ('stay', 'VB')), (['away'], ('away', 'RB')), (['what'], ('What', 'WHNP'))]\n",
      "~~~~~~~~~~~~~~~~~~~~\n",
      "False => How much did the Richard Gilder Boathouse cost to construct?\n",
      "[(['richard', 'gil', '##der', 'boat', '##house'], ('the Richard Gilder Boathouse', 'NP')), (['cost'], ('cost', 'VBD')), (['construct'], ('construct', 'VB')), (['how', 'much'], ('How much', 'WHNP'))]\n",
      "~~~~~~~~~~~~~~~~~~~~\n",
      "False => Where did travelers early in the Middle Ages often find lodgings?\n",
      "[(['middle', 'ages'], ('the Middle Ages', 'NP')), (['lodging', '##s'], ('lodgings', 'NP')), (['early'], ('early', 'RB')), (['travelers'], ('travelers', 'NP')), (['often'], ('often', 'RB')), (['find'], ('find', 'VBP')), (['where'], ('Where', 'WHADVP'))]\n",
      "~~~~~~~~~~~~~~~~~~~~\n",
      "False => How many satellites will be used to test a new system of navigation signaling?\n",
      "[(['new', 'system', 'of', 'navigation', 'signaling'], (None, 'NP')), (['how', 'many', 'satellites', 'will'], (None, 'SPTK')), (['test'], ('test', 'VB'))]\n",
      "~~~~~~~~~~~~~~~~~~~~\n",
      "False => What has recently been discovered in the thousands, especially from examining fresh vegetables?\n",
      "[(['recently', 'been', 'discovered', 'in'], (None, 'SQ')), (['fresh', 'vegetables'], ('fresh vegetables', 'NP')), (['thousands'], ('thousands', 'NNS')), (['especially'], ('especially', 'RB')), (['examining'], ('examining', 'VBG')), (['what'], ('What', 'WHNP'))]\n",
      "~~~~~~~~~~~~~~~~~~~~\n",
      "####################\n",
      "70 %\n",
      "False => After the Rebellion who administered the British provinces of India?\n",
      "[(['british', 'provinces', 'of', 'india'], (None, 'NP')), (['rebellion'], ('Rebellion', 'NNP')), (['administered'], ('administered', 'VBD')), (['who'], ('who', 'WHNP'))]\n",
      "~~~~~~~~~~~~~~~~~~~~\n",
      "False => In November 2006, The Times changed its font to what new font typeface?\n",
      "[(['in', 'november', '2006'], (None, 'PP')), (['its', 'font'], (None, 'NP')), (['times'], ('Times', 'NNP')), (['changed'], ('changed', 'VBD')), (['what', 'new', 'font', 'type', '##face'], (None, 'WHNP'))]\n",
      "~~~~~~~~~~~~~~~~~~~~\n",
      "True => Which Soviet Foreign Minister lost his job because of his unfavorable attitude towards the west?\n",
      "[(['his', 'un', '##fa', '##vor', '##able', 'attitude'], ('his unfavorable attitude', 'NP')), (['his', 'job'], ('his job', 'NP')), (['lost'], ('lost', 'VBD')), (['west'], ('west', 'NP')), (['which', 'soviet', 'foreign', 'minister'], (None, 'WHNP'))]\n",
      "~~~~~~~~~~~~~~~~~~~~\n",
      "False => What were Protestant Christians fleeing from?\n",
      "[(['were', 'protestant', 'christians', 'fleeing'], (None, 'SQ')), (['what'], ('What', 'WHNP'))]\n",
      "~~~~~~~~~~~~~~~~~~~~\n",
      "False => How many people died in the bombing of Hamburg?\n",
      "[(['bombing', 'of', 'hamburg'], (None, 'NP')), (['died'], ('died', 'VBD')), (['how', 'many', 'people'], ('How many people', 'WHNP'))]\n",
      "~~~~~~~~~~~~~~~~~~~~\n",
      "####################\n",
      "75 %\n",
      "False => Where is the furthest-inland oceangoing port in the US?\n",
      "[(['fur', '##thest', '-', 'inland', 'ocean', '##going', 'port', 'in'], (None, 'SPTK')), (['us'], ('US', 'NP')), (['where'], ('Where', 'WHADVP'))]\n",
      "~~~~~~~~~~~~~~~~~~~~\n",
      "False => Why are specific seasons for bow hunting established?\n",
      "[(['specific', 'seasons', 'for', 'bow', 'hunting'], (None, 'NP')), (['established'], ('established', 'VBN')), (['why'], ('Why', 'WHADVP'))]\n",
      "~~~~~~~~~~~~~~~~~~~~\n",
      "False => What ranking did the Greek national football team hold in 2014.\n",
      "[(['greek', 'national', 'football', 'team'], ('the Greek national football team', 'NP')), (['in', '2014'], (None, 'PP')), (['hold'], ('hold', 'VBP')), (['what', 'ranking'], (None, 'WHNP'))]\n",
      "~~~~~~~~~~~~~~~~~~~~\n",
      "False => Who did Churchill appoint to Cabinet that the King did not like?\n",
      "[(['did', 'not'], ('did not', 'RB')), (['churchill'], ('Churchill', 'NNP')), (['appoint'], ('appoint', 'VB')), (['cabinet'], ('Cabinet', 'NNP')), (['king'], ('King', 'NNP')), (['like'], ('like', 'VB')), (['who'], ('Who', 'WHNP')), (['that'], ('that', 'WHNP'))]\n",
      "~~~~~~~~~~~~~~~~~~~~\n",
      "False => What is it called when parasites need their host to live?\n",
      "[(['their', 'host'], ('their host', 'NP')), (['parasites'], ('parasites', 'NNS')), (['live'], ('live', 'VB')), (['it'], ('it', 'NP')), (['called'], ('called', 'VBN')), (['need'], ('need', 'VBP')), (['what'], ('What', 'WHNP')), (['when'], ('when', 'WHADVP'))]\n",
      "~~~~~~~~~~~~~~~~~~~~\n",
      "####################\n",
      "80 %\n",
      "False => In the case Geven v Land Nordrhein-Westfalen, how many hours was the Dutch woman in question working in Germany?\n",
      "[(['ge', '##ven', 'v', 'land', 'nord', '##rh', '##ein', '-', 'west', '##fa', '##len'], (None, 'FRAG')), (['dutch', 'woman'], ('the Dutch woman', 'NP')), (['in', 'germany'], (None, 'PP')), (['case'], ('case', 'NN')), (['working'], ('working', 'VBG')), (['question'], ('question', 'NP')), (['how', 'many', 'hours'], (None, 'WHNP'))]\n",
      "~~~~~~~~~~~~~~~~~~~~\n",
      "False => What technological ability with regards to detection is currently available? \n",
      "[(['currently', 'available'], ('is currently available', 'VP')), (['what', 'technological', 'ability', 'with', 'regards', 'to', 'detection'], (None, 'WHNP'))]\n",
      "~~~~~~~~~~~~~~~~~~~~\n",
      "False => Maverick became a wholly owned  subsidiary of which company?\n",
      "[(['became', 'a', 'wholly', 'owned', 'subsidiary'], (None, 'VP')), (['which', 'company'], (None, 'NP')), (['maverick'], ('Maverick', 'NNP'))]\n",
      "~~~~~~~~~~~~~~~~~~~~\n",
      "False => Which two entities in Medieval France had police duties?\n",
      "[(['police', 'duties'], ('police duties', 'NP')), (['which', 'two', 'entities', 'in', 'medieval', 'france'], (None, 'WHNP'))]\n",
      "~~~~~~~~~~~~~~~~~~~~\n",
      "True => The body and soul's interaction takes place when?\n",
      "[(['body', 'and', 'soul', \"'\", 's'], (None, 'NP')), (['takes', 'place'], (None, 'VP')), (['interaction'], ('interaction', 'NN')), (['when'], ('when', 'WHADVP'))]\n",
      "~~~~~~~~~~~~~~~~~~~~\n",
      "####################\n",
      "85 %\n",
      "False => Who returned to Mexico to fight Huerta?\n",
      "[(['returned', 'to', 'mexico', 'to', 'fight', 'hue', '##rta'], (None, 'VP')), (['who'], ('Who', 'WHNP'))]\n",
      "~~~~~~~~~~~~~~~~~~~~\n",
      "False => When did Kant publish one of the most influential works in the history of the philosophy of space and time.\n",
      "[(['one', 'of', 'the', 'most', 'influential', 'works', 'in', 'the', 'history', 'of', 'the', 'philosophy', 'of', 'space', 'and', 'time'], (None, 'NP')), (['kant'], ('Kant', 'NNP')), (['publish'], ('publish', 'VB')), (['when'], ('When', 'WHADVP'))]\n",
      "~~~~~~~~~~~~~~~~~~~~\n",
      "True => What is Gregory of Nazianzus feast day in Western Christianity?\n",
      "[(['gregory', 'of', 'nazi', '##an', '##zu', '##s', 'feast', 'day'], (None, 'SPTK')), (['in', 'western', 'christianity'], (None, 'PP')), (['what'], ('What', 'WHNP'))]\n",
      "~~~~~~~~~~~~~~~~~~~~\n",
      "False => Who created the crystalline silicon solar cell?\n",
      "[(['created', 'the', 'crystalline', 'silicon', 'solar', 'cell'], (None, 'VP')), (['who'], ('Who', 'WHNP'))]\n",
      "~~~~~~~~~~~~~~~~~~~~\n",
      "False => Which epithet has historically been associated with ambiguous?\n",
      "[(['has', 'historically', 'been', 'associated', 'with'], (None, 'VP')), (['ambiguous'], ('ambiguous', 'JJ')), (['which', 'epithet'], (None, 'WHNP'))]\n",
      "~~~~~~~~~~~~~~~~~~~~\n",
      "####################\n",
      "90 %\n",
      "False => Which insect manufactures it's own toxins?\n",
      "[(['own', 'toxin', '##s'], (\"it 's own toxins\", 'NP')), (['it', \"'\", 's'], (\"it 's\", 'NP')), (['manufactures'], ('manufactures', 'VBZ')), (['which', 'insect'], ('Which insect', 'WHNP'))]\n",
      "~~~~~~~~~~~~~~~~~~~~\n",
      "True => Which Belgian footballer claimed that he should not be able to transfer from R.F.C. de Liege to USL Dunkerque?\n",
      "[(['be', 'able', 'to', 'transfer', 'from', 'r', '.', 'f', '.', 'c', '.', 'de', 'liege', 'to', 'usl', 'dun', '##ker', '##que'], (None, 'VP')), (['claimed', 'that', 'he', 'should'], (None, 'VP')), (['which', 'belgian', 'footballer'], (None, 'WHNP'))]\n",
      "~~~~~~~~~~~~~~~~~~~~\n",
      "False => What has the potential to reduce the transmission bandwidth and storage requirements of audio data?\n",
      "[(['has', 'the', 'potential', 'to', 'reduce', 'the', 'transmission', 'bandwidth', 'and', 'storage', 'requirements', 'of', 'audio', 'data'], (None, 'VP')), (['what'], ('What', 'WHNP'))]\n",
      "~~~~~~~~~~~~~~~~~~~~\n",
      "True =>  Which of the geologic faults run through the center of Texas?\n",
      "[(['through', 'the', 'center'], (None, 'PP')), (['run'], ('run', 'VBP')), (['texas'], ('Texas', 'NP')), (['which', 'of', 'the', 'geologic', 'faults'], (None, 'WHNP'))]\n",
      "~~~~~~~~~~~~~~~~~~~~\n",
      "False => What type of birds go into a nightly state of torpor?\n",
      "[(['go', 'into', 'a', 'nightly', 'state', 'of', 'tor', '##por'], (None, 'VP')), (['what', 'type', 'of', 'birds'], (None, 'WHNP'))]\n",
      "~~~~~~~~~~~~~~~~~~~~\n",
      "####################\n",
      "95 %\n",
      "False => AAC, mp3PRO and MP2 are all members of the same technological family as which other lossy format?\n",
      "[(['aa', '##c', ',', 'mp3', '##pro', 'and', 'mp', '##2', 'are', 'all', 'members', 'of', 'the', 'same', 'technological', 'family'], (None, 'SPTK')), (['as', 'which', 'other', 'loss', '##y', 'format'], (None, 'WHPP'))]\n",
      "~~~~~~~~~~~~~~~~~~~~\n",
      "False => Which two wrote Cultural studies [were] grounded in a pragmatic, liberal-pluralist tradition?\n",
      "[(['cultural', 'studies', '[', 'were', ']', 'grounded', 'in', 'a', 'pr', '##ag', '##matic', ',', 'liberal', '-', 'plural', '##ist', 'tradition'], (None, 'S')), (['wrote'], ('wrote', 'VBD')), (['which', 'two'], ('Which two', 'WHNP'))]\n",
      "~~~~~~~~~~~~~~~~~~~~\n",
      "False => The terms \"Near East\" and \"Far East\" referring to areas of the globe in or contiguous to the former British Empire and the neighboring colonies fit together as a pair based on what? \n",
      "[(['terms', '\"', 'near', 'east', '\"', 'and', '\"', 'far', 'east', '\"', 'referring', 'to', 'areas', 'of', 'the', 'globe', 'in', 'or', 'contiguous', 'to', 'the', 'former', 'british', 'empire', 'and', 'the', 'neighboring', 'colonies'], (None, 'S')), (['fit', 'together', 'as', 'a', 'pair', 'based', 'on'], (None, 'VP')), (['what'], ('what', 'WHNP'))]\n",
      "~~~~~~~~~~~~~~~~~~~~\n",
      "True => What mutualist ectosymbionts clean the barnacles that attach themselves to the jaw of baleen whales?\n",
      "[(['barn', '##acle', '##s', 'that', 'attach', 'themselves', 'to', 'the', 'jaw', 'of', 'bal', '##een', 'whales'], (None, 'NP')), (['clean'], ('clean', 'VBP')), (['what', 'mutual', '##ist', 'ec', '##tos', '##ym', '##bio', '##nts'], (None, 'WHNP'))]\n",
      "~~~~~~~~~~~~~~~~~~~~\n",
      "False => What percent of mortgage lending was made by Community Reinvestment Act covered lenders from 1993 to 1998?\n",
      "[(['what', 'percent', 'of', 'mortgage', 'lending', 'was', 'made', 'by', 'community', 'rein', '##ves', '##tment', 'act'], (None, 'SPTK')), (['from', '1993', 'to', '1998'], (None, 'PP')), (['covered', 'lend', '##ers'], ('Community Reinvestment Act covered lenders', 'NP'))]\n",
      "~~~~~~~~~~~~~~~~~~~~\n",
      "####################\n",
      "100 %\n",
      "True => Whose definition of identity closely follows Liang's\n",
      "[(['whose', 'definition', 'of', 'identity', 'closely', 'follows'], (None, 'SPTK')), (['liang', \"'\", 's'], (None, 'NP'))]\n",
      "~~~~~~~~~~~~~~~~~~~~\n",
      "True => How many of the Pitt's planned expeditions weren't successful?\n",
      "[(['were', 'n', \"'\", 't'], (\"were n't\", 'RB')), (['successful'], ('successful', 'JJ')), (['how', 'many', 'of', 'the', 'pitt', \"'\", 's', 'planned', 'expeditions'], (None, 'WHNP'))]\n",
      "~~~~~~~~~~~~~~~~~~~~\n",
      "True => What groups don't use vocal percussion during worship?\n",
      "[(['do', 'n', \"'\", 't'], (\"do n't\", 'RB')), (['vocal', 'percussion'], ('vocal percussion', 'NP')), (['during', 'worship'], (None, 'PP')), (['use'], ('use', 'VB')), (['what', 'groups'], (None, 'WHNP'))]\n",
      "~~~~~~~~~~~~~~~~~~~~\n",
      "True => What type of steam engine doesn't need valves to direct engines?\n",
      "[(['does', 'n', \"'\", 't'], (\"does n't\", 'RB')), (['valves', 'to', 'direct'], ('valves to direct engines', 'NP')), (['engines'], ('engines', 'NNS')), (['need'], ('need', 'VB')), (['what', 'type', 'of', 'steam', 'engine'], (None, 'WHNP'))]\n",
      "~~~~~~~~~~~~~~~~~~~~\n",
      "True => What family hasn't the Northumberland Vault?\n",
      "[(['has', 'n', \"'\", 't', 'the', 'northumberland', 'vault'], (\"has n't the Northumberland Vault \", 'NP')), (['has', 'n', \"'\", 't'], (\"has n't\", 'RB')), (['northumberland', 'vault'], ('the Northumberland Vault', 'NP')), (['what', 'family'], (None, 'WHNP'))]\n",
      "~~~~~~~~~~~~~~~~~~~~\n",
      "####################\n"
     ]
    }
   ],
   "source": [
    "for key in range(21):\n",
    "    val = coverage_examples[key]\n",
    "    print(key*5, \"%\")\n",
    "    if len(val) < 5:\n",
    "        print(\"Too few samples... skipping.\")\n",
    "        continue\n",
    "    for qid in random.sample(val, 5):\n",
    "        idx = id2idx[qid]\n",
    "        print(labels[idx], \"=>\",questions[idx])\n",
    "        print(parses[qid])\n",
    "        print(\"~\"*20)\n",
    "    print(\"#\"*20)"
   ]
  },
  {
   "cell_type": "code",
   "execution_count": 60,
   "metadata": {},
   "outputs": [
    {
     "name": "stdout",
     "output_type": "stream",
     "text": [
      "d\n"
     ]
    }
   ],
   "source": [
    "for q in questions:\n",
    "    if q == 'd':\n",
    "        print(q)"
   ]
  },
  {
   "cell_type": "code",
   "execution_count": null,
   "metadata": {},
   "outputs": [],
   "source": []
  },
  {
   "cell_type": "code",
   "execution_count": null,
   "metadata": {},
   "outputs": [],
   "source": []
  },
  {
   "cell_type": "code",
   "execution_count": null,
   "metadata": {},
   "outputs": [],
   "source": []
  },
  {
   "cell_type": "code",
   "execution_count": null,
   "metadata": {},
   "outputs": [],
   "source": []
  },
  {
   "cell_type": "code",
   "execution_count": null,
   "metadata": {},
   "outputs": [],
   "source": []
  },
  {
   "cell_type": "code",
   "execution_count": null,
   "metadata": {},
   "outputs": [],
   "source": []
  },
  {
   "cell_type": "code",
   "execution_count": null,
   "metadata": {},
   "outputs": [],
   "source": []
  },
  {
   "cell_type": "code",
   "execution_count": null,
   "metadata": {},
   "outputs": [],
   "source": []
  },
  {
   "cell_type": "code",
   "execution_count": null,
   "metadata": {},
   "outputs": [],
   "source": []
  },
  {
   "cell_type": "code",
   "execution_count": null,
   "metadata": {},
   "outputs": [],
   "source": []
  },
  {
   "cell_type": "code",
   "execution_count": null,
   "metadata": {},
   "outputs": [],
   "source": []
  },
  {
   "cell_type": "code",
   "execution_count": null,
   "metadata": {},
   "outputs": [],
   "source": []
  },
  {
   "cell_type": "code",
   "execution_count": null,
   "metadata": {},
   "outputs": [],
   "source": []
  },
  {
   "cell_type": "code",
   "execution_count": null,
   "metadata": {},
   "outputs": [],
   "source": []
  },
  {
   "cell_type": "code",
   "execution_count": null,
   "metadata": {},
   "outputs": [],
   "source": []
  }
 ],
 "metadata": {
  "kernelspec": {
   "display_name": "Python 3",
   "language": "python",
   "name": "python3"
  },
  "language_info": {
   "codemirror_mode": {
    "name": "ipython",
    "version": 3
   },
   "file_extension": ".py",
   "mimetype": "text/x-python",
   "name": "python",
   "nbconvert_exporter": "python",
   "pygments_lexer": "ipython3",
   "version": "3.7.2"
  }
 },
 "nbformat": 4,
 "nbformat_minor": 2
}
